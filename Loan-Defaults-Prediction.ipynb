{
 "cells": [
  {
   "cell_type": "markdown",
   "metadata": {},
   "source": [
    "# Lending Club Data analysis"
   ]
  },
  {
   "cell_type": "markdown",
   "metadata": {},
   "source": [
    "Plan:\n",
    "* EDA - Exploratory Data Analysis - look at distribution of variables, min, max values, missing values, correlations etc\n",
    "* train-val-test split\n",
    "* fit machine learning models, tune hyperparameters\n",
    "* evaluate - choose appropriate metrics"
   ]
  },
  {
   "cell_type": "markdown",
   "metadata": {},
   "source": [
    "## 1. EDA"
   ]
  },
  {
   "cell_type": "code",
   "execution_count": 1,
   "metadata": {},
   "outputs": [],
   "source": [
    "import pandas as pd\n",
    "import numpy as np\n",
    "import matplotlib.pyplot as plt"
   ]
  },
  {
   "cell_type": "code",
   "execution_count": 2,
   "metadata": {},
   "outputs": [
    {
     "name": "stderr",
     "output_type": "stream",
     "text": [
      "/Users/testuser/anaconda3/lib/python3.6/site-packages/IPython/core/interactiveshell.py:2785: DtypeWarning: Columns (19,55) have mixed types. Specify dtype option on import or set low_memory=False.\n",
      "  interactivity=interactivity, compiler=compiler, result=result)\n"
     ]
    }
   ],
   "source": [
    "raw_data = pd.read_csv(\"loan.csv\")"
   ]
  },
  {
   "cell_type": "code",
   "execution_count": 3,
   "metadata": {},
   "outputs": [
    {
     "data": {
      "text/html": [
       "<div>\n",
       "<style scoped>\n",
       "    .dataframe tbody tr th:only-of-type {\n",
       "        vertical-align: middle;\n",
       "    }\n",
       "\n",
       "    .dataframe tbody tr th {\n",
       "        vertical-align: top;\n",
       "    }\n",
       "\n",
       "    .dataframe thead th {\n",
       "        text-align: right;\n",
       "    }\n",
       "</style>\n",
       "<table border=\"1\" class=\"dataframe\">\n",
       "  <thead>\n",
       "    <tr style=\"text-align: right;\">\n",
       "      <th></th>\n",
       "      <th>id</th>\n",
       "      <th>member_id</th>\n",
       "      <th>loan_amnt</th>\n",
       "      <th>funded_amnt</th>\n",
       "      <th>funded_amnt_inv</th>\n",
       "      <th>term</th>\n",
       "      <th>int_rate</th>\n",
       "      <th>installment</th>\n",
       "      <th>grade</th>\n",
       "      <th>sub_grade</th>\n",
       "      <th>...</th>\n",
       "      <th>total_bal_il</th>\n",
       "      <th>il_util</th>\n",
       "      <th>open_rv_12m</th>\n",
       "      <th>open_rv_24m</th>\n",
       "      <th>max_bal_bc</th>\n",
       "      <th>all_util</th>\n",
       "      <th>total_rev_hi_lim</th>\n",
       "      <th>inq_fi</th>\n",
       "      <th>total_cu_tl</th>\n",
       "      <th>inq_last_12m</th>\n",
       "    </tr>\n",
       "  </thead>\n",
       "  <tbody>\n",
       "    <tr>\n",
       "      <th>0</th>\n",
       "      <td>1077501</td>\n",
       "      <td>1296599</td>\n",
       "      <td>5000.0</td>\n",
       "      <td>5000.0</td>\n",
       "      <td>4975.0</td>\n",
       "      <td>36 months</td>\n",
       "      <td>10.65</td>\n",
       "      <td>162.87</td>\n",
       "      <td>B</td>\n",
       "      <td>B2</td>\n",
       "      <td>...</td>\n",
       "      <td>NaN</td>\n",
       "      <td>NaN</td>\n",
       "      <td>NaN</td>\n",
       "      <td>NaN</td>\n",
       "      <td>NaN</td>\n",
       "      <td>NaN</td>\n",
       "      <td>NaN</td>\n",
       "      <td>NaN</td>\n",
       "      <td>NaN</td>\n",
       "      <td>NaN</td>\n",
       "    </tr>\n",
       "    <tr>\n",
       "      <th>1</th>\n",
       "      <td>1077430</td>\n",
       "      <td>1314167</td>\n",
       "      <td>2500.0</td>\n",
       "      <td>2500.0</td>\n",
       "      <td>2500.0</td>\n",
       "      <td>60 months</td>\n",
       "      <td>15.27</td>\n",
       "      <td>59.83</td>\n",
       "      <td>C</td>\n",
       "      <td>C4</td>\n",
       "      <td>...</td>\n",
       "      <td>NaN</td>\n",
       "      <td>NaN</td>\n",
       "      <td>NaN</td>\n",
       "      <td>NaN</td>\n",
       "      <td>NaN</td>\n",
       "      <td>NaN</td>\n",
       "      <td>NaN</td>\n",
       "      <td>NaN</td>\n",
       "      <td>NaN</td>\n",
       "      <td>NaN</td>\n",
       "    </tr>\n",
       "    <tr>\n",
       "      <th>2</th>\n",
       "      <td>1077175</td>\n",
       "      <td>1313524</td>\n",
       "      <td>2400.0</td>\n",
       "      <td>2400.0</td>\n",
       "      <td>2400.0</td>\n",
       "      <td>36 months</td>\n",
       "      <td>15.96</td>\n",
       "      <td>84.33</td>\n",
       "      <td>C</td>\n",
       "      <td>C5</td>\n",
       "      <td>...</td>\n",
       "      <td>NaN</td>\n",
       "      <td>NaN</td>\n",
       "      <td>NaN</td>\n",
       "      <td>NaN</td>\n",
       "      <td>NaN</td>\n",
       "      <td>NaN</td>\n",
       "      <td>NaN</td>\n",
       "      <td>NaN</td>\n",
       "      <td>NaN</td>\n",
       "      <td>NaN</td>\n",
       "    </tr>\n",
       "    <tr>\n",
       "      <th>3</th>\n",
       "      <td>1076863</td>\n",
       "      <td>1277178</td>\n",
       "      <td>10000.0</td>\n",
       "      <td>10000.0</td>\n",
       "      <td>10000.0</td>\n",
       "      <td>36 months</td>\n",
       "      <td>13.49</td>\n",
       "      <td>339.31</td>\n",
       "      <td>C</td>\n",
       "      <td>C1</td>\n",
       "      <td>...</td>\n",
       "      <td>NaN</td>\n",
       "      <td>NaN</td>\n",
       "      <td>NaN</td>\n",
       "      <td>NaN</td>\n",
       "      <td>NaN</td>\n",
       "      <td>NaN</td>\n",
       "      <td>NaN</td>\n",
       "      <td>NaN</td>\n",
       "      <td>NaN</td>\n",
       "      <td>NaN</td>\n",
       "    </tr>\n",
       "    <tr>\n",
       "      <th>4</th>\n",
       "      <td>1075358</td>\n",
       "      <td>1311748</td>\n",
       "      <td>3000.0</td>\n",
       "      <td>3000.0</td>\n",
       "      <td>3000.0</td>\n",
       "      <td>60 months</td>\n",
       "      <td>12.69</td>\n",
       "      <td>67.79</td>\n",
       "      <td>B</td>\n",
       "      <td>B5</td>\n",
       "      <td>...</td>\n",
       "      <td>NaN</td>\n",
       "      <td>NaN</td>\n",
       "      <td>NaN</td>\n",
       "      <td>NaN</td>\n",
       "      <td>NaN</td>\n",
       "      <td>NaN</td>\n",
       "      <td>NaN</td>\n",
       "      <td>NaN</td>\n",
       "      <td>NaN</td>\n",
       "      <td>NaN</td>\n",
       "    </tr>\n",
       "  </tbody>\n",
       "</table>\n",
       "<p>5 rows × 74 columns</p>\n",
       "</div>"
      ],
      "text/plain": [
       "        id  member_id  loan_amnt  funded_amnt  funded_amnt_inv        term  \\\n",
       "0  1077501    1296599     5000.0       5000.0           4975.0   36 months   \n",
       "1  1077430    1314167     2500.0       2500.0           2500.0   60 months   \n",
       "2  1077175    1313524     2400.0       2400.0           2400.0   36 months   \n",
       "3  1076863    1277178    10000.0      10000.0          10000.0   36 months   \n",
       "4  1075358    1311748     3000.0       3000.0           3000.0   60 months   \n",
       "\n",
       "   int_rate  installment grade sub_grade     ...      total_bal_il il_util  \\\n",
       "0     10.65       162.87     B        B2     ...               NaN     NaN   \n",
       "1     15.27        59.83     C        C4     ...               NaN     NaN   \n",
       "2     15.96        84.33     C        C5     ...               NaN     NaN   \n",
       "3     13.49       339.31     C        C1     ...               NaN     NaN   \n",
       "4     12.69        67.79     B        B5     ...               NaN     NaN   \n",
       "\n",
       "  open_rv_12m  open_rv_24m max_bal_bc all_util total_rev_hi_lim inq_fi  \\\n",
       "0         NaN          NaN        NaN      NaN              NaN    NaN   \n",
       "1         NaN          NaN        NaN      NaN              NaN    NaN   \n",
       "2         NaN          NaN        NaN      NaN              NaN    NaN   \n",
       "3         NaN          NaN        NaN      NaN              NaN    NaN   \n",
       "4         NaN          NaN        NaN      NaN              NaN    NaN   \n",
       "\n",
       "  total_cu_tl inq_last_12m  \n",
       "0         NaN          NaN  \n",
       "1         NaN          NaN  \n",
       "2         NaN          NaN  \n",
       "3         NaN          NaN  \n",
       "4         NaN          NaN  \n",
       "\n",
       "[5 rows x 74 columns]"
      ]
     },
     "execution_count": 3,
     "metadata": {},
     "output_type": "execute_result"
    }
   ],
   "source": [
    "raw_data.head()"
   ]
  },
  {
   "cell_type": "code",
   "execution_count": 4,
   "metadata": {},
   "outputs": [
    {
     "data": {
      "text/html": [
       "<div>\n",
       "<style scoped>\n",
       "    .dataframe tbody tr th:only-of-type {\n",
       "        vertical-align: middle;\n",
       "    }\n",
       "\n",
       "    .dataframe tbody tr th {\n",
       "        vertical-align: top;\n",
       "    }\n",
       "\n",
       "    .dataframe thead th {\n",
       "        text-align: right;\n",
       "    }\n",
       "</style>\n",
       "<table border=\"1\" class=\"dataframe\">\n",
       "  <thead>\n",
       "    <tr style=\"text-align: right;\">\n",
       "      <th></th>\n",
       "      <th>id</th>\n",
       "      <th>member_id</th>\n",
       "      <th>loan_amnt</th>\n",
       "      <th>funded_amnt</th>\n",
       "      <th>funded_amnt_inv</th>\n",
       "      <th>int_rate</th>\n",
       "      <th>installment</th>\n",
       "      <th>annual_inc</th>\n",
       "      <th>dti</th>\n",
       "      <th>delinq_2yrs</th>\n",
       "      <th>...</th>\n",
       "      <th>total_bal_il</th>\n",
       "      <th>il_util</th>\n",
       "      <th>open_rv_12m</th>\n",
       "      <th>open_rv_24m</th>\n",
       "      <th>max_bal_bc</th>\n",
       "      <th>all_util</th>\n",
       "      <th>total_rev_hi_lim</th>\n",
       "      <th>inq_fi</th>\n",
       "      <th>total_cu_tl</th>\n",
       "      <th>inq_last_12m</th>\n",
       "    </tr>\n",
       "  </thead>\n",
       "  <tbody>\n",
       "    <tr>\n",
       "      <th>count</th>\n",
       "      <td>8.873790e+05</td>\n",
       "      <td>8.873790e+05</td>\n",
       "      <td>887379.000000</td>\n",
       "      <td>887379.000000</td>\n",
       "      <td>887379.000000</td>\n",
       "      <td>887379.000000</td>\n",
       "      <td>887379.000000</td>\n",
       "      <td>8.873750e+05</td>\n",
       "      <td>887379.000000</td>\n",
       "      <td>887350.000000</td>\n",
       "      <td>...</td>\n",
       "      <td>21372.000000</td>\n",
       "      <td>18617.000000</td>\n",
       "      <td>21372.000000</td>\n",
       "      <td>21372.000000</td>\n",
       "      <td>21372.000000</td>\n",
       "      <td>21372.000000</td>\n",
       "      <td>8.171030e+05</td>\n",
       "      <td>21372.000000</td>\n",
       "      <td>21372.000000</td>\n",
       "      <td>21372.000000</td>\n",
       "    </tr>\n",
       "    <tr>\n",
       "      <th>mean</th>\n",
       "      <td>3.246513e+07</td>\n",
       "      <td>3.500182e+07</td>\n",
       "      <td>14755.264605</td>\n",
       "      <td>14741.877625</td>\n",
       "      <td>14702.464383</td>\n",
       "      <td>13.246740</td>\n",
       "      <td>436.717127</td>\n",
       "      <td>7.502759e+04</td>\n",
       "      <td>18.157039</td>\n",
       "      <td>0.314442</td>\n",
       "      <td>...</td>\n",
       "      <td>36552.811389</td>\n",
       "      <td>71.535317</td>\n",
       "      <td>1.389060</td>\n",
       "      <td>2.975482</td>\n",
       "      <td>5887.979740</td>\n",
       "      <td>60.831939</td>\n",
       "      <td>3.206862e+04</td>\n",
       "      <td>0.943945</td>\n",
       "      <td>1.537058</td>\n",
       "      <td>1.977307</td>\n",
       "    </tr>\n",
       "    <tr>\n",
       "      <th>std</th>\n",
       "      <td>2.282734e+07</td>\n",
       "      <td>2.411335e+07</td>\n",
       "      <td>8435.455601</td>\n",
       "      <td>8429.897657</td>\n",
       "      <td>8442.106732</td>\n",
       "      <td>4.381867</td>\n",
       "      <td>244.186593</td>\n",
       "      <td>6.469830e+04</td>\n",
       "      <td>17.190626</td>\n",
       "      <td>0.862244</td>\n",
       "      <td>...</td>\n",
       "      <td>43103.833619</td>\n",
       "      <td>23.022862</td>\n",
       "      <td>1.520129</td>\n",
       "      <td>2.631886</td>\n",
       "      <td>5284.701239</td>\n",
       "      <td>20.013254</td>\n",
       "      <td>3.749826e+04</td>\n",
       "      <td>1.446872</td>\n",
       "      <td>2.723339</td>\n",
       "      <td>2.874067</td>\n",
       "    </tr>\n",
       "    <tr>\n",
       "      <th>min</th>\n",
       "      <td>5.473400e+04</td>\n",
       "      <td>7.047300e+04</td>\n",
       "      <td>500.000000</td>\n",
       "      <td>500.000000</td>\n",
       "      <td>0.000000</td>\n",
       "      <td>5.320000</td>\n",
       "      <td>15.670000</td>\n",
       "      <td>0.000000e+00</td>\n",
       "      <td>0.000000</td>\n",
       "      <td>0.000000</td>\n",
       "      <td>...</td>\n",
       "      <td>0.000000</td>\n",
       "      <td>0.000000</td>\n",
       "      <td>0.000000</td>\n",
       "      <td>0.000000</td>\n",
       "      <td>0.000000</td>\n",
       "      <td>0.000000</td>\n",
       "      <td>0.000000e+00</td>\n",
       "      <td>0.000000</td>\n",
       "      <td>0.000000</td>\n",
       "      <td>-4.000000</td>\n",
       "    </tr>\n",
       "    <tr>\n",
       "      <th>25%</th>\n",
       "      <td>9.206643e+06</td>\n",
       "      <td>1.087713e+07</td>\n",
       "      <td>8000.000000</td>\n",
       "      <td>8000.000000</td>\n",
       "      <td>8000.000000</td>\n",
       "      <td>9.990000</td>\n",
       "      <td>260.705000</td>\n",
       "      <td>4.500000e+04</td>\n",
       "      <td>11.910000</td>\n",
       "      <td>0.000000</td>\n",
       "      <td>...</td>\n",
       "      <td>10251.500000</td>\n",
       "      <td>58.600000</td>\n",
       "      <td>0.000000</td>\n",
       "      <td>1.000000</td>\n",
       "      <td>2411.000000</td>\n",
       "      <td>47.700000</td>\n",
       "      <td>1.390000e+04</td>\n",
       "      <td>0.000000</td>\n",
       "      <td>0.000000</td>\n",
       "      <td>0.000000</td>\n",
       "    </tr>\n",
       "    <tr>\n",
       "      <th>50%</th>\n",
       "      <td>3.443327e+07</td>\n",
       "      <td>3.709528e+07</td>\n",
       "      <td>13000.000000</td>\n",
       "      <td>13000.000000</td>\n",
       "      <td>13000.000000</td>\n",
       "      <td>12.990000</td>\n",
       "      <td>382.550000</td>\n",
       "      <td>6.500000e+04</td>\n",
       "      <td>17.650000</td>\n",
       "      <td>0.000000</td>\n",
       "      <td>...</td>\n",
       "      <td>24684.500000</td>\n",
       "      <td>74.900000</td>\n",
       "      <td>1.000000</td>\n",
       "      <td>2.000000</td>\n",
       "      <td>4483.000000</td>\n",
       "      <td>61.900000</td>\n",
       "      <td>2.370000e+04</td>\n",
       "      <td>0.000000</td>\n",
       "      <td>0.000000</td>\n",
       "      <td>2.000000</td>\n",
       "    </tr>\n",
       "    <tr>\n",
       "      <th>75%</th>\n",
       "      <td>5.490814e+07</td>\n",
       "      <td>5.847135e+07</td>\n",
       "      <td>20000.000000</td>\n",
       "      <td>20000.000000</td>\n",
       "      <td>20000.000000</td>\n",
       "      <td>16.200000</td>\n",
       "      <td>572.600000</td>\n",
       "      <td>9.000000e+04</td>\n",
       "      <td>23.950000</td>\n",
       "      <td>0.000000</td>\n",
       "      <td>...</td>\n",
       "      <td>47858.000000</td>\n",
       "      <td>87.600000</td>\n",
       "      <td>2.000000</td>\n",
       "      <td>4.000000</td>\n",
       "      <td>7771.500000</td>\n",
       "      <td>75.200000</td>\n",
       "      <td>3.980000e+04</td>\n",
       "      <td>1.000000</td>\n",
       "      <td>2.000000</td>\n",
       "      <td>3.000000</td>\n",
       "    </tr>\n",
       "    <tr>\n",
       "      <th>max</th>\n",
       "      <td>6.861706e+07</td>\n",
       "      <td>7.354484e+07</td>\n",
       "      <td>35000.000000</td>\n",
       "      <td>35000.000000</td>\n",
       "      <td>35000.000000</td>\n",
       "      <td>28.990000</td>\n",
       "      <td>1445.460000</td>\n",
       "      <td>9.500000e+06</td>\n",
       "      <td>9999.000000</td>\n",
       "      <td>39.000000</td>\n",
       "      <td>...</td>\n",
       "      <td>878459.000000</td>\n",
       "      <td>223.300000</td>\n",
       "      <td>22.000000</td>\n",
       "      <td>43.000000</td>\n",
       "      <td>127305.000000</td>\n",
       "      <td>151.400000</td>\n",
       "      <td>9.999999e+06</td>\n",
       "      <td>17.000000</td>\n",
       "      <td>35.000000</td>\n",
       "      <td>32.000000</td>\n",
       "    </tr>\n",
       "  </tbody>\n",
       "</table>\n",
       "<p>8 rows × 51 columns</p>\n",
       "</div>"
      ],
      "text/plain": [
       "                 id     member_id      loan_amnt    funded_amnt  \\\n",
       "count  8.873790e+05  8.873790e+05  887379.000000  887379.000000   \n",
       "mean   3.246513e+07  3.500182e+07   14755.264605   14741.877625   \n",
       "std    2.282734e+07  2.411335e+07    8435.455601    8429.897657   \n",
       "min    5.473400e+04  7.047300e+04     500.000000     500.000000   \n",
       "25%    9.206643e+06  1.087713e+07    8000.000000    8000.000000   \n",
       "50%    3.443327e+07  3.709528e+07   13000.000000   13000.000000   \n",
       "75%    5.490814e+07  5.847135e+07   20000.000000   20000.000000   \n",
       "max    6.861706e+07  7.354484e+07   35000.000000   35000.000000   \n",
       "\n",
       "       funded_amnt_inv       int_rate    installment    annual_inc  \\\n",
       "count    887379.000000  887379.000000  887379.000000  8.873750e+05   \n",
       "mean      14702.464383      13.246740     436.717127  7.502759e+04   \n",
       "std        8442.106732       4.381867     244.186593  6.469830e+04   \n",
       "min           0.000000       5.320000      15.670000  0.000000e+00   \n",
       "25%        8000.000000       9.990000     260.705000  4.500000e+04   \n",
       "50%       13000.000000      12.990000     382.550000  6.500000e+04   \n",
       "75%       20000.000000      16.200000     572.600000  9.000000e+04   \n",
       "max       35000.000000      28.990000    1445.460000  9.500000e+06   \n",
       "\n",
       "                 dti    delinq_2yrs      ...        total_bal_il  \\\n",
       "count  887379.000000  887350.000000      ...        21372.000000   \n",
       "mean       18.157039       0.314442      ...        36552.811389   \n",
       "std        17.190626       0.862244      ...        43103.833619   \n",
       "min         0.000000       0.000000      ...            0.000000   \n",
       "25%        11.910000       0.000000      ...        10251.500000   \n",
       "50%        17.650000       0.000000      ...        24684.500000   \n",
       "75%        23.950000       0.000000      ...        47858.000000   \n",
       "max      9999.000000      39.000000      ...       878459.000000   \n",
       "\n",
       "            il_util   open_rv_12m   open_rv_24m     max_bal_bc      all_util  \\\n",
       "count  18617.000000  21372.000000  21372.000000   21372.000000  21372.000000   \n",
       "mean      71.535317      1.389060      2.975482    5887.979740     60.831939   \n",
       "std       23.022862      1.520129      2.631886    5284.701239     20.013254   \n",
       "min        0.000000      0.000000      0.000000       0.000000      0.000000   \n",
       "25%       58.600000      0.000000      1.000000    2411.000000     47.700000   \n",
       "50%       74.900000      1.000000      2.000000    4483.000000     61.900000   \n",
       "75%       87.600000      2.000000      4.000000    7771.500000     75.200000   \n",
       "max      223.300000     22.000000     43.000000  127305.000000    151.400000   \n",
       "\n",
       "       total_rev_hi_lim        inq_fi   total_cu_tl  inq_last_12m  \n",
       "count      8.171030e+05  21372.000000  21372.000000  21372.000000  \n",
       "mean       3.206862e+04      0.943945      1.537058      1.977307  \n",
       "std        3.749826e+04      1.446872      2.723339      2.874067  \n",
       "min        0.000000e+00      0.000000      0.000000     -4.000000  \n",
       "25%        1.390000e+04      0.000000      0.000000      0.000000  \n",
       "50%        2.370000e+04      0.000000      0.000000      2.000000  \n",
       "75%        3.980000e+04      1.000000      2.000000      3.000000  \n",
       "max        9.999999e+06     17.000000     35.000000     32.000000  \n",
       "\n",
       "[8 rows x 51 columns]"
      ]
     },
     "execution_count": 4,
     "metadata": {},
     "output_type": "execute_result"
    }
   ],
   "source": [
    "raw_data.describe()"
   ]
  },
  {
   "cell_type": "markdown",
   "metadata": {},
   "source": [
    "Let's start by removing columns with majority of observations missing."
   ]
  },
  {
   "cell_type": "code",
   "execution_count": 5,
   "metadata": {},
   "outputs": [
    {
     "data": {
      "text/plain": [
       "id                             0.000000\n",
       "member_id                      0.000000\n",
       "loan_amnt                      0.000000\n",
       "funded_amnt                    0.000000\n",
       "funded_amnt_inv                0.000000\n",
       "term                           0.000000\n",
       "int_rate                       0.000000\n",
       "installment                    0.000000\n",
       "grade                          0.000000\n",
       "sub_grade                      0.000000\n",
       "emp_title                      0.057993\n",
       "emp_length                     0.050514\n",
       "home_ownership                 0.000000\n",
       "annual_inc                     0.000005\n",
       "verification_status            0.000000\n",
       "issue_d                        0.000000\n",
       "loan_status                    0.000000\n",
       "pymnt_plan                     0.000000\n",
       "url                            0.000000\n",
       "desc                           0.857977\n",
       "purpose                        0.000000\n",
       "title                          0.000171\n",
       "zip_code                       0.000000\n",
       "addr_state                     0.000000\n",
       "dti                            0.000000\n",
       "delinq_2yrs                    0.000033\n",
       "earliest_cr_line               0.000033\n",
       "inq_last_6mths                 0.000033\n",
       "mths_since_last_delinq         0.511971\n",
       "mths_since_last_record         0.845553\n",
       "                                 ...   \n",
       "collection_recovery_fee        0.000000\n",
       "last_pymnt_d                   0.019900\n",
       "last_pymnt_amnt                0.000000\n",
       "next_pymnt_d                   0.285077\n",
       "last_credit_pull_d             0.000060\n",
       "collections_12_mths_ex_med     0.000163\n",
       "mths_since_last_major_derog    0.750160\n",
       "policy_code                    0.000000\n",
       "application_type               0.000000\n",
       "annual_inc_joint               0.999424\n",
       "dti_joint                      0.999426\n",
       "verification_status_joint      0.999424\n",
       "acc_now_delinq                 0.000033\n",
       "tot_coll_amt                   0.079195\n",
       "tot_cur_bal                    0.079195\n",
       "open_acc_6m                    0.975916\n",
       "open_il_6m                     0.975916\n",
       "open_il_12m                    0.975916\n",
       "open_il_24m                    0.975916\n",
       "mths_since_rcnt_il             0.976549\n",
       "total_bal_il                   0.975916\n",
       "il_util                        0.979020\n",
       "open_rv_12m                    0.975916\n",
       "open_rv_24m                    0.975916\n",
       "max_bal_bc                     0.975916\n",
       "all_util                       0.975916\n",
       "total_rev_hi_lim               0.079195\n",
       "inq_fi                         0.975916\n",
       "total_cu_tl                    0.975916\n",
       "inq_last_12m                   0.975916\n",
       "Length: 74, dtype: float64"
      ]
     },
     "execution_count": 5,
     "metadata": {},
     "output_type": "execute_result"
    }
   ],
   "source": [
    "raw_data.isnull().sum()/raw_data.shape[0]"
   ]
  },
  {
   "cell_type": "markdown",
   "metadata": {},
   "source": [
    "Let's remove all columns with more than 60% missing values."
   ]
  },
  {
   "cell_type": "code",
   "execution_count": 6,
   "metadata": {},
   "outputs": [
    {
     "data": {
      "text/plain": [
       "74"
      ]
     },
     "execution_count": 6,
     "metadata": {},
     "output_type": "execute_result"
    }
   ],
   "source": [
    "len(raw_data.columns)"
   ]
  },
  {
   "cell_type": "code",
   "execution_count": 7,
   "metadata": {},
   "outputs": [],
   "source": [
    "for col in raw_data.columns:\n",
    "    percentage_missing = raw_data[col].isnull().sum()/raw_data.shape[0]\n",
    "    if percentage_missing > 0.6:\n",
    "        raw_data.drop(columns=[col], axis=1, inplace=True)"
   ]
  },
  {
   "cell_type": "code",
   "execution_count": 8,
   "metadata": {},
   "outputs": [
    {
     "data": {
      "text/plain": [
       "54"
      ]
     },
     "execution_count": 8,
     "metadata": {},
     "output_type": "execute_result"
    }
   ],
   "source": [
    "len(raw_data.columns)"
   ]
  },
  {
   "cell_type": "markdown",
   "metadata": {},
   "source": [
    "Let's go throuh each remaining variable and analyze it."
   ]
  },
  {
   "cell_type": "code",
   "execution_count": 9,
   "metadata": {},
   "outputs": [
    {
     "data": {
      "text/html": [
       "<div>\n",
       "<style scoped>\n",
       "    .dataframe tbody tr th:only-of-type {\n",
       "        vertical-align: middle;\n",
       "    }\n",
       "\n",
       "    .dataframe tbody tr th {\n",
       "        vertical-align: top;\n",
       "    }\n",
       "\n",
       "    .dataframe thead th {\n",
       "        text-align: right;\n",
       "    }\n",
       "</style>\n",
       "<table border=\"1\" class=\"dataframe\">\n",
       "  <thead>\n",
       "    <tr style=\"text-align: right;\">\n",
       "      <th></th>\n",
       "      <th>id</th>\n",
       "      <th>member_id</th>\n",
       "      <th>loan_amnt</th>\n",
       "      <th>funded_amnt</th>\n",
       "      <th>funded_amnt_inv</th>\n",
       "      <th>term</th>\n",
       "      <th>int_rate</th>\n",
       "      <th>installment</th>\n",
       "      <th>grade</th>\n",
       "      <th>sub_grade</th>\n",
       "      <th>...</th>\n",
       "      <th>last_pymnt_amnt</th>\n",
       "      <th>next_pymnt_d</th>\n",
       "      <th>last_credit_pull_d</th>\n",
       "      <th>collections_12_mths_ex_med</th>\n",
       "      <th>policy_code</th>\n",
       "      <th>application_type</th>\n",
       "      <th>acc_now_delinq</th>\n",
       "      <th>tot_coll_amt</th>\n",
       "      <th>tot_cur_bal</th>\n",
       "      <th>total_rev_hi_lim</th>\n",
       "    </tr>\n",
       "  </thead>\n",
       "  <tbody>\n",
       "    <tr>\n",
       "      <th>0</th>\n",
       "      <td>1077501</td>\n",
       "      <td>1296599</td>\n",
       "      <td>5000.0</td>\n",
       "      <td>5000.0</td>\n",
       "      <td>4975.0</td>\n",
       "      <td>36 months</td>\n",
       "      <td>10.65</td>\n",
       "      <td>162.87</td>\n",
       "      <td>B</td>\n",
       "      <td>B2</td>\n",
       "      <td>...</td>\n",
       "      <td>171.62</td>\n",
       "      <td>NaN</td>\n",
       "      <td>Jan-2016</td>\n",
       "      <td>0.0</td>\n",
       "      <td>1.0</td>\n",
       "      <td>INDIVIDUAL</td>\n",
       "      <td>0.0</td>\n",
       "      <td>NaN</td>\n",
       "      <td>NaN</td>\n",
       "      <td>NaN</td>\n",
       "    </tr>\n",
       "    <tr>\n",
       "      <th>1</th>\n",
       "      <td>1077430</td>\n",
       "      <td>1314167</td>\n",
       "      <td>2500.0</td>\n",
       "      <td>2500.0</td>\n",
       "      <td>2500.0</td>\n",
       "      <td>60 months</td>\n",
       "      <td>15.27</td>\n",
       "      <td>59.83</td>\n",
       "      <td>C</td>\n",
       "      <td>C4</td>\n",
       "      <td>...</td>\n",
       "      <td>119.66</td>\n",
       "      <td>NaN</td>\n",
       "      <td>Sep-2013</td>\n",
       "      <td>0.0</td>\n",
       "      <td>1.0</td>\n",
       "      <td>INDIVIDUAL</td>\n",
       "      <td>0.0</td>\n",
       "      <td>NaN</td>\n",
       "      <td>NaN</td>\n",
       "      <td>NaN</td>\n",
       "    </tr>\n",
       "    <tr>\n",
       "      <th>2</th>\n",
       "      <td>1077175</td>\n",
       "      <td>1313524</td>\n",
       "      <td>2400.0</td>\n",
       "      <td>2400.0</td>\n",
       "      <td>2400.0</td>\n",
       "      <td>36 months</td>\n",
       "      <td>15.96</td>\n",
       "      <td>84.33</td>\n",
       "      <td>C</td>\n",
       "      <td>C5</td>\n",
       "      <td>...</td>\n",
       "      <td>649.91</td>\n",
       "      <td>NaN</td>\n",
       "      <td>Jan-2016</td>\n",
       "      <td>0.0</td>\n",
       "      <td>1.0</td>\n",
       "      <td>INDIVIDUAL</td>\n",
       "      <td>0.0</td>\n",
       "      <td>NaN</td>\n",
       "      <td>NaN</td>\n",
       "      <td>NaN</td>\n",
       "    </tr>\n",
       "    <tr>\n",
       "      <th>3</th>\n",
       "      <td>1076863</td>\n",
       "      <td>1277178</td>\n",
       "      <td>10000.0</td>\n",
       "      <td>10000.0</td>\n",
       "      <td>10000.0</td>\n",
       "      <td>36 months</td>\n",
       "      <td>13.49</td>\n",
       "      <td>339.31</td>\n",
       "      <td>C</td>\n",
       "      <td>C1</td>\n",
       "      <td>...</td>\n",
       "      <td>357.48</td>\n",
       "      <td>NaN</td>\n",
       "      <td>Jan-2015</td>\n",
       "      <td>0.0</td>\n",
       "      <td>1.0</td>\n",
       "      <td>INDIVIDUAL</td>\n",
       "      <td>0.0</td>\n",
       "      <td>NaN</td>\n",
       "      <td>NaN</td>\n",
       "      <td>NaN</td>\n",
       "    </tr>\n",
       "    <tr>\n",
       "      <th>4</th>\n",
       "      <td>1075358</td>\n",
       "      <td>1311748</td>\n",
       "      <td>3000.0</td>\n",
       "      <td>3000.0</td>\n",
       "      <td>3000.0</td>\n",
       "      <td>60 months</td>\n",
       "      <td>12.69</td>\n",
       "      <td>67.79</td>\n",
       "      <td>B</td>\n",
       "      <td>B5</td>\n",
       "      <td>...</td>\n",
       "      <td>67.79</td>\n",
       "      <td>Feb-2016</td>\n",
       "      <td>Jan-2016</td>\n",
       "      <td>0.0</td>\n",
       "      <td>1.0</td>\n",
       "      <td>INDIVIDUAL</td>\n",
       "      <td>0.0</td>\n",
       "      <td>NaN</td>\n",
       "      <td>NaN</td>\n",
       "      <td>NaN</td>\n",
       "    </tr>\n",
       "  </tbody>\n",
       "</table>\n",
       "<p>5 rows × 54 columns</p>\n",
       "</div>"
      ],
      "text/plain": [
       "        id  member_id  loan_amnt  funded_amnt  funded_amnt_inv        term  \\\n",
       "0  1077501    1296599     5000.0       5000.0           4975.0   36 months   \n",
       "1  1077430    1314167     2500.0       2500.0           2500.0   60 months   \n",
       "2  1077175    1313524     2400.0       2400.0           2400.0   36 months   \n",
       "3  1076863    1277178    10000.0      10000.0          10000.0   36 months   \n",
       "4  1075358    1311748     3000.0       3000.0           3000.0   60 months   \n",
       "\n",
       "   int_rate  installment grade sub_grade       ...        last_pymnt_amnt  \\\n",
       "0     10.65       162.87     B        B2       ...                 171.62   \n",
       "1     15.27        59.83     C        C4       ...                 119.66   \n",
       "2     15.96        84.33     C        C5       ...                 649.91   \n",
       "3     13.49       339.31     C        C1       ...                 357.48   \n",
       "4     12.69        67.79     B        B5       ...                  67.79   \n",
       "\n",
       "  next_pymnt_d last_credit_pull_d  collections_12_mths_ex_med policy_code  \\\n",
       "0          NaN           Jan-2016                         0.0         1.0   \n",
       "1          NaN           Sep-2013                         0.0         1.0   \n",
       "2          NaN           Jan-2016                         0.0         1.0   \n",
       "3          NaN           Jan-2015                         0.0         1.0   \n",
       "4     Feb-2016           Jan-2016                         0.0         1.0   \n",
       "\n",
       "  application_type acc_now_delinq tot_coll_amt tot_cur_bal total_rev_hi_lim  \n",
       "0       INDIVIDUAL            0.0          NaN         NaN              NaN  \n",
       "1       INDIVIDUAL            0.0          NaN         NaN              NaN  \n",
       "2       INDIVIDUAL            0.0          NaN         NaN              NaN  \n",
       "3       INDIVIDUAL            0.0          NaN         NaN              NaN  \n",
       "4       INDIVIDUAL            0.0          NaN         NaN              NaN  \n",
       "\n",
       "[5 rows x 54 columns]"
      ]
     },
     "execution_count": 9,
     "metadata": {},
     "output_type": "execute_result"
    }
   ],
   "source": [
    "raw_data.head()"
   ]
  },
  {
   "cell_type": "markdown",
   "metadata": {},
   "source": [
    "###### ID"
   ]
  },
  {
   "cell_type": "markdown",
   "metadata": {},
   "source": [
    "ID has no predictive power, so let's drop it."
   ]
  },
  {
   "cell_type": "code",
   "execution_count": 10,
   "metadata": {},
   "outputs": [],
   "source": [
    "raw_data.drop(columns=['id'], axis=1, inplace=True)"
   ]
  },
  {
   "cell_type": "markdown",
   "metadata": {},
   "source": [
    "##### member_id"
   ]
  },
  {
   "cell_type": "code",
   "execution_count": 11,
   "metadata": {},
   "outputs": [
    {
     "data": {
      "text/plain": [
       "887379"
      ]
     },
     "execution_count": 11,
     "metadata": {},
     "output_type": "execute_result"
    }
   ],
   "source": [
    "len(raw_data['member_id'].unique())"
   ]
  },
  {
   "cell_type": "code",
   "execution_count": 12,
   "metadata": {},
   "outputs": [
    {
     "data": {
      "text/plain": [
       "(887379, 53)"
      ]
     },
     "execution_count": 12,
     "metadata": {},
     "output_type": "execute_result"
    }
   ],
   "source": [
    "raw_data.shape"
   ]
  },
  {
   "cell_type": "markdown",
   "metadata": {},
   "source": [
    "There's the same number of unique member_id's as rows in the entire table, so it has no predictive power. Let's drop this too."
   ]
  },
  {
   "cell_type": "code",
   "execution_count": 13,
   "metadata": {},
   "outputs": [],
   "source": [
    "raw_data.drop(columns=['member_id'], axis=1, inplace=True)"
   ]
  },
  {
   "cell_type": "markdown",
   "metadata": {},
   "source": [
    "##### loan_amnt"
   ]
  },
  {
   "cell_type": "code",
   "execution_count": 14,
   "metadata": {},
   "outputs": [
    {
     "data": {
      "image/png": "[encoded data removed]",
      "text/plain": [
       "<Figure size 432x288 with 1 Axes>"
      ]
     },
     "metadata": {},
     "output_type": "display_data"
    }
   ],
   "source": [
    "plt.hist(raw_data['loan_amnt'], bins=50)\n",
    "plt.show()"
   ]
  },
  {
   "cell_type": "markdown",
   "metadata": {},
   "source": [
    "We can see people usually apply for 'round' values, liek 5000, 10000 etc. Perhaps we can transform this continous variable to a categorical one by binning amounts to intervals 0-2500, 2500-7500 etc. For now though, let's apply log transformation."
   ]
  },
  {
   "cell_type": "code",
   "execution_count": 15,
   "metadata": {},
   "outputs": [],
   "source": [
    "raw_data['loan_amnt'] = np.log1p(raw_data['loan_amnt'])"
   ]
  },
  {
   "cell_type": "code",
   "execution_count": 16,
   "metadata": {},
   "outputs": [
    {
     "data": {
      "image/png": "[encoded data removed]",
      "text/plain": [
       "<Figure size 432x288 with 1 Axes>"
      ]
     },
     "metadata": {},
     "output_type": "display_data"
    }
   ],
   "source": [
    "plt.hist(raw_data['loan_amnt'], bins=50)\n",
    "plt.show()"
   ]
  },
  {
   "cell_type": "code",
   "execution_count": 17,
   "metadata": {},
   "outputs": [
    {
     "data": {
      "text/plain": [
       "0"
      ]
     },
     "execution_count": 17,
     "metadata": {},
     "output_type": "execute_result"
    }
   ],
   "source": [
    "raw_data['loan_amnt'].isnull().sum()"
   ]
  },
  {
   "cell_type": "markdown",
   "metadata": {},
   "source": [
    "No missing values to handle."
   ]
  },
  {
   "cell_type": "markdown",
   "metadata": {},
   "source": [
    "#### funded_amnt"
   ]
  },
  {
   "cell_type": "code",
   "execution_count": 18,
   "metadata": {
    "scrolled": true
   },
   "outputs": [
    {
     "data": {
      "image/png": "[encoded data removed]",
      "text/plain": [
       "<Figure size 432x288 with 1 Axes>"
      ]
     },
     "metadata": {},
     "output_type": "display_data"
    }
   ],
   "source": [
    "plt.hist(np.log1p(raw_data['funded_amnt']), bins=50, alpha=0.5, label='funded_amnt')\n",
    "plt.hist(raw_data['loan_amnt'], bins=50, alpha=0.5, label='loan_amnt')\n",
    "plt.legend()\n",
    "plt.show()"
   ]
  },
  {
   "cell_type": "markdown",
   "metadata": {},
   "source": [
    "These values are nearly identical, thus there are highly correlated. Most likely we will ditch one of them."
   ]
  },
  {
   "cell_type": "code",
   "execution_count": 19,
   "metadata": {},
   "outputs": [
    {
     "data": {
      "text/plain": [
       "0"
      ]
     },
     "execution_count": 19,
     "metadata": {},
     "output_type": "execute_result"
    }
   ],
   "source": [
    "raw_data['funded_amnt'].isnull().sum()"
   ]
  },
  {
   "cell_type": "code",
   "execution_count": 20,
   "metadata": {},
   "outputs": [
    {
     "data": {
      "text/plain": [
       "887379"
      ]
     },
     "execution_count": 20,
     "metadata": {},
     "output_type": "execute_result"
    }
   ],
   "source": [
    "(raw_data['funded_amnt'] > raw_data['loan_amnt']).sum()"
   ]
  },
  {
   "cell_type": "code",
   "execution_count": 21,
   "metadata": {},
   "outputs": [
    {
     "data": {
      "text/plain": [
       "0"
      ]
     },
     "execution_count": 21,
     "metadata": {},
     "output_type": "execute_result"
    }
   ],
   "source": [
    "(raw_data['funded_amnt'] < raw_data['loan_amnt']).sum()"
   ]
  },
  {
   "cell_type": "code",
   "execution_count": 22,
   "metadata": {},
   "outputs": [
    {
     "data": {
      "text/plain": [
       "0.0"
      ]
     },
     "execution_count": 22,
     "metadata": {},
     "output_type": "execute_result"
    }
   ],
   "source": [
    "((raw_data['funded_amnt'] < raw_data['loan_amnt']).sum()/raw_data.shape[0])*100"
   ]
  },
  {
   "cell_type": "markdown",
   "metadata": {},
   "source": [
    "Only 0.2% of lenders got less money then they asked for, thus we can remove funded_amnt from the data set."
   ]
  },
  {
   "cell_type": "code",
   "execution_count": 23,
   "metadata": {},
   "outputs": [],
   "source": [
    "raw_data.drop(columns=['funded_amnt'], axis=1, inplace=True)"
   ]
  },
  {
   "cell_type": "markdown",
   "metadata": {},
   "source": [
    "#### funded_amnt_inv"
   ]
  },
  {
   "cell_type": "code",
   "execution_count": 24,
   "metadata": {},
   "outputs": [
    {
     "data": {
      "image/png": "[encoded data removed]",
      "text/plain": [
       "<Figure size 432x288 with 1 Axes>"
      ]
     },
     "metadata": {},
     "output_type": "display_data"
    }
   ],
   "source": [
    "plt.hist(np.log1p(raw_data['funded_amnt_inv']), bins=50, alpha=0.5, label='funded_amnt_inv')\n",
    "plt.hist(raw_data['loan_amnt'], bins=50, alpha=0.5, label='loan_amnt')\n",
    "plt.legend()\n",
    "plt.show()"
   ]
  },
  {
   "cell_type": "code",
   "execution_count": 25,
   "metadata": {},
   "outputs": [],
   "source": [
    "from scipy.stats import pearsonr"
   ]
  },
  {
   "cell_type": "code",
   "execution_count": 26,
   "metadata": {},
   "outputs": [
    {
     "data": {
      "text/plain": [
       "(0.9248548865316268, 0.0)"
      ]
     },
     "execution_count": 26,
     "metadata": {},
     "output_type": "execute_result"
    }
   ],
   "source": [
    "pearsonr(raw_data['funded_amnt_inv'], raw_data['loan_amnt'])"
   ]
  },
  {
   "cell_type": "code",
   "execution_count": 27,
   "metadata": {},
   "outputs": [],
   "source": [
    "raw_data.drop(columns=['funded_amnt_inv'], axis=1, inplace=True)"
   ]
  },
  {
   "cell_type": "markdown",
   "metadata": {},
   "source": [
    "#### int_rate"
   ]
  },
  {
   "cell_type": "code",
   "execution_count": 28,
   "metadata": {},
   "outputs": [
    {
     "data": {
      "text/plain": [
       "count    887379.000000\n",
       "mean         13.246740\n",
       "std           4.381867\n",
       "min           5.320000\n",
       "25%           9.990000\n",
       "50%          12.990000\n",
       "75%          16.200000\n",
       "max          28.990000\n",
       "Name: int_rate, dtype: float64"
      ]
     },
     "execution_count": 28,
     "metadata": {},
     "output_type": "execute_result"
    }
   ],
   "source": [
    "raw_data['int_rate'].describe()"
   ]
  },
  {
   "cell_type": "code",
   "execution_count": 29,
   "metadata": {},
   "outputs": [
    {
     "data": {
      "text/plain": [
       "0"
      ]
     },
     "execution_count": 29,
     "metadata": {},
     "output_type": "execute_result"
    }
   ],
   "source": [
    "raw_data['int_rate'].isnull().sum()"
   ]
  },
  {
   "cell_type": "code",
   "execution_count": 30,
   "metadata": {},
   "outputs": [
    {
     "data": {
      "image/png": "[encoded data removed]",
      "text/plain": [
       "<Figure size 432x288 with 1 Axes>"
      ]
     },
     "metadata": {},
     "output_type": "display_data"
    }
   ],
   "source": [
    "plt.hist(raw_data['int_rate'], bins=30)\n",
    "plt.show()"
   ]
  },
  {
   "cell_type": "markdown",
   "metadata": {},
   "source": [
    "The data is slightly skewd, thus we perform log transformation in order to make its distribution more normal and decrease the range of values."
   ]
  },
  {
   "cell_type": "code",
   "execution_count": 31,
   "metadata": {},
   "outputs": [
    {
     "data": {
      "image/png": "[encoded data removed]",
      "text/plain": [
       "<Figure size 432x288 with 1 Axes>"
      ]
     },
     "metadata": {},
     "output_type": "display_data"
    }
   ],
   "source": [
    "plt.hist(np.log(raw_data['int_rate']), bins=30)\n",
    "plt.show()"
   ]
  },
  {
   "cell_type": "code",
   "execution_count": 32,
   "metadata": {},
   "outputs": [],
   "source": [
    "raw_data['int_rate'] = np.log(raw_data['int_rate'])"
   ]
  },
  {
   "cell_type": "markdown",
   "metadata": {},
   "source": [
    "#### installment"
   ]
  },
  {
   "cell_type": "code",
   "execution_count": 33,
   "metadata": {},
   "outputs": [
    {
     "data": {
      "text/plain": [
       "0"
      ]
     },
     "execution_count": 33,
     "metadata": {},
     "output_type": "execute_result"
    }
   ],
   "source": [
    "raw_data['installment'].isnull().sum()"
   ]
  },
  {
   "cell_type": "code",
   "execution_count": 34,
   "metadata": {},
   "outputs": [
    {
     "data": {
      "text/plain": [
       "count    887379.000000\n",
       "mean        436.717127\n",
       "std         244.186593\n",
       "min          15.670000\n",
       "25%         260.705000\n",
       "50%         382.550000\n",
       "75%         572.600000\n",
       "max        1445.460000\n",
       "Name: installment, dtype: float64"
      ]
     },
     "execution_count": 34,
     "metadata": {},
     "output_type": "execute_result"
    }
   ],
   "source": [
    "raw_data['installment'].describe()"
   ]
  },
  {
   "cell_type": "code",
   "execution_count": 35,
   "metadata": {},
   "outputs": [
    {
     "data": {
      "image/png": "[encoded data removed]",
      "text/plain": [
       "<Figure size 432x288 with 1 Axes>"
      ]
     },
     "metadata": {},
     "output_type": "display_data"
    }
   ],
   "source": [
    "plt.hist(raw_data['installment'], bins=30)\n",
    "plt.show()"
   ]
  },
  {
   "cell_type": "markdown",
   "metadata": {},
   "source": [
    "Same as with the previous variable, data is skewed. Let's log normalize it."
   ]
  },
  {
   "cell_type": "code",
   "execution_count": 36,
   "metadata": {},
   "outputs": [],
   "source": [
    "raw_data['installment'] = np.log(raw_data['installment'])"
   ]
  },
  {
   "cell_type": "code",
   "execution_count": 37,
   "metadata": {},
   "outputs": [
    {
     "data": {
      "image/png": "[encoded data removed]",
      "text/plain": [
       "<Figure size 432x288 with 1 Axes>"
      ]
     },
     "metadata": {},
     "output_type": "display_data"
    }
   ],
   "source": [
    "plt.hist(raw_data['installment'], bins=30)\n",
    "plt.show()"
   ]
  },
  {
   "cell_type": "markdown",
   "metadata": {},
   "source": [
    "#### annual_inc"
   ]
  },
  {
   "cell_type": "code",
   "execution_count": 38,
   "metadata": {},
   "outputs": [
    {
     "data": {
      "text/plain": [
       "4"
      ]
     },
     "execution_count": 38,
     "metadata": {},
     "output_type": "execute_result"
    }
   ],
   "source": [
    "raw_data['annual_inc'].isnull().sum()"
   ]
  },
  {
   "cell_type": "markdown",
   "metadata": {},
   "source": [
    "There are four null values. Such applications should be rejected on formal basis, thus we can remove these observations from our dataset."
   ]
  },
  {
   "cell_type": "code",
   "execution_count": 39,
   "metadata": {},
   "outputs": [],
   "source": [
    "raw_data.dropna(subset=['annual_inc'], axis=0, inplace=True)"
   ]
  },
  {
   "cell_type": "code",
   "execution_count": 40,
   "metadata": {},
   "outputs": [
    {
     "data": {
      "text/plain": [
       "0"
      ]
     },
     "execution_count": 40,
     "metadata": {},
     "output_type": "execute_result"
    }
   ],
   "source": [
    "raw_data['annual_inc'].isnull().sum()"
   ]
  },
  {
   "cell_type": "code",
   "execution_count": 41,
   "metadata": {},
   "outputs": [
    {
     "data": {
      "text/plain": [
       "count    8.873750e+05\n",
       "mean     7.502759e+04\n",
       "std      6.469830e+04\n",
       "min      0.000000e+00\n",
       "25%      4.500000e+04\n",
       "50%      6.500000e+04\n",
       "75%      9.000000e+04\n",
       "max      9.500000e+06\n",
       "Name: annual_inc, dtype: float64"
      ]
     },
     "execution_count": 41,
     "metadata": {},
     "output_type": "execute_result"
    }
   ],
   "source": [
    "raw_data['annual_inc'].describe()"
   ]
  },
  {
   "cell_type": "code",
   "execution_count": 42,
   "metadata": {},
   "outputs": [
    {
     "data": {
      "image/png": "[encoded data removed]",
      "text/plain": [
       "<Figure size 432x288 with 1 Axes>"
      ]
     },
     "metadata": {},
     "output_type": "display_data"
    }
   ],
   "source": [
    "plt.hist(raw_data['annual_inc'], bins=100)\n",
    "plt.show()"
   ]
  },
  {
   "cell_type": "code",
   "execution_count": 43,
   "metadata": {},
   "outputs": [
    {
     "data": {
      "image/png": "[encoded data removed]",
      "text/plain": [
       "<Figure size 432x288 with 1 Axes>"
      ]
     },
     "metadata": {},
     "output_type": "display_data"
    }
   ],
   "source": [
    "plt.hist(np.log1p(raw_data['annual_inc']), bins=100)\n",
    "plt.show()"
   ]
  },
  {
   "cell_type": "code",
   "execution_count": 44,
   "metadata": {},
   "outputs": [],
   "source": [
    "raw_data['annual_inc'] = np.log1p(raw_data['annual_inc'])"
   ]
  },
  {
   "cell_type": "code",
   "execution_count": 45,
   "metadata": {},
   "outputs": [
    {
     "data": {
      "image/png": "[encoded data removed]",
      "text/plain": [
       "<Figure size 432x288 with 1 Axes>"
      ]
     },
     "metadata": {},
     "output_type": "display_data"
    }
   ],
   "source": [
    "plt.hist(np.log1p(raw_data['annual_inc']), bins=100)\n",
    "plt.show()"
   ]
  },
  {
   "cell_type": "markdown",
   "metadata": {},
   "source": [
    "#### grade"
   ]
  },
  {
   "cell_type": "code",
   "execution_count": 46,
   "metadata": {},
   "outputs": [
    {
     "data": {
      "text/plain": [
       "count     887375\n",
       "unique         7\n",
       "top            B\n",
       "freq      254535\n",
       "Name: grade, dtype: object"
      ]
     },
     "execution_count": 46,
     "metadata": {},
     "output_type": "execute_result"
    }
   ],
   "source": [
    "raw_data['grade'].describe()"
   ]
  },
  {
   "cell_type": "code",
   "execution_count": 47,
   "metadata": {},
   "outputs": [
    {
     "data": {
      "text/plain": [
       "B    254535\n",
       "C    245860\n",
       "A    148198\n",
       "D    139542\n",
       "E     70705\n",
       "F     23046\n",
       "G      5489\n",
       "Name: grade, dtype: int64"
      ]
     },
     "execution_count": 47,
     "metadata": {},
     "output_type": "execute_result"
    }
   ],
   "source": [
    "raw_data['grade'].value_counts()"
   ]
  },
  {
   "cell_type": "code",
   "execution_count": 48,
   "metadata": {},
   "outputs": [
    {
     "data": {
      "text/plain": [
       "0"
      ]
     },
     "execution_count": 48,
     "metadata": {},
     "output_type": "execute_result"
    }
   ],
   "source": [
    "raw_data['grade'].isnull().sum()"
   ]
  },
  {
   "cell_type": "markdown",
   "metadata": {},
   "source": [
    "Since there is a natural order to grade's, instead of traditional one-hot encoding we can use ordinal encoding, thus avoiding expanding the number of variables beyond what's strictly necessary."
   ]
  },
  {
   "cell_type": "code",
   "execution_count": 49,
   "metadata": {},
   "outputs": [],
   "source": [
    "def grade_to_int_mapping(grade):\n",
    "    d = {'A': 1, 'B': 2, 'C': 3, 'D': 4, 'E': 5, 'F': 6, 'G': 7}\n",
    "    return d[grade]"
   ]
  },
  {
   "cell_type": "code",
   "execution_count": 50,
   "metadata": {},
   "outputs": [],
   "source": [
    "raw_data['grade'] = raw_data['grade'].apply(grade_to_int_mapping)"
   ]
  },
  {
   "cell_type": "markdown",
   "metadata": {},
   "source": [
    "#### sub_grade"
   ]
  },
  {
   "cell_type": "code",
   "execution_count": 51,
   "metadata": {},
   "outputs": [
    {
     "data": {
      "text/plain": [
       "count     887375\n",
       "unique        35\n",
       "top           B3\n",
       "freq       56323\n",
       "Name: sub_grade, dtype: object"
      ]
     },
     "execution_count": 51,
     "metadata": {},
     "output_type": "execute_result"
    }
   ],
   "source": [
    "raw_data['sub_grade'].describe()"
   ]
  },
  {
   "cell_type": "code",
   "execution_count": 52,
   "metadata": {
    "scrolled": true
   },
   "outputs": [
    {
     "data": {
      "text/plain": [
       "B3    56323\n",
       "B4    55626\n",
       "C1    53387\n",
       "C2    52236\n",
       "C3    50161\n",
       "C4    48857\n",
       "B5    48833\n",
       "B2    48781\n",
       "B1    44972\n",
       "A5    44815\n",
       "C5    41219\n",
       "D1    36238\n",
       "A4    34531\n",
       "D2    29803\n",
       "D3    26554\n",
       "D4    25558\n",
       "A3    23455\n",
       "A1    22913\n",
       "A2    22484\n",
       "D5    21389\n",
       "E1    18268\n",
       "E2    17004\n",
       "E3    14134\n",
       "E4    11724\n",
       "E5     9575\n",
       "F1     7218\n",
       "F2     5392\n",
       "F3     4433\n",
       "F4     3409\n",
       "F5     2594\n",
       "G1     1871\n",
       "G2     1398\n",
       "G3      981\n",
       "G4      663\n",
       "G5      576\n",
       "Name: sub_grade, dtype: int64"
      ]
     },
     "execution_count": 52,
     "metadata": {},
     "output_type": "execute_result"
    }
   ],
   "source": [
    "raw_data['sub_grade'].value_counts()"
   ]
  },
  {
   "cell_type": "markdown",
   "metadata": {},
   "source": [
    "It appears that once we have subgrades, actual grade are not needed anymore. Let's check if subgrade of format XY always corresponds to grade X."
   ]
  },
  {
   "cell_type": "code",
   "execution_count": 53,
   "metadata": {
    "scrolled": false
   },
   "outputs": [
    {
     "data": {
      "text/plain": [
       "0"
      ]
     },
     "execution_count": 53,
     "metadata": {},
     "output_type": "execute_result"
    }
   ],
   "source": [
    "(raw_data['sub_grade'].apply(lambda x: grade_to_int_mapping(x[0])) != raw_data['grade']).sum()"
   ]
  },
  {
   "cell_type": "markdown",
   "metadata": {},
   "source": [
    "This is indeed correct. Thus we can remove grade altogether."
   ]
  },
  {
   "cell_type": "code",
   "execution_count": 54,
   "metadata": {},
   "outputs": [],
   "source": [
    "raw_data.drop(columns=['grade'], axis=1, inplace=True)"
   ]
  },
  {
   "cell_type": "markdown",
   "metadata": {},
   "source": [
    "As already noted, there is a natural order to the grades, thus ordinal encoding is most appropriate. Let's encode the variables using the following schema: \n",
    "\n",
    "A ->1, thus A1 -> 1.1, A2 -> 1.2 etc, B ->2, thus B1 -> 2.1 etc. \n",
    "\n",
    "Hence, the lower the number the better the grade."
   ]
  },
  {
   "cell_type": "code",
   "execution_count": 55,
   "metadata": {},
   "outputs": [],
   "source": [
    "def subgrade_to_ordinal_encoding(subgrade):\n",
    "    d = {'A': 1, 'B': 2, 'C': 3, 'D': 4, 'E': 5, 'F': 6, 'G': 7}\n",
    "    return d[subgrade[0]] + float('0.' + (subgrade[1]))"
   ]
  },
  {
   "cell_type": "code",
   "execution_count": 56,
   "metadata": {},
   "outputs": [],
   "source": [
    "raw_data['sub_grade'] = raw_data['sub_grade'].apply(subgrade_to_ordinal_encoding)"
   ]
  },
  {
   "cell_type": "markdown",
   "metadata": {},
   "source": [
    "#### emp_title"
   ]
  },
  {
   "cell_type": "code",
   "execution_count": 57,
   "metadata": {},
   "outputs": [
    {
     "data": {
      "text/plain": [
       "count      835917\n",
       "unique     299271\n",
       "top       Teacher\n",
       "freq        13469\n",
       "Name: emp_title, dtype: object"
      ]
     },
     "execution_count": 57,
     "metadata": {},
     "output_type": "execute_result"
    }
   ],
   "source": [
    "raw_data['emp_title'].describe()"
   ]
  },
  {
   "cell_type": "code",
   "execution_count": 58,
   "metadata": {},
   "outputs": [
    {
     "data": {
      "text/plain": [
       "51458"
      ]
     },
     "execution_count": 58,
     "metadata": {},
     "output_type": "execute_result"
    }
   ],
   "source": [
    "raw_data['emp_title'].isnull().sum()"
   ]
  },
  {
   "cell_type": "code",
   "execution_count": 59,
   "metadata": {},
   "outputs": [
    {
     "data": {
      "text/plain": [
       "5.798901253697704"
      ]
     },
     "execution_count": 59,
     "metadata": {},
     "output_type": "execute_result"
    }
   ],
   "source": [
    "raw_data['emp_title'].isnull().sum()/raw_data.shape[0]*100"
   ]
  },
  {
   "cell_type": "markdown",
   "metadata": {},
   "source": [
    "We can assume that people who did not fill their work title are unemployed."
   ]
  },
  {
   "cell_type": "code",
   "execution_count": 60,
   "metadata": {},
   "outputs": [],
   "source": [
    "raw_data['emp_title'] = raw_data['emp_title'].fillna('unemployed')"
   ]
  },
  {
   "cell_type": "code",
   "execution_count": 61,
   "metadata": {
    "scrolled": true
   },
   "outputs": [
    {
     "data": {
      "text/plain": [
       "unemployed                               51458\n",
       "Teacher                                  13469\n",
       "Manager                                  11240\n",
       "Registered Nurse                          5525\n",
       "Owner                                     5376\n",
       "RN                                        5355\n",
       "Supervisor                                4983\n",
       "Sales                                     4212\n",
       "Project Manager                           3988\n",
       "Driver                                    3569\n",
       "Office Manager                            3510\n",
       "General Manager                           3178\n",
       "Director                                  3156\n",
       "manager                                   3138\n",
       "teacher                                   2925\n",
       "owner                                     2849\n",
       "Engineer                                  2671\n",
       "President                                 2598\n",
       "driver                                    2429\n",
       "Vice President                            2351\n",
       "Attorney                                  2136\n",
       "Operations Manager                        2071\n",
       "Accountant                                2035\n",
       "Administrative Assistant                  2019\n",
       "Sales Manager                             1846\n",
       "Account Manager                           1725\n",
       "sales                                     1724\n",
       "Police Officer                            1720\n",
       "supervisor                                1675\n",
       "Executive Assistant                       1603\n",
       "                                         ...  \n",
       "Derby public schools                         1\n",
       "ARFF/Operations                              1\n",
       "Team Lead/ Fabrication Assistant             1\n",
       "Ultrasoun Technologist                       1\n",
       "residential counselor                        1\n",
       "ABC-TV                                       1\n",
       "Episcopal Community Services                 1\n",
       "Office of Human Affairs                      1\n",
       "independent introducing broker               1\n",
       "Pure Financial Advisors                      1\n",
       "fruit and flower child care                  1\n",
       "Cfo                                          1\n",
       "Glade Run Lutheran Services                  1\n",
       "Flight RN/Paramedic                          1\n",
       "GLS Supply                                   1\n",
       "nyc dept of finance                          1\n",
       "advantage 360                                1\n",
       "Image Operator                               1\n",
       "NuVision Federal Credit Union                1\n",
       "State of Oklahoma                            1\n",
       "Portland State Unniversity                   1\n",
       "Junior Compliance Officer                    1\n",
       "Anaya Welding  and  Lease                    1\n",
       "Southern Electric Motors                     1\n",
       "VP, Business Affairs                         1\n",
       "HP Products Inc.                             1\n",
       "Goleta Valley School District                1\n",
       "Vice President, Int'l Enterprise Soln        1\n",
       "Vector Security                              1\n",
       "Defense Intelligence Agency                  1\n",
       "Name: emp_title, Length: 299272, dtype: int64"
      ]
     },
     "execution_count": 61,
     "metadata": {},
     "output_type": "execute_result"
    }
   ],
   "source": [
    "raw_data['emp_title'].value_counts()"
   ]
  },
  {
   "cell_type": "markdown",
   "metadata": {},
   "source": [
    "Let's leave it for now - an extended analysis of possible profession with the aim of categorizing them into around 10 possible buckets is necessary."
   ]
  },
  {
   "cell_type": "markdown",
   "metadata": {},
   "source": [
    "#### emp_length"
   ]
  },
  {
   "cell_type": "code",
   "execution_count": 62,
   "metadata": {},
   "outputs": [
    {
     "data": {
      "text/plain": [
       "count        842550\n",
       "unique           11\n",
       "top       10+ years\n",
       "freq         291569\n",
       "Name: emp_length, dtype: object"
      ]
     },
     "execution_count": 62,
     "metadata": {},
     "output_type": "execute_result"
    }
   ],
   "source": [
    "raw_data['emp_length'].describe()"
   ]
  },
  {
   "cell_type": "code",
   "execution_count": 63,
   "metadata": {},
   "outputs": [
    {
     "data": {
      "text/plain": [
       "44825"
      ]
     },
     "execution_count": 63,
     "metadata": {},
     "output_type": "execute_result"
    }
   ],
   "source": [
    "raw_data['emp_length'].isnull().sum()"
   ]
  },
  {
   "cell_type": "markdown",
   "metadata": {},
   "source": [
    "We assume that empty values mean no work, thus we fill them with 0s."
   ]
  },
  {
   "cell_type": "code",
   "execution_count": 64,
   "metadata": {},
   "outputs": [],
   "source": [
    "raw_data['emp_length'] = raw_data['emp_length'].fillna(0)"
   ]
  },
  {
   "cell_type": "code",
   "execution_count": 65,
   "metadata": {},
   "outputs": [
    {
     "data": {
      "text/plain": [
       "44825"
      ]
     },
     "execution_count": 65,
     "metadata": {},
     "output_type": "execute_result"
    }
   ],
   "source": [
    "(raw_data['emp_length'] == 0).sum()"
   ]
  },
  {
   "cell_type": "code",
   "execution_count": 66,
   "metadata": {},
   "outputs": [
    {
     "data": {
      "text/plain": [
       "44436"
      ]
     },
     "execution_count": 66,
     "metadata": {},
     "output_type": "execute_result"
    }
   ],
   "source": [
    "((raw_data['emp_length'][raw_data['emp_title'] == 'unemployed']) == 0).sum()"
   ]
  },
  {
   "cell_type": "markdown",
   "metadata": {},
   "source": [
    "We see that indeed people who did not submit their job titles did not submit their employment lenght's either, thus reinforcing out assumption that these people are unemployed."
   ]
  },
  {
   "cell_type": "markdown",
   "metadata": {},
   "source": [
    "Having used emp_title, let's drop it."
   ]
  },
  {
   "cell_type": "code",
   "execution_count": 67,
   "metadata": {},
   "outputs": [],
   "source": [
    "raw_data.drop(columns=['emp_title'], axis=1, inplace=True)"
   ]
  },
  {
   "cell_type": "code",
   "execution_count": 68,
   "metadata": {},
   "outputs": [
    {
     "data": {
      "text/plain": [
       "10+ years    291569\n",
       "2 years       78870\n",
       "< 1 year      70601\n",
       "3 years       70026\n",
       "1 year        57095\n",
       "5 years       55704\n",
       "4 years       52529\n",
       "0             44825\n",
       "7 years       44594\n",
       "8 years       43955\n",
       "6 years       42950\n",
       "9 years       34657\n",
       "Name: emp_length, dtype: int64"
      ]
     },
     "execution_count": 68,
     "metadata": {},
     "output_type": "execute_result"
    }
   ],
   "source": [
    "raw_data['emp_length'].value_counts()"
   ]
  },
  {
   "cell_type": "code",
   "execution_count": 69,
   "metadata": {},
   "outputs": [],
   "source": [
    "def parse_emp_length(emp_length):\n",
    "    try:\n",
    "        emp_length_list = emp_length.split()\n",
    "        val = int(emp_length_list[0].strip('+'))\n",
    "    except ValueError:\n",
    "        val = 0.5\n",
    "    except AttributeError:\n",
    "        val = 0\n",
    "    \n",
    "    return val \n",
    "\n",
    "# better ask forigvness than permission"
   ]
  },
  {
   "cell_type": "code",
   "execution_count": 70,
   "metadata": {},
   "outputs": [],
   "source": [
    "raw_data['emp_length'] = raw_data['emp_length'].apply(parse_emp_length)"
   ]
  },
  {
   "cell_type": "markdown",
   "metadata": {},
   "source": [
    "#### home_ownership"
   ]
  },
  {
   "cell_type": "code",
   "execution_count": 71,
   "metadata": {},
   "outputs": [
    {
     "data": {
      "text/plain": [
       "count       887375\n",
       "unique           6\n",
       "top       MORTGAGE\n",
       "freq        443557\n",
       "Name: home_ownership, dtype: object"
      ]
     },
     "execution_count": 71,
     "metadata": {},
     "output_type": "execute_result"
    }
   ],
   "source": [
    "raw_data['home_ownership'].describe()"
   ]
  },
  {
   "cell_type": "code",
   "execution_count": 72,
   "metadata": {},
   "outputs": [
    {
     "data": {
      "text/plain": [
       "MORTGAGE    443557\n",
       "RENT        356117\n",
       "OWN          87470\n",
       "OTHER          182\n",
       "NONE            46\n",
       "ANY              3\n",
       "Name: home_ownership, dtype: int64"
      ]
     },
     "execution_count": 72,
     "metadata": {},
     "output_type": "execute_result"
    }
   ],
   "source": [
    "raw_data['home_ownership'].value_counts()"
   ]
  },
  {
   "cell_type": "markdown",
   "metadata": {},
   "source": [
    "This is a classic variable that needs one-hot encoding. However, there are very few observations falling into NONE or ANY categories, thus we will incorporate those into OTHER category. Also notice that provide .xlsx file does not mention NONE or ANY categories."
   ]
  },
  {
   "cell_type": "code",
   "execution_count": 73,
   "metadata": {},
   "outputs": [],
   "source": [
    "raw_data['home_ownership'] = raw_data['home_ownership'].apply(lambda x: 'OTHER' if x in ['NONE', 'ANY'] else x)"
   ]
  },
  {
   "cell_type": "code",
   "execution_count": 74,
   "metadata": {},
   "outputs": [
    {
     "data": {
      "text/plain": [
       "array(['RENT', 'OWN', 'MORTGAGE', 'OTHER'], dtype=object)"
      ]
     },
     "execution_count": 74,
     "metadata": {},
     "output_type": "execute_result"
    }
   ],
   "source": [
    "raw_data['home_ownership'].unique()"
   ]
  },
  {
   "cell_type": "code",
   "execution_count": 75,
   "metadata": {},
   "outputs": [],
   "source": [
    "raw_data = pd.get_dummies(raw_data, columns=['home_ownership'])"
   ]
  },
  {
   "cell_type": "code",
   "execution_count": 76,
   "metadata": {},
   "outputs": [
    {
     "data": {
      "text/html": [
       "<div>\n",
       "<style scoped>\n",
       "    .dataframe tbody tr th:only-of-type {\n",
       "        vertical-align: middle;\n",
       "    }\n",
       "\n",
       "    .dataframe tbody tr th {\n",
       "        vertical-align: top;\n",
       "    }\n",
       "\n",
       "    .dataframe thead th {\n",
       "        text-align: right;\n",
       "    }\n",
       "</style>\n",
       "<table border=\"1\" class=\"dataframe\">\n",
       "  <thead>\n",
       "    <tr style=\"text-align: right;\">\n",
       "      <th></th>\n",
       "      <th>loan_amnt</th>\n",
       "      <th>term</th>\n",
       "      <th>int_rate</th>\n",
       "      <th>installment</th>\n",
       "      <th>sub_grade</th>\n",
       "      <th>emp_length</th>\n",
       "      <th>annual_inc</th>\n",
       "      <th>verification_status</th>\n",
       "      <th>issue_d</th>\n",
       "      <th>loan_status</th>\n",
       "      <th>...</th>\n",
       "      <th>policy_code</th>\n",
       "      <th>application_type</th>\n",
       "      <th>acc_now_delinq</th>\n",
       "      <th>tot_coll_amt</th>\n",
       "      <th>tot_cur_bal</th>\n",
       "      <th>total_rev_hi_lim</th>\n",
       "      <th>home_ownership_MORTGAGE</th>\n",
       "      <th>home_ownership_OTHER</th>\n",
       "      <th>home_ownership_OWN</th>\n",
       "      <th>home_ownership_RENT</th>\n",
       "    </tr>\n",
       "  </thead>\n",
       "  <tbody>\n",
       "    <tr>\n",
       "      <th>0</th>\n",
       "      <td>8.517393</td>\n",
       "      <td>36 months</td>\n",
       "      <td>2.365560</td>\n",
       "      <td>5.092952</td>\n",
       "      <td>2.2</td>\n",
       "      <td>10.0</td>\n",
       "      <td>10.085851</td>\n",
       "      <td>Verified</td>\n",
       "      <td>Dec-2011</td>\n",
       "      <td>Fully Paid</td>\n",
       "      <td>...</td>\n",
       "      <td>1.0</td>\n",
       "      <td>INDIVIDUAL</td>\n",
       "      <td>0.0</td>\n",
       "      <td>NaN</td>\n",
       "      <td>NaN</td>\n",
       "      <td>NaN</td>\n",
       "      <td>0</td>\n",
       "      <td>0</td>\n",
       "      <td>0</td>\n",
       "      <td>1</td>\n",
       "    </tr>\n",
       "    <tr>\n",
       "      <th>1</th>\n",
       "      <td>7.824446</td>\n",
       "      <td>60 months</td>\n",
       "      <td>2.725890</td>\n",
       "      <td>4.091507</td>\n",
       "      <td>3.4</td>\n",
       "      <td>0.5</td>\n",
       "      <td>10.308986</td>\n",
       "      <td>Source Verified</td>\n",
       "      <td>Dec-2011</td>\n",
       "      <td>Charged Off</td>\n",
       "      <td>...</td>\n",
       "      <td>1.0</td>\n",
       "      <td>INDIVIDUAL</td>\n",
       "      <td>0.0</td>\n",
       "      <td>NaN</td>\n",
       "      <td>NaN</td>\n",
       "      <td>NaN</td>\n",
       "      <td>0</td>\n",
       "      <td>0</td>\n",
       "      <td>0</td>\n",
       "      <td>1</td>\n",
       "    </tr>\n",
       "    <tr>\n",
       "      <th>2</th>\n",
       "      <td>7.783641</td>\n",
       "      <td>36 months</td>\n",
       "      <td>2.770086</td>\n",
       "      <td>4.434738</td>\n",
       "      <td>3.5</td>\n",
       "      <td>10.0</td>\n",
       "      <td>9.413526</td>\n",
       "      <td>Not Verified</td>\n",
       "      <td>Dec-2011</td>\n",
       "      <td>Fully Paid</td>\n",
       "      <td>...</td>\n",
       "      <td>1.0</td>\n",
       "      <td>INDIVIDUAL</td>\n",
       "      <td>0.0</td>\n",
       "      <td>NaN</td>\n",
       "      <td>NaN</td>\n",
       "      <td>NaN</td>\n",
       "      <td>0</td>\n",
       "      <td>0</td>\n",
       "      <td>0</td>\n",
       "      <td>1</td>\n",
       "    </tr>\n",
       "    <tr>\n",
       "      <th>3</th>\n",
       "      <td>9.210440</td>\n",
       "      <td>36 months</td>\n",
       "      <td>2.601949</td>\n",
       "      <td>5.826914</td>\n",
       "      <td>3.1</td>\n",
       "      <td>10.0</td>\n",
       "      <td>10.803669</td>\n",
       "      <td>Source Verified</td>\n",
       "      <td>Dec-2011</td>\n",
       "      <td>Fully Paid</td>\n",
       "      <td>...</td>\n",
       "      <td>1.0</td>\n",
       "      <td>INDIVIDUAL</td>\n",
       "      <td>0.0</td>\n",
       "      <td>NaN</td>\n",
       "      <td>NaN</td>\n",
       "      <td>NaN</td>\n",
       "      <td>0</td>\n",
       "      <td>0</td>\n",
       "      <td>0</td>\n",
       "      <td>1</td>\n",
       "    </tr>\n",
       "    <tr>\n",
       "      <th>4</th>\n",
       "      <td>8.006701</td>\n",
       "      <td>60 months</td>\n",
       "      <td>2.540814</td>\n",
       "      <td>4.216415</td>\n",
       "      <td>2.5</td>\n",
       "      <td>1.0</td>\n",
       "      <td>11.289794</td>\n",
       "      <td>Source Verified</td>\n",
       "      <td>Dec-2011</td>\n",
       "      <td>Current</td>\n",
       "      <td>...</td>\n",
       "      <td>1.0</td>\n",
       "      <td>INDIVIDUAL</td>\n",
       "      <td>0.0</td>\n",
       "      <td>NaN</td>\n",
       "      <td>NaN</td>\n",
       "      <td>NaN</td>\n",
       "      <td>0</td>\n",
       "      <td>0</td>\n",
       "      <td>0</td>\n",
       "      <td>1</td>\n",
       "    </tr>\n",
       "  </tbody>\n",
       "</table>\n",
       "<p>5 rows × 51 columns</p>\n",
       "</div>"
      ],
      "text/plain": [
       "   loan_amnt        term  int_rate  installment  sub_grade  emp_length  \\\n",
       "0   8.517393   36 months  2.365560     5.092952        2.2        10.0   \n",
       "1   7.824446   60 months  2.725890     4.091507        3.4         0.5   \n",
       "2   7.783641   36 months  2.770086     4.434738        3.5        10.0   \n",
       "3   9.210440   36 months  2.601949     5.826914        3.1        10.0   \n",
       "4   8.006701   60 months  2.540814     4.216415        2.5         1.0   \n",
       "\n",
       "   annual_inc verification_status   issue_d  loan_status         ...           \\\n",
       "0   10.085851            Verified  Dec-2011   Fully Paid         ...            \n",
       "1   10.308986     Source Verified  Dec-2011  Charged Off         ...            \n",
       "2    9.413526        Not Verified  Dec-2011   Fully Paid         ...            \n",
       "3   10.803669     Source Verified  Dec-2011   Fully Paid         ...            \n",
       "4   11.289794     Source Verified  Dec-2011      Current         ...            \n",
       "\n",
       "  policy_code application_type acc_now_delinq tot_coll_amt tot_cur_bal  \\\n",
       "0         1.0       INDIVIDUAL            0.0          NaN         NaN   \n",
       "1         1.0       INDIVIDUAL            0.0          NaN         NaN   \n",
       "2         1.0       INDIVIDUAL            0.0          NaN         NaN   \n",
       "3         1.0       INDIVIDUAL            0.0          NaN         NaN   \n",
       "4         1.0       INDIVIDUAL            0.0          NaN         NaN   \n",
       "\n",
       "  total_rev_hi_lim  home_ownership_MORTGAGE  home_ownership_OTHER  \\\n",
       "0              NaN                        0                     0   \n",
       "1              NaN                        0                     0   \n",
       "2              NaN                        0                     0   \n",
       "3              NaN                        0                     0   \n",
       "4              NaN                        0                     0   \n",
       "\n",
       "  home_ownership_OWN  home_ownership_RENT  \n",
       "0                  0                    1  \n",
       "1                  0                    1  \n",
       "2                  0                    1  \n",
       "3                  0                    1  \n",
       "4                  0                    1  \n",
       "\n",
       "[5 rows x 51 columns]"
      ]
     },
     "execution_count": 76,
     "metadata": {},
     "output_type": "execute_result"
    }
   ],
   "source": [
    "raw_data.head()"
   ]
  },
  {
   "cell_type": "markdown",
   "metadata": {},
   "source": [
    "#### term"
   ]
  },
  {
   "cell_type": "code",
   "execution_count": 77,
   "metadata": {},
   "outputs": [
    {
     "data": {
      "text/plain": [
       "count         887375\n",
       "unique             2\n",
       "top        36 months\n",
       "freq          621121\n",
       "Name: term, dtype: object"
      ]
     },
     "execution_count": 77,
     "metadata": {},
     "output_type": "execute_result"
    }
   ],
   "source": [
    "raw_data['term'].describe()"
   ]
  },
  {
   "cell_type": "code",
   "execution_count": 78,
   "metadata": {},
   "outputs": [
    {
     "data": {
      "text/plain": [
       "0"
      ]
     },
     "execution_count": 78,
     "metadata": {},
     "output_type": "execute_result"
    }
   ],
   "source": [
    "raw_data['term'].isnull().sum()"
   ]
  },
  {
   "cell_type": "markdown",
   "metadata": {},
   "source": [
    "Term is a binary variable. Let's encode it as follows: 36 months -> 0, 60 months -> 1."
   ]
  },
  {
   "cell_type": "code",
   "execution_count": 79,
   "metadata": {},
   "outputs": [],
   "source": [
    "from sklearn.preprocessing import LabelEncoder"
   ]
  },
  {
   "cell_type": "code",
   "execution_count": 80,
   "metadata": {},
   "outputs": [],
   "source": [
    "raw_data['term'] = LabelEncoder().fit_transform(raw_data['term'])"
   ]
  },
  {
   "cell_type": "code",
   "execution_count": 81,
   "metadata": {},
   "outputs": [
    {
     "data": {
      "text/plain": [
       "0    621121\n",
       "1    266254\n",
       "Name: term, dtype: int64"
      ]
     },
     "execution_count": 81,
     "metadata": {},
     "output_type": "execute_result"
    }
   ],
   "source": [
    "raw_data['term'].value_counts()"
   ]
  },
  {
   "cell_type": "markdown",
   "metadata": {},
   "source": [
    "#### verification_status"
   ]
  },
  {
   "cell_type": "code",
   "execution_count": 82,
   "metadata": {},
   "outputs": [
    {
     "data": {
      "text/plain": [
       "count              887375\n",
       "unique                  3\n",
       "top       Source Verified\n",
       "freq               329558\n",
       "Name: verification_status, dtype: object"
      ]
     },
     "execution_count": 82,
     "metadata": {},
     "output_type": "execute_result"
    }
   ],
   "source": [
    "raw_data['verification_status'].describe()"
   ]
  },
  {
   "cell_type": "code",
   "execution_count": 83,
   "metadata": {},
   "outputs": [
    {
     "data": {
      "text/plain": [
       "0"
      ]
     },
     "execution_count": 83,
     "metadata": {},
     "output_type": "execute_result"
    }
   ],
   "source": [
    "raw_data['verification_status'].isnull().sum()"
   ]
  },
  {
   "cell_type": "code",
   "execution_count": 84,
   "metadata": {},
   "outputs": [
    {
     "data": {
      "text/plain": [
       "Source Verified    329558\n",
       "Verified           291071\n",
       "Not Verified       266746\n",
       "Name: verification_status, dtype: int64"
      ]
     },
     "execution_count": 84,
     "metadata": {},
     "output_type": "execute_result"
    }
   ],
   "source": [
    "raw_data['verification_status'].value_counts()"
   ]
  },
  {
   "cell_type": "code",
   "execution_count": 85,
   "metadata": {},
   "outputs": [],
   "source": [
    "raw_data = pd.get_dummies(raw_data, columns=['verification_status'])"
   ]
  },
  {
   "cell_type": "markdown",
   "metadata": {},
   "source": [
    "#### issue_d"
   ]
  },
  {
   "cell_type": "code",
   "execution_count": 86,
   "metadata": {},
   "outputs": [
    {
     "data": {
      "text/plain": [
       "count       887375\n",
       "unique         103\n",
       "top       Oct-2015\n",
       "freq         48631\n",
       "Name: issue_d, dtype: object"
      ]
     },
     "execution_count": 86,
     "metadata": {},
     "output_type": "execute_result"
    }
   ],
   "source": [
    "raw_data['issue_d'].describe()"
   ]
  },
  {
   "cell_type": "code",
   "execution_count": 87,
   "metadata": {},
   "outputs": [
    {
     "data": {
      "text/plain": [
       "0"
      ]
     },
     "execution_count": 87,
     "metadata": {},
     "output_type": "execute_result"
    }
   ],
   "source": [
    "raw_data['issue_d'].isnull().sum()"
   ]
  },
  {
   "cell_type": "code",
   "execution_count": 88,
   "metadata": {
    "scrolled": true
   },
   "outputs": [
    {
     "data": {
      "text/plain": [
       "Oct-2015    48631\n",
       "Jul-2015    45962\n",
       "Dec-2015    44342\n",
       "Oct-2014    38782\n",
       "Nov-2015    37530\n",
       "Aug-2015    35886\n",
       "Apr-2015    35427\n",
       "Jan-2015    35107\n",
       "May-2015    31913\n",
       "Jul-2014    29306\n",
       "Sep-2015    28641\n",
       "Jun-2015    28485\n",
       "Mar-2015    25400\n",
       "Nov-2014    25054\n",
       "Feb-2015    23770\n",
       "May-2014    19099\n",
       "Apr-2014    19071\n",
       "Aug-2014    18814\n",
       "Jun-2014    17179\n",
       "Mar-2014    16513\n",
       "Jan-2014    15628\n",
       "Feb-2014    15269\n",
       "Dec-2013    15020\n",
       "Nov-2013    14676\n",
       "Oct-2013    14114\n",
       "Sep-2013    12987\n",
       "Aug-2013    12674\n",
       "Jul-2013    11910\n",
       "Jun-2013    10899\n",
       "Sep-2014    10606\n",
       "            ...  \n",
       "Dec-2009      658\n",
       "Oct-2009      604\n",
       "Sep-2009      507\n",
       "Aug-2009      446\n",
       "Jul-2009      411\n",
       "Jun-2009      406\n",
       "Mar-2008      402\n",
       "May-2009      359\n",
       "Apr-2009      333\n",
       "Mar-2009      324\n",
       "Feb-2008      306\n",
       "Jan-2008      305\n",
       "Feb-2009      302\n",
       "Jan-2009      269\n",
       "Apr-2008      259\n",
       "Dec-2008      253\n",
       "Nov-2008      209\n",
       "Dec-2007      172\n",
       "Jul-2008      141\n",
       "Jun-2008      124\n",
       "Oct-2008      122\n",
       "May-2008      115\n",
       "Nov-2007      112\n",
       "Oct-2007      105\n",
       "Aug-2008      100\n",
       "Aug-2007       72\n",
       "Jul-2007       62\n",
       "Sep-2008       57\n",
       "Sep-2007       53\n",
       "Jun-2007       23\n",
       "Name: issue_d, Length: 103, dtype: int64"
      ]
     },
     "execution_count": 88,
     "metadata": {},
     "output_type": "execute_result"
    }
   ],
   "source": [
    "raw_data['issue_d'].value_counts()"
   ]
  },
  {
   "cell_type": "code",
   "execution_count": 89,
   "metadata": {},
   "outputs": [
    {
     "data": {
      "text/plain": [
       "2"
      ]
     },
     "execution_count": 89,
     "metadata": {},
     "output_type": "execute_result"
    }
   ],
   "source": [
    "from time import strptime\n",
    "\n",
    "# example usage\n",
    "strptime('Feb','%b').tm_mon"
   ]
  },
  {
   "cell_type": "markdown",
   "metadata": {},
   "source": [
    "Let's create a new column with month of issue encoded as an int."
   ]
  },
  {
   "cell_type": "code",
   "execution_count": 90,
   "metadata": {},
   "outputs": [],
   "source": [
    "raw_data['issue_month'] = raw_data['issue_d'].apply(lambda x: strptime(x[:3], '%b').tm_mon)"
   ]
  },
  {
   "cell_type": "code",
   "execution_count": 91,
   "metadata": {},
   "outputs": [],
   "source": [
    "raw_data['issue_year'] = raw_data['issue_d'].apply(lambda x: int(x[4:]))"
   ]
  },
  {
   "cell_type": "code",
   "execution_count": 92,
   "metadata": {},
   "outputs": [],
   "source": [
    "raw_data['issue_year'] = (raw_data['issue_year'] - 2000)"
   ]
  },
  {
   "cell_type": "code",
   "execution_count": 93,
   "metadata": {},
   "outputs": [],
   "source": [
    "raw_data.drop(columns=['issue_d'], axis=1, inplace=True)"
   ]
  },
  {
   "cell_type": "markdown",
   "metadata": {},
   "source": [
    "#### pymnt_plan"
   ]
  },
  {
   "cell_type": "code",
   "execution_count": 94,
   "metadata": {},
   "outputs": [
    {
     "data": {
      "text/plain": [
       "count     887375\n",
       "unique         2\n",
       "top            n\n",
       "freq      887365\n",
       "Name: pymnt_plan, dtype: object"
      ]
     },
     "execution_count": 94,
     "metadata": {},
     "output_type": "execute_result"
    }
   ],
   "source": [
    "raw_data['pymnt_plan'].describe()"
   ]
  },
  {
   "cell_type": "code",
   "execution_count": 95,
   "metadata": {},
   "outputs": [
    {
     "data": {
      "text/plain": [
       "0"
      ]
     },
     "execution_count": 95,
     "metadata": {},
     "output_type": "execute_result"
    }
   ],
   "source": [
    "raw_data['pymnt_plan'].isnull().sum()"
   ]
  },
  {
   "cell_type": "code",
   "execution_count": 96,
   "metadata": {},
   "outputs": [
    {
     "data": {
      "text/plain": [
       "n    887365\n",
       "y        10\n",
       "Name: pymnt_plan, dtype: int64"
      ]
     },
     "execution_count": 96,
     "metadata": {},
     "output_type": "execute_result"
    }
   ],
   "source": [
    "raw_data['pymnt_plan'].value_counts()"
   ]
  },
  {
   "cell_type": "markdown",
   "metadata": {},
   "source": [
    "This column is virtually constant as there are only 10 people with a payment plan. Let's drop it."
   ]
  },
  {
   "cell_type": "code",
   "execution_count": 97,
   "metadata": {},
   "outputs": [],
   "source": [
    "raw_data.drop(columns=['pymnt_plan'], axis=1, inplace=True)"
   ]
  },
  {
   "cell_type": "markdown",
   "metadata": {},
   "source": [
    "#### url"
   ]
  },
  {
   "cell_type": "markdown",
   "metadata": {},
   "source": [
    "This is equivalent to ID of the loan."
   ]
  },
  {
   "cell_type": "code",
   "execution_count": 98,
   "metadata": {},
   "outputs": [],
   "source": [
    "raw_data.drop(columns=['url'], axis=1, inplace=True)"
   ]
  },
  {
   "cell_type": "markdown",
   "metadata": {},
   "source": [
    "#### purpose"
   ]
  },
  {
   "cell_type": "code",
   "execution_count": 99,
   "metadata": {},
   "outputs": [
    {
     "data": {
      "text/plain": [
       "count                 887375\n",
       "unique                    14\n",
       "top       debt_consolidation\n",
       "freq                  524215\n",
       "Name: purpose, dtype: object"
      ]
     },
     "execution_count": 99,
     "metadata": {},
     "output_type": "execute_result"
    }
   ],
   "source": [
    "raw_data['purpose'].describe()"
   ]
  },
  {
   "cell_type": "code",
   "execution_count": 100,
   "metadata": {
    "scrolled": true
   },
   "outputs": [
    {
     "data": {
      "text/plain": [
       "debt_consolidation    524215\n",
       "credit_card           206182\n",
       "home_improvement       51829\n",
       "other                  42890\n",
       "major_purchase         17277\n",
       "small_business         10377\n",
       "car                     8863\n",
       "medical                 8540\n",
       "moving                  5414\n",
       "vacation                4736\n",
       "house                   3707\n",
       "wedding                 2347\n",
       "renewable_energy         575\n",
       "educational              423\n",
       "Name: purpose, dtype: int64"
      ]
     },
     "execution_count": 100,
     "metadata": {},
     "output_type": "execute_result"
    }
   ],
   "source": [
    "raw_data['purpose'].value_counts()"
   ]
  },
  {
   "cell_type": "code",
   "execution_count": 101,
   "metadata": {},
   "outputs": [],
   "source": [
    "raw_data = pd.get_dummies(raw_data, columns=['purpose'])"
   ]
  },
  {
   "cell_type": "markdown",
   "metadata": {},
   "source": [
    "#### title"
   ]
  },
  {
   "cell_type": "code",
   "execution_count": 102,
   "metadata": {},
   "outputs": [
    {
     "data": {
      "text/plain": [
       "count                 887223\n",
       "unique                 63143\n",
       "top       Debt consolidation\n",
       "freq                  414001\n",
       "Name: title, dtype: object"
      ]
     },
     "execution_count": 102,
     "metadata": {},
     "output_type": "execute_result"
    }
   ],
   "source": [
    "raw_data['title'].describe()"
   ]
  },
  {
   "cell_type": "code",
   "execution_count": 103,
   "metadata": {},
   "outputs": [
    {
     "data": {
      "text/plain": [
       "413228"
      ]
     },
     "execution_count": 103,
     "metadata": {},
     "output_type": "execute_result"
    }
   ],
   "source": [
    "raw_data['purpose_debt_consolidation'][raw_data['title'] == 'Debt consolidation'].sum()"
   ]
  },
  {
   "cell_type": "code",
   "execution_count": 104,
   "metadata": {},
   "outputs": [
    {
     "data": {
      "text/plain": [
       "414001"
      ]
     },
     "execution_count": 104,
     "metadata": {},
     "output_type": "execute_result"
    }
   ],
   "source": [
    "(raw_data['title'] == 'Debt consolidation').sum()"
   ]
  },
  {
   "cell_type": "markdown",
   "metadata": {},
   "source": [
    "We see that there is very high overlap between debt consolidation being the title and the purpose of the loan. Also, there is a very high number of purpose categories. We will thus remove that column from the dataset."
   ]
  },
  {
   "cell_type": "code",
   "execution_count": 105,
   "metadata": {
    "scrolled": true
   },
   "outputs": [
    {
     "data": {
      "text/plain": [
       "0                                      Computer\n",
       "1                                          bike\n",
       "2                          real estate business\n",
       "3                                      personel\n",
       "4                                      Personal\n",
       "5         My wedding loan I promise to pay back\n",
       "6                                          Loan\n",
       "7                               Car Downpayment\n",
       "8          Expand Business & Buy Debt Portfolio\n",
       "9                   Building my credit history.\n",
       "10                   High intrest Consolidation\n",
       "11                                Consolidation\n",
       "12                                      freedom\n",
       "13                                citicard fund\n",
       "14                                   Other Loan\n",
       "15                      Debt Consolidation Loan\n",
       "16                                         Home\n",
       "17                                      Holiday\n",
       "18                                      Medical\n",
       "19          lowerratemeanseasiertogetoutofdebt!\n",
       "20                    Freedom From Credit Cards\n",
       "21                                 Debt Cleanup\n",
       "22                             Credit Card Loan\n",
       "23                           Debt Consolidation\n",
       "24                                         cash\n",
       "25                    No more credit card debt!\n",
       "26                                consolidation\n",
       "27                                        Other\n",
       "28                           Debt Consolidation\n",
       "29                   Credit card repayment loan\n",
       "                          ...                  \n",
       "887349                       Debt consolidation\n",
       "887350                       Debt consolidation\n",
       "887351                         Medical expenses\n",
       "887352                       Debt consolidation\n",
       "887353                                    Other\n",
       "887354                       Debt consolidation\n",
       "887355                       Debt consolidation\n",
       "887356                  Credit card refinancing\n",
       "887357                       Debt consolidation\n",
       "887358                       Debt consolidation\n",
       "887359                       Debt consolidation\n",
       "887360                       Debt consolidation\n",
       "887361                  Credit card refinancing\n",
       "887362                       Debt consolidation\n",
       "887363                       Debt consolidation\n",
       "887364                       Debt consolidation\n",
       "887365                       Debt consolidation\n",
       "887366                       Debt consolidation\n",
       "887367                       Debt consolidation\n",
       "887368                           Major purchase\n",
       "887369                            Car financing\n",
       "887370                       Debt consolidation\n",
       "887371                       Debt consolidation\n",
       "887372                  Credit card refinancing\n",
       "887373                  Credit card refinancing\n",
       "887374                       Debt consolidation\n",
       "887375                         Home improvement\n",
       "887376                       Debt consolidation\n",
       "887377                       Debt consolidation\n",
       "887378                  Credit card refinancing\n",
       "Name: title, Length: 887375, dtype: object"
      ]
     },
     "execution_count": 105,
     "metadata": {},
     "output_type": "execute_result"
    }
   ],
   "source": [
    "raw_data['title']"
   ]
  },
  {
   "cell_type": "code",
   "execution_count": 106,
   "metadata": {},
   "outputs": [],
   "source": [
    "raw_data.drop(columns=['title'], axis=1, inplace=True)"
   ]
  },
  {
   "cell_type": "markdown",
   "metadata": {},
   "source": [
    "#### zip code"
   ]
  },
  {
   "cell_type": "code",
   "execution_count": 107,
   "metadata": {},
   "outputs": [
    {
     "data": {
      "text/plain": [
       "count     887375\n",
       "unique       935\n",
       "top        945xx\n",
       "freq        9770\n",
       "Name: zip_code, dtype: object"
      ]
     },
     "execution_count": 107,
     "metadata": {},
     "output_type": "execute_result"
    }
   ],
   "source": [
    "raw_data['zip_code'].describe()"
   ]
  },
  {
   "cell_type": "code",
   "execution_count": 108,
   "metadata": {},
   "outputs": [
    {
     "data": {
      "text/plain": [
       "0"
      ]
     },
     "execution_count": 108,
     "metadata": {},
     "output_type": "execute_result"
    }
   ],
   "source": [
    "raw_data['zip_code'].isnull().sum()"
   ]
  },
  {
   "cell_type": "markdown",
   "metadata": {},
   "source": [
    "There's too many unique zip codes to one-hot-encode them. However, there is a column encoding the state. We thus remove zipcode column and keep the state only."
   ]
  },
  {
   "cell_type": "code",
   "execution_count": 109,
   "metadata": {},
   "outputs": [],
   "source": [
    "raw_data.drop(columns=['zip_code'], inplace=True, axis=1)"
   ]
  },
  {
   "cell_type": "markdown",
   "metadata": {},
   "source": [
    "#### state"
   ]
  },
  {
   "cell_type": "code",
   "execution_count": 110,
   "metadata": {},
   "outputs": [
    {
     "data": {
      "text/plain": [
       "count     887375\n",
       "unique        51\n",
       "top           CA\n",
       "freq      129517\n",
       "Name: addr_state, dtype: object"
      ]
     },
     "execution_count": 110,
     "metadata": {},
     "output_type": "execute_result"
    }
   ],
   "source": [
    "raw_data['addr_state'].describe()"
   ]
  },
  {
   "cell_type": "code",
   "execution_count": 111,
   "metadata": {},
   "outputs": [
    {
     "data": {
      "text/plain": [
       "0"
      ]
     },
     "execution_count": 111,
     "metadata": {},
     "output_type": "execute_result"
    }
   ],
   "source": [
    "raw_data['addr_state'].isnull().sum()"
   ]
  },
  {
   "cell_type": "code",
   "execution_count": 112,
   "metadata": {},
   "outputs": [
    {
     "data": {
      "text/plain": [
       "CA    129517\n",
       "NY     74082\n",
       "TX     71138\n",
       "FL     60935\n",
       "IL     35476\n",
       "NJ     33256\n",
       "PA     31393\n",
       "OH     29631\n",
       "GA     29085\n",
       "VA     26255\n",
       "NC     24720\n",
       "MI     22985\n",
       "MD     21031\n",
       "MA     20593\n",
       "AZ     20412\n",
       "WA     19434\n",
       "CO     18807\n",
       "MN     15957\n",
       "MO     14207\n",
       "IN     13789\n",
       "CT     13531\n",
       "TN     12887\n",
       "NV     12443\n",
       "WI     11574\n",
       "AL     11200\n",
       "OR     10893\n",
       "SC     10639\n",
       "LA     10587\n",
       "KY      8550\n",
       "OK      8085\n",
       "KS      7926\n",
       "AR      6640\n",
       "UT      6264\n",
       "NM      4939\n",
       "HI      4570\n",
       "WV      4386\n",
       "NH      4294\n",
       "RI      3893\n",
       "MS      3819\n",
       "MT      2558\n",
       "DE      2511\n",
       "DC      2432\n",
       "AK      2205\n",
       "WY      2028\n",
       "SD      1815\n",
       "VT      1797\n",
       "NE      1176\n",
       "ME       525\n",
       "ND       479\n",
       "IA        14\n",
       "ID        12\n",
       "Name: addr_state, dtype: int64"
      ]
     },
     "execution_count": 112,
     "metadata": {},
     "output_type": "execute_result"
    }
   ],
   "source": [
    "raw_data['addr_state'].value_counts()"
   ]
  },
  {
   "cell_type": "markdown",
   "metadata": {},
   "source": [
    "There are too many states to one-hot-encode them and some of them are very rare. Let's put each which accounts for less than ~1% of all records to 'Other' category."
   ]
  },
  {
   "cell_type": "code",
   "execution_count": 113,
   "metadata": {},
   "outputs": [
    {
     "data": {
      "text/plain": [
       "8873.75"
      ]
     },
     "execution_count": 113,
     "metadata": {},
     "output_type": "execute_result"
    }
   ],
   "source": [
    "0.01*raw_data.shape[0]"
   ]
  },
  {
   "cell_type": "markdown",
   "metadata": {},
   "source": [
    "So let's group together all the states with less than 10000 observations."
   ]
  },
  {
   "cell_type": "code",
   "execution_count": 114,
   "metadata": {},
   "outputs": [],
   "source": [
    "state_counts = raw_data['addr_state'].value_counts()"
   ]
  },
  {
   "cell_type": "code",
   "execution_count": 115,
   "metadata": {},
   "outputs": [],
   "source": [
    "raw_data['addr_state'] = raw_data['addr_state'].apply(\n",
    "    lambda x: x if state_counts[x] > 10000 else 'Other')"
   ]
  },
  {
   "cell_type": "markdown",
   "metadata": {},
   "source": [
    "Let's look at value counts of remaining states and other."
   ]
  },
  {
   "cell_type": "code",
   "execution_count": 116,
   "metadata": {},
   "outputs": [
    {
     "data": {
      "text/plain": [
       "CA       129517\n",
       "Other     80918\n",
       "NY        74082\n",
       "TX        71138\n",
       "FL        60935\n",
       "IL        35476\n",
       "NJ        33256\n",
       "PA        31393\n",
       "OH        29631\n",
       "GA        29085\n",
       "VA        26255\n",
       "NC        24720\n",
       "MI        22985\n",
       "MD        21031\n",
       "MA        20593\n",
       "AZ        20412\n",
       "WA        19434\n",
       "CO        18807\n",
       "MN        15957\n",
       "MO        14207\n",
       "IN        13789\n",
       "CT        13531\n",
       "TN        12887\n",
       "NV        12443\n",
       "WI        11574\n",
       "AL        11200\n",
       "OR        10893\n",
       "SC        10639\n",
       "LA        10587\n",
       "Name: addr_state, dtype: int64"
      ]
     },
     "execution_count": 116,
     "metadata": {},
     "output_type": "execute_result"
    }
   ],
   "source": [
    "raw_data['addr_state'].value_counts()"
   ]
  },
  {
   "cell_type": "code",
   "execution_count": 117,
   "metadata": {},
   "outputs": [
    {
     "data": {
      "text/plain": [
       "29"
      ]
     },
     "execution_count": 117,
     "metadata": {},
     "output_type": "execute_result"
    }
   ],
   "source": [
    "len(raw_data['addr_state'].value_counts())"
   ]
  },
  {
   "cell_type": "code",
   "execution_count": 118,
   "metadata": {},
   "outputs": [],
   "source": [
    "raw_data = pd.get_dummies(raw_data, columns=['addr_state'])"
   ]
  },
  {
   "cell_type": "markdown",
   "metadata": {},
   "source": [
    "#### dti"
   ]
  },
  {
   "cell_type": "code",
   "execution_count": 119,
   "metadata": {},
   "outputs": [
    {
     "data": {
      "text/plain": [
       "count    887375.000000\n",
       "mean         18.157113\n",
       "std          17.190629\n",
       "min           0.000000\n",
       "25%          11.910000\n",
       "50%          17.650000\n",
       "75%          23.950000\n",
       "max        9999.000000\n",
       "Name: dti, dtype: float64"
      ]
     },
     "execution_count": 119,
     "metadata": {},
     "output_type": "execute_result"
    }
   ],
   "source": [
    "raw_data['dti'].describe()"
   ]
  },
  {
   "cell_type": "code",
   "execution_count": 120,
   "metadata": {},
   "outputs": [
    {
     "data": {
      "text/plain": [
       "0"
      ]
     },
     "execution_count": 120,
     "metadata": {},
     "output_type": "execute_result"
    }
   ],
   "source": [
    "raw_data['dti'].isnull().sum()"
   ]
  },
  {
   "cell_type": "code",
   "execution_count": 121,
   "metadata": {},
   "outputs": [
    {
     "data": {
      "image/png": "[encoded data removed]",
      "text/plain": [
       "<Figure size 432x288 with 1 Axes>"
      ]
     },
     "metadata": {},
     "output_type": "display_data"
    }
   ],
   "source": [
    "plt.hist(raw_data['dti'], bins=30)\n",
    "plt.show()"
   ]
  },
  {
   "cell_type": "code",
   "execution_count": 122,
   "metadata": {},
   "outputs": [
    {
     "data": {
      "image/png": "[encoded data removed]",
      "text/plain": [
       "<Figure size 432x288 with 1 Axes>"
      ]
     },
     "metadata": {},
     "output_type": "display_data"
    }
   ],
   "source": [
    "plt.hist(np.log1p(raw_data['dti']), bins=30)\n",
    "plt.show()"
   ]
  },
  {
   "cell_type": "code",
   "execution_count": 123,
   "metadata": {},
   "outputs": [
    {
     "data": {
      "text/plain": [
       "11"
      ]
     },
     "execution_count": 123,
     "metadata": {},
     "output_type": "execute_result"
    }
   ],
   "source": [
    "(raw_data['dti'] > 100).sum()"
   ]
  },
  {
   "cell_type": "code",
   "execution_count": 124,
   "metadata": {},
   "outputs": [
    {
     "data": {
      "text/plain": [
       "9999.0"
      ]
     },
     "execution_count": 124,
     "metadata": {},
     "output_type": "execute_result"
    }
   ],
   "source": [
    "max(raw_data['dti'])"
   ]
  },
  {
   "cell_type": "markdown",
   "metadata": {},
   "source": [
    "There are some very high numbers which can either indicate an error in measurment or reported income close to 0 (which would mean DTI -> infinity). However, if we simply log the data, we achive two goals: make the range of values closer to ranges of values of other variables (which is important in fitting linear models), and reduce the effect of outlier values."
   ]
  },
  {
   "cell_type": "code",
   "execution_count": 125,
   "metadata": {},
   "outputs": [],
   "source": [
    "raw_data['dti'] = np.log1p(raw_data['dti'])"
   ]
  },
  {
   "cell_type": "markdown",
   "metadata": {},
   "source": [
    "#### delinq_2yrs"
   ]
  },
  {
   "cell_type": "code",
   "execution_count": 126,
   "metadata": {},
   "outputs": [
    {
     "data": {
      "text/plain": [
       "count    887350.000000\n",
       "mean          0.314442\n",
       "std           0.862244\n",
       "min           0.000000\n",
       "25%           0.000000\n",
       "50%           0.000000\n",
       "75%           0.000000\n",
       "max          39.000000\n",
       "Name: delinq_2yrs, dtype: float64"
      ]
     },
     "execution_count": 126,
     "metadata": {},
     "output_type": "execute_result"
    }
   ],
   "source": [
    "raw_data['delinq_2yrs'].describe()"
   ]
  },
  {
   "cell_type": "markdown",
   "metadata": {},
   "source": [
    "Since there are only 25 observations with missing value, we can safely drop them."
   ]
  },
  {
   "cell_type": "code",
   "execution_count": 127,
   "metadata": {},
   "outputs": [],
   "source": [
    "raw_data.dropna(subset=['delinq_2yrs'], axis=0, inplace=True)"
   ]
  },
  {
   "cell_type": "code",
   "execution_count": 128,
   "metadata": {},
   "outputs": [
    {
     "data": {
      "image/png": "[encoded data removed]",
      "text/plain": [
       "<Figure size 432x288 with 1 Axes>"
      ]
     },
     "metadata": {},
     "output_type": "display_data"
    }
   ],
   "source": [
    "plt.hist(raw_data['delinq_2yrs'], bins=30)\n",
    "plt.show()"
   ]
  },
  {
   "cell_type": "code",
   "execution_count": 129,
   "metadata": {},
   "outputs": [
    {
     "data": {
      "text/plain": [
       "0.064422155857328"
      ]
     },
     "execution_count": 129,
     "metadata": {},
     "output_type": "execute_result"
    }
   ],
   "source": [
    "(raw_data['delinq_2yrs'] > 1).sum()/raw_data.shape[0]"
   ]
  },
  {
   "cell_type": "code",
   "execution_count": 130,
   "metadata": {},
   "outputs": [
    {
     "data": {
      "text/plain": [
       "0.1275979038710768"
      ]
     },
     "execution_count": 130,
     "metadata": {},
     "output_type": "execute_result"
    }
   ],
   "source": [
    "(raw_data['delinq_2yrs'] == 1).sum()/raw_data.shape[0]"
   ]
  },
  {
   "cell_type": "markdown",
   "metadata": {},
   "source": [
    "There's only 6 percent of people who were late more thanc once in last two years. x% of people were late exactly once, and everyone else was never late. Thus we create three categories: 0-never late, 1-late once, 2-late twice or more."
   ]
  },
  {
   "cell_type": "code",
   "execution_count": 131,
   "metadata": {},
   "outputs": [],
   "source": [
    "def delinq_2yrs_categorizer(delinq):\n",
    "    if delinq == 0:\n",
    "        return 0\n",
    "    if delinq == 1:\n",
    "        return 1\n",
    "    else:\n",
    "        return 2"
   ]
  },
  {
   "cell_type": "code",
   "execution_count": 132,
   "metadata": {},
   "outputs": [],
   "source": [
    "raw_data['delinq_2yrs'] = raw_data['delinq_2yrs'].apply(delinq_2yrs_categorizer)"
   ]
  },
  {
   "cell_type": "markdown",
   "metadata": {},
   "source": [
    "#### earliest_cr_line"
   ]
  },
  {
   "cell_type": "code",
   "execution_count": 133,
   "metadata": {},
   "outputs": [
    {
     "data": {
      "text/plain": [
       "count       887350\n",
       "unique         697\n",
       "top       Aug-2001\n",
       "freq          6659\n",
       "Name: earliest_cr_line, dtype: object"
      ]
     },
     "execution_count": 133,
     "metadata": {},
     "output_type": "execute_result"
    }
   ],
   "source": [
    "raw_data['earliest_cr_line'].describe()"
   ]
  },
  {
   "cell_type": "code",
   "execution_count": 134,
   "metadata": {},
   "outputs": [
    {
     "data": {
      "text/plain": [
       "0"
      ]
     },
     "execution_count": 134,
     "metadata": {},
     "output_type": "execute_result"
    }
   ],
   "source": [
    "raw_data['earliest_cr_line'].isnull().sum()"
   ]
  },
  {
   "cell_type": "code",
   "execution_count": 135,
   "metadata": {},
   "outputs": [],
   "source": [
    "def get_year(date):\n",
    "    try:\n",
    "        return date[4:]\n",
    "    except TypeError:\n",
    "        return 'NA'"
   ]
  },
  {
   "cell_type": "code",
   "execution_count": 136,
   "metadata": {},
   "outputs": [
    {
     "data": {
      "text/plain": [
       "67"
      ]
     },
     "execution_count": 136,
     "metadata": {},
     "output_type": "execute_result"
    }
   ],
   "source": [
    "len(raw_data['earliest_cr_line'].apply(get_year).unique())"
   ]
  },
  {
   "cell_type": "code",
   "execution_count": 137,
   "metadata": {},
   "outputs": [],
   "source": [
    "earliest_cr_line_year_vc = raw_data['earliest_cr_line'].apply(get_year).value_counts()"
   ]
  },
  {
   "cell_type": "code",
   "execution_count": 138,
   "metadata": {
    "scrolled": true
   },
   "outputs": [
    {
     "data": {
      "text/plain": [
       "2001    63116\n",
       "2000    62614\n",
       "2002    57410\n",
       "1999    56747\n",
       "2003    52730\n",
       "1998    48381\n",
       "2004    47246\n",
       "1997    40933\n",
       "1996    40461\n",
       "2005    38641\n",
       "1995    37827\n",
       "1994    34493\n",
       "2006    32374\n",
       "1993    27958\n",
       "2007    25430\n",
       "1992    19941\n",
       "1990    19630\n",
       "1991    18588\n",
       "1989    17833\n",
       "2008    16229\n",
       "1988    14931\n",
       "1987    13244\n",
       "1986    11244\n",
       "1985     9953\n",
       "2009     9548\n",
       "1984     9238\n",
       "2010     8167\n",
       "1983     7568\n",
       "2011     6324\n",
       "1982     5709\n",
       "        ...  \n",
       "1975     1747\n",
       "1974     1534\n",
       "1973     1374\n",
       "1972     1212\n",
       "1971      793\n",
       "1970      775\n",
       "1969      687\n",
       "1968      501\n",
       "1967      477\n",
       "1966      328\n",
       "1965      281\n",
       "1964      192\n",
       "1963      154\n",
       "1962       89\n",
       "1960       67\n",
       "1961       60\n",
       "1959       48\n",
       "1958       28\n",
       "1956       16\n",
       "1957       15\n",
       "1955       14\n",
       "1950        8\n",
       "1951        6\n",
       "1953        5\n",
       "1954        5\n",
       "1952        3\n",
       "1944        2\n",
       "1946        2\n",
       "1948        1\n",
       "1949        1\n",
       "Name: earliest_cr_line, Length: 67, dtype: int64"
      ]
     },
     "execution_count": 138,
     "metadata": {},
     "output_type": "execute_result"
    }
   ],
   "source": [
    "earliest_cr_line_year_vc"
   ]
  },
  {
   "cell_type": "markdown",
   "metadata": {},
   "source": [
    "Again, there are two many categories to one hot encode them but we can group all years with fewer than 10000 observations to category 'Other'."
   ]
  },
  {
   "cell_type": "markdown",
   "metadata": {},
   "source": [
    "First though, let's get a column with earliest_cr_line year only. We decided not to include the month as a variable in the model, as it shouldn't carry much predictive power."
   ]
  },
  {
   "cell_type": "code",
   "execution_count": 139,
   "metadata": {},
   "outputs": [],
   "source": [
    "raw_data['earliest_cr_line_year'] = raw_data['earliest_cr_line'].apply(get_year)"
   ]
  },
  {
   "cell_type": "code",
   "execution_count": 140,
   "metadata": {},
   "outputs": [],
   "source": [
    "raw_data['earliest_cr_line_year'] = raw_data['earliest_cr_line_year'].apply(\n",
    "    lambda x: x if earliest_cr_line_year_vc[x] > 10000 else 'Other')"
   ]
  },
  {
   "cell_type": "code",
   "execution_count": 141,
   "metadata": {},
   "outputs": [],
   "source": [
    "raw_data.drop(columns=['earliest_cr_line'], axis=1, inplace=True)"
   ]
  },
  {
   "cell_type": "code",
   "execution_count": 142,
   "metadata": {},
   "outputs": [
    {
     "data": {
      "text/plain": [
       "Other    89349\n",
       "2001     63116\n",
       "2000     62614\n",
       "2002     57410\n",
       "1999     56747\n",
       "2003     52730\n",
       "1998     48381\n",
       "2004     47246\n",
       "1997     40933\n",
       "1996     40461\n",
       "2005     38641\n",
       "1995     37827\n",
       "1994     34493\n",
       "2006     32374\n",
       "1993     27958\n",
       "2007     25430\n",
       "1992     19941\n",
       "1990     19630\n",
       "1991     18588\n",
       "1989     17833\n",
       "2008     16229\n",
       "1988     14931\n",
       "1987     13244\n",
       "1986     11244\n",
       "Name: earliest_cr_line_year, dtype: int64"
      ]
     },
     "execution_count": 142,
     "metadata": {},
     "output_type": "execute_result"
    }
   ],
   "source": [
    "raw_data['earliest_cr_line_year'].value_counts()"
   ]
  },
  {
   "cell_type": "code",
   "execution_count": 143,
   "metadata": {},
   "outputs": [],
   "source": [
    "raw_data = pd.get_dummies(raw_data, columns=['earliest_cr_line_year'])"
   ]
  },
  {
   "cell_type": "markdown",
   "metadata": {},
   "source": [
    "#### inq_last_6_months"
   ]
  },
  {
   "cell_type": "code",
   "execution_count": 144,
   "metadata": {},
   "outputs": [
    {
     "data": {
      "text/plain": [
       "count    887350.000000\n",
       "mean          0.694623\n",
       "std           0.998448\n",
       "min           0.000000\n",
       "25%           0.000000\n",
       "50%           0.000000\n",
       "75%           1.000000\n",
       "max          33.000000\n",
       "Name: inq_last_6mths, dtype: float64"
      ]
     },
     "execution_count": 144,
     "metadata": {},
     "output_type": "execute_result"
    }
   ],
   "source": [
    "raw_data['inq_last_6mths'].describe()"
   ]
  },
  {
   "cell_type": "code",
   "execution_count": 145,
   "metadata": {},
   "outputs": [
    {
     "data": {
      "text/plain": [
       "0"
      ]
     },
     "execution_count": 145,
     "metadata": {},
     "output_type": "execute_result"
    }
   ],
   "source": [
    "raw_data['inq_last_6mths'].isnull().sum()"
   ]
  },
  {
   "cell_type": "markdown",
   "metadata": {},
   "source": [
    "Vast majority of values are 0, so fill missing values with 0."
   ]
  },
  {
   "cell_type": "code",
   "execution_count": 146,
   "metadata": {},
   "outputs": [],
   "source": [
    "raw_data['inq_last_6mths'] = raw_data['inq_last_6mths'].fillna(0)"
   ]
  },
  {
   "cell_type": "code",
   "execution_count": 147,
   "metadata": {},
   "outputs": [
    {
     "data": {
      "image/png": "[encoded data removed]",
      "text/plain": [
       "<Figure size 432x288 with 1 Axes>"
      ]
     },
     "metadata": {},
     "output_type": "display_data"
    }
   ],
   "source": [
    "plt.hist(raw_data['inq_last_6mths'], bins=30)\n",
    "plt.show()"
   ]
  },
  {
   "cell_type": "code",
   "execution_count": 148,
   "metadata": {},
   "outputs": [
    {
     "data": {
      "text/plain": [
       "71"
      ]
     },
     "execution_count": 148,
     "metadata": {},
     "output_type": "execute_result"
    }
   ],
   "source": [
    "(raw_data['inq_last_6mths'] > 10).sum()"
   ]
  },
  {
   "cell_type": "markdown",
   "metadata": {},
   "source": [
    "Let's log normalize it to lessen the impact of few high values observations."
   ]
  },
  {
   "cell_type": "code",
   "execution_count": 149,
   "metadata": {},
   "outputs": [
    {
     "data": {
      "image/png": "[encoded data removed]",
      "text/plain": [
       "<Figure size 432x288 with 1 Axes>"
      ]
     },
     "metadata": {},
     "output_type": "display_data"
    }
   ],
   "source": [
    "plt.hist(np.log1p(raw_data['inq_last_6mths']), bins=30)\n",
    "plt.show()"
   ]
  },
  {
   "cell_type": "code",
   "execution_count": 150,
   "metadata": {},
   "outputs": [],
   "source": [
    "raw_data['inq_last_6mths'] = np.log1p(raw_data['inq_last_6mths'])"
   ]
  },
  {
   "cell_type": "markdown",
   "metadata": {},
   "source": [
    "#### mths_since_last_delinq"
   ]
  },
  {
   "cell_type": "code",
   "execution_count": 151,
   "metadata": {},
   "outputs": [
    {
     "data": {
      "text/plain": [
       "0          NaN\n",
       "1          NaN\n",
       "2          NaN\n",
       "3         35.0\n",
       "4         38.0\n",
       "5          NaN\n",
       "6          NaN\n",
       "7          NaN\n",
       "8          NaN\n",
       "9          NaN\n",
       "10         NaN\n",
       "11         NaN\n",
       "12         NaN\n",
       "13         NaN\n",
       "14         NaN\n",
       "15         NaN\n",
       "16        61.0\n",
       "17         NaN\n",
       "18         8.0\n",
       "19         NaN\n",
       "20         NaN\n",
       "21         NaN\n",
       "22         NaN\n",
       "23         NaN\n",
       "24         NaN\n",
       "25         NaN\n",
       "26         NaN\n",
       "27        20.0\n",
       "28        18.0\n",
       "29         NaN\n",
       "          ... \n",
       "887349    69.0\n",
       "887350    17.0\n",
       "887351    38.0\n",
       "887352     NaN\n",
       "887353     NaN\n",
       "887354     NaN\n",
       "887355     NaN\n",
       "887356     NaN\n",
       "887357    30.0\n",
       "887358     NaN\n",
       "887359     NaN\n",
       "887360    17.0\n",
       "887361     NaN\n",
       "887362    24.0\n",
       "887363     8.0\n",
       "887364    16.0\n",
       "887365    10.0\n",
       "887366     NaN\n",
       "887367    29.0\n",
       "887368     NaN\n",
       "887369     NaN\n",
       "887370    69.0\n",
       "887371    65.0\n",
       "887372     9.0\n",
       "887373     NaN\n",
       "887374     NaN\n",
       "887375    26.0\n",
       "887376     NaN\n",
       "887377    22.0\n",
       "887378     NaN\n",
       "Name: mths_since_last_delinq, Length: 887350, dtype: float64"
      ]
     },
     "execution_count": 151,
     "metadata": {},
     "output_type": "execute_result"
    }
   ],
   "source": [
    "raw_data['mths_since_last_delinq']"
   ]
  },
  {
   "cell_type": "code",
   "execution_count": 152,
   "metadata": {},
   "outputs": [
    {
     "data": {
      "text/plain": [
       "0.5119546965684341"
      ]
     },
     "execution_count": 152,
     "metadata": {},
     "output_type": "execute_result"
    }
   ],
   "source": [
    "raw_data['mths_since_last_delinq'].isnull().sum()/raw_data.shape[0]"
   ]
  },
  {
   "cell_type": "markdown",
   "metadata": {},
   "source": [
    "Although there are a lot of missing vlaues, lack of a value most likely means deliquency never occured. All other values indicated that deliquency occured, also, its recency. We can fill NA values by putting really high values for NAs (pretending its infinity) and then log normalize."
   ]
  },
  {
   "cell_type": "code",
   "execution_count": 153,
   "metadata": {},
   "outputs": [
    {
     "data": {
      "text/plain": [
       "188.0"
      ]
     },
     "execution_count": 153,
     "metadata": {},
     "output_type": "execute_result"
    }
   ],
   "source": [
    "max(raw_data['mths_since_last_delinq'][raw_data['mths_since_last_delinq'].notnull()])"
   ]
  },
  {
   "cell_type": "markdown",
   "metadata": {},
   "source": [
    "Let's fill missing values with 10000."
   ]
  },
  {
   "cell_type": "code",
   "execution_count": 154,
   "metadata": {},
   "outputs": [],
   "source": [
    "raw_data['mths_since_last_delinq'] = raw_data['mths_since_last_delinq'].fillna(10000)"
   ]
  },
  {
   "cell_type": "markdown",
   "metadata": {},
   "source": [
    "And now log-normalize."
   ]
  },
  {
   "cell_type": "code",
   "execution_count": 155,
   "metadata": {},
   "outputs": [],
   "source": [
    "raw_data['mths_since_last_delinq'] = np.log1p(raw_data['mths_since_last_delinq'])"
   ]
  },
  {
   "cell_type": "code",
   "execution_count": 156,
   "metadata": {},
   "outputs": [
    {
     "data": {
      "image/png": "[encoded data removed]",
      "text/plain": [
       "<Figure size 432x288 with 1 Axes>"
      ]
     },
     "metadata": {},
     "output_type": "display_data"
    }
   ],
   "source": [
    "plt.hist(raw_data['mths_since_last_delinq'], bins=30)\n",
    "plt.show()"
   ]
  },
  {
   "cell_type": "markdown",
   "metadata": {},
   "source": [
    "#### open_acc"
   ]
  },
  {
   "cell_type": "code",
   "execution_count": 157,
   "metadata": {},
   "outputs": [
    {
     "data": {
      "text/plain": [
       "count    887350.000000\n",
       "mean         11.548469\n",
       "std           5.317313\n",
       "min           0.000000\n",
       "25%           8.000000\n",
       "50%          11.000000\n",
       "75%          14.000000\n",
       "max          90.000000\n",
       "Name: open_acc, dtype: float64"
      ]
     },
     "execution_count": 157,
     "metadata": {},
     "output_type": "execute_result"
    }
   ],
   "source": [
    "raw_data['open_acc'].describe()"
   ]
  },
  {
   "cell_type": "code",
   "execution_count": 158,
   "metadata": {},
   "outputs": [
    {
     "data": {
      "text/plain": [
       "0"
      ]
     },
     "execution_count": 158,
     "metadata": {},
     "output_type": "execute_result"
    }
   ],
   "source": [
    "raw_data['open_acc'].isnull().sum()"
   ]
  },
  {
   "cell_type": "code",
   "execution_count": 159,
   "metadata": {},
   "outputs": [
    {
     "data": {
      "image/png": "[encoded data removed]",
      "text/plain": [
       "<Figure size 432x288 with 1 Axes>"
      ]
     },
     "metadata": {},
     "output_type": "display_data"
    }
   ],
   "source": [
    "plt.hist(raw_data['open_acc'], bins=30)\n",
    "plt.show()"
   ]
  },
  {
   "cell_type": "markdown",
   "metadata": {},
   "source": [
    "log normalize to make the distribution more normal and make range of values smaller."
   ]
  },
  {
   "cell_type": "code",
   "execution_count": 160,
   "metadata": {},
   "outputs": [],
   "source": [
    "raw_data['open_acc'] = np.log1p(raw_data['open_acc'])"
   ]
  },
  {
   "cell_type": "markdown",
   "metadata": {},
   "source": [
    "#### pub_rec"
   ]
  },
  {
   "cell_type": "code",
   "execution_count": 161,
   "metadata": {},
   "outputs": [
    {
     "data": {
      "text/plain": [
       "count    887350.000000\n",
       "mean          0.195307\n",
       "std           0.582091\n",
       "min           0.000000\n",
       "25%           0.000000\n",
       "50%           0.000000\n",
       "75%           0.000000\n",
       "max          86.000000\n",
       "Name: pub_rec, dtype: float64"
      ]
     },
     "execution_count": 161,
     "metadata": {},
     "output_type": "execute_result"
    }
   ],
   "source": [
    "raw_data['pub_rec'].describe()"
   ]
  },
  {
   "cell_type": "code",
   "execution_count": 162,
   "metadata": {},
   "outputs": [
    {
     "data": {
      "text/plain": [
       "0"
      ]
     },
     "execution_count": 162,
     "metadata": {},
     "output_type": "execute_result"
    }
   ],
   "source": [
    "raw_data['pub_rec'].isnull().sum()"
   ]
  },
  {
   "cell_type": "code",
   "execution_count": 163,
   "metadata": {},
   "outputs": [
    {
     "data": {
      "image/png": "[encoded data removed]",
      "text/plain": [
       "<Figure size 432x288 with 1 Axes>"
      ]
     },
     "metadata": {},
     "output_type": "display_data"
    }
   ],
   "source": [
    "plt.hist(raw_data['pub_rec'], bins=30)\n",
    "plt.show()"
   ]
  },
  {
   "cell_type": "markdown",
   "metadata": {},
   "source": [
    "Again, there are some very high values. Let's log normalize to decrease their impact."
   ]
  },
  {
   "cell_type": "code",
   "execution_count": 164,
   "metadata": {},
   "outputs": [
    {
     "data": {
      "image/png": "[encoded data removed]",
      "text/plain": [
       "<Figure size 432x288 with 1 Axes>"
      ]
     },
     "metadata": {},
     "output_type": "display_data"
    }
   ],
   "source": [
    "plt.hist(np.log1p(raw_data['pub_rec']), bins=30)\n",
    "plt.show()"
   ]
  },
  {
   "cell_type": "code",
   "execution_count": 165,
   "metadata": {},
   "outputs": [],
   "source": [
    "raw_data['pub_rec'] = np.log1p(raw_data['pub_rec'])"
   ]
  },
  {
   "cell_type": "markdown",
   "metadata": {},
   "source": [
    "#### revol_bal"
   ]
  },
  {
   "cell_type": "code",
   "execution_count": 166,
   "metadata": {},
   "outputs": [
    {
     "data": {
      "text/plain": [
       "count    8.873500e+05\n",
       "mean     1.692134e+04\n",
       "std      2.242695e+04\n",
       "min      0.000000e+00\n",
       "25%      6.444000e+03\n",
       "50%      1.187500e+04\n",
       "75%      2.082900e+04\n",
       "max      2.904836e+06\n",
       "Name: revol_bal, dtype: float64"
      ]
     },
     "execution_count": 166,
     "metadata": {},
     "output_type": "execute_result"
    }
   ],
   "source": [
    "raw_data['revol_bal'].describe()"
   ]
  },
  {
   "cell_type": "code",
   "execution_count": 167,
   "metadata": {},
   "outputs": [
    {
     "data": {
      "image/png": "[encoded data removed]",
      "text/plain": [
       "<Figure size 432x288 with 1 Axes>"
      ]
     },
     "metadata": {},
     "output_type": "display_data"
    }
   ],
   "source": [
    "plt.hist(raw_data['revol_bal'], bins=30)\n",
    "plt.show()"
   ]
  },
  {
   "cell_type": "code",
   "execution_count": 168,
   "metadata": {},
   "outputs": [
    {
     "data": {
      "image/png": "[encoded data removed]",
      "text/plain": [
       "<Figure size 432x288 with 1 Axes>"
      ]
     },
     "metadata": {},
     "output_type": "display_data"
    }
   ],
   "source": [
    "plt.hist(np.log1p(raw_data['revol_bal']), bins=30)\n",
    "plt.show()"
   ]
  },
  {
   "cell_type": "code",
   "execution_count": 169,
   "metadata": {},
   "outputs": [],
   "source": [
    "raw_data['revol_bal'] = np.log1p(raw_data['revol_bal'])"
   ]
  },
  {
   "cell_type": "markdown",
   "metadata": {},
   "source": [
    "#### revol_util"
   ]
  },
  {
   "cell_type": "code",
   "execution_count": 170,
   "metadata": {},
   "outputs": [
    {
     "data": {
      "text/plain": [
       "count    886877.000000\n",
       "mean         55.067693\n",
       "std          23.834344\n",
       "min           0.000000\n",
       "25%          37.700000\n",
       "50%          56.000000\n",
       "75%          73.600000\n",
       "max         892.300000\n",
       "Name: revol_util, dtype: float64"
      ]
     },
     "execution_count": 170,
     "metadata": {},
     "output_type": "execute_result"
    }
   ],
   "source": [
    "raw_data['revol_util'].describe()"
   ]
  },
  {
   "cell_type": "code",
   "execution_count": 171,
   "metadata": {},
   "outputs": [],
   "source": [
    "mean = raw_data['revol_util'].describe()['mean']"
   ]
  },
  {
   "cell_type": "code",
   "execution_count": 172,
   "metadata": {},
   "outputs": [],
   "source": [
    "std = raw_data['revol_util'].describe()['std']"
   ]
  },
  {
   "cell_type": "code",
   "execution_count": 173,
   "metadata": {},
   "outputs": [
    {
     "data": {
      "text/plain": [
       "473"
      ]
     },
     "execution_count": 173,
     "metadata": {},
     "output_type": "execute_result"
    }
   ],
   "source": [
    "raw_data['revol_util'].isnull().sum()"
   ]
  },
  {
   "cell_type": "markdown",
   "metadata": {},
   "source": [
    "Not many null values, let's remove them."
   ]
  },
  {
   "cell_type": "code",
   "execution_count": 174,
   "metadata": {},
   "outputs": [],
   "source": [
    "raw_data.dropna(subset=['revol_util'], axis=0, inplace=True)"
   ]
  },
  {
   "cell_type": "code",
   "execution_count": 175,
   "metadata": {},
   "outputs": [
    {
     "data": {
      "image/png": "[encoded data removed]",
      "text/plain": [
       "<Figure size 432x288 with 1 Axes>"
      ]
     },
     "metadata": {},
     "output_type": "display_data"
    }
   ],
   "source": [
    "plt.hist(raw_data['revol_util'], bins=30)\n",
    "plt.show()"
   ]
  },
  {
   "cell_type": "markdown",
   "metadata": {},
   "source": [
    "To keep values of our variable near 0-1 range, let's standard scale this variable."
   ]
  },
  {
   "cell_type": "code",
   "execution_count": 176,
   "metadata": {},
   "outputs": [
    {
     "data": {
      "image/png": "[encoded data removed]",
      "text/plain": [
       "<Figure size 432x288 with 1 Axes>"
      ]
     },
     "metadata": {},
     "output_type": "display_data"
    }
   ],
   "source": [
    "plt.hist(((raw_data['revol_util'] - mean) / std), bins=50)\n",
    "plt.show()"
   ]
  },
  {
   "cell_type": "code",
   "execution_count": 177,
   "metadata": {},
   "outputs": [],
   "source": [
    "raw_data['revol_util'] = (raw_data['revol_util'] - mean / std)"
   ]
  },
  {
   "cell_type": "markdown",
   "metadata": {},
   "source": [
    "#### total_acc"
   ]
  },
  {
   "cell_type": "code",
   "execution_count": 178,
   "metadata": {},
   "outputs": [
    {
     "data": {
      "text/plain": [
       "count    886877.000000\n",
       "mean         25.270917\n",
       "std          11.840087\n",
       "min           1.000000\n",
       "25%          17.000000\n",
       "50%          24.000000\n",
       "75%          32.000000\n",
       "max         169.000000\n",
       "Name: total_acc, dtype: float64"
      ]
     },
     "execution_count": 178,
     "metadata": {},
     "output_type": "execute_result"
    }
   ],
   "source": [
    "raw_data['total_acc'].describe()"
   ]
  },
  {
   "cell_type": "code",
   "execution_count": 179,
   "metadata": {},
   "outputs": [],
   "source": [
    "mean = raw_data['total_acc'].describe()['mean']\n",
    "std = raw_data['total_acc'].describe()['std']"
   ]
  },
  {
   "cell_type": "code",
   "execution_count": 180,
   "metadata": {},
   "outputs": [
    {
     "data": {
      "text/plain": [
       "0"
      ]
     },
     "execution_count": 180,
     "metadata": {},
     "output_type": "execute_result"
    }
   ],
   "source": [
    "raw_data['total_acc'].isnull().sum()"
   ]
  },
  {
   "cell_type": "code",
   "execution_count": 181,
   "metadata": {},
   "outputs": [
    {
     "data": {
      "image/png": "[encoded data removed]",
      "text/plain": [
       "<Figure size 432x288 with 1 Axes>"
      ]
     },
     "metadata": {},
     "output_type": "display_data"
    }
   ],
   "source": [
    "plt.hist(raw_data['total_acc'], bins=30)\n",
    "plt.show()"
   ]
  },
  {
   "cell_type": "markdown",
   "metadata": {},
   "source": [
    "As before, let's standard scale."
   ]
  },
  {
   "cell_type": "code",
   "execution_count": 182,
   "metadata": {},
   "outputs": [],
   "source": [
    "raw_data['total_acc'] = (raw_data['total_acc'] - mean) / std"
   ]
  },
  {
   "cell_type": "code",
   "execution_count": 183,
   "metadata": {},
   "outputs": [
    {
     "data": {
      "image/png": "[encoded data removed]",
      "text/plain": [
       "<Figure size 432x288 with 1 Axes>"
      ]
     },
     "metadata": {},
     "output_type": "display_data"
    }
   ],
   "source": [
    "plt.hist(raw_data['total_acc'], bins=30)\n",
    "plt.show()"
   ]
  },
  {
   "cell_type": "markdown",
   "metadata": {},
   "source": [
    "#### out_prncp"
   ]
  },
  {
   "cell_type": "code",
   "execution_count": 184,
   "metadata": {},
   "outputs": [
    {
     "data": {
      "text/plain": [
       "count    886877.000000\n",
       "mean       8404.708914\n",
       "std        8493.343480\n",
       "min           0.000000\n",
       "25%           0.000000\n",
       "50%        6464.280000\n",
       "75%       13660.670000\n",
       "max       49372.860000\n",
       "Name: out_prncp, dtype: float64"
      ]
     },
     "execution_count": 184,
     "metadata": {},
     "output_type": "execute_result"
    }
   ],
   "source": [
    "raw_data['out_prncp'].describe()"
   ]
  },
  {
   "cell_type": "code",
   "execution_count": 185,
   "metadata": {},
   "outputs": [
    {
     "data": {
      "text/plain": [
       "0"
      ]
     },
     "execution_count": 185,
     "metadata": {},
     "output_type": "execute_result"
    }
   ],
   "source": [
    "raw_data['out_prncp'].isnull().sum()"
   ]
  },
  {
   "cell_type": "code",
   "execution_count": 186,
   "metadata": {},
   "outputs": [
    {
     "data": {
      "image/png": "[encoded data removed]",
      "text/plain": [
       "<Figure size 432x288 with 1 Axes>"
      ]
     },
     "metadata": {},
     "output_type": "display_data"
    }
   ],
   "source": [
    "plt.hist(raw_data['out_prncp'], bins=30)\n",
    "plt.show()"
   ]
  },
  {
   "cell_type": "code",
   "execution_count": 187,
   "metadata": {},
   "outputs": [],
   "source": [
    "raw_data['out_prncp'] = np.log1p(raw_data['out_prncp'])"
   ]
  },
  {
   "cell_type": "code",
   "execution_count": 188,
   "metadata": {},
   "outputs": [
    {
     "data": {
      "image/png": "[encoded data removed]",
      "text/plain": [
       "<Figure size 432x288 with 1 Axes>"
      ]
     },
     "metadata": {},
     "output_type": "display_data"
    }
   ],
   "source": [
    "plt.hist(raw_data['out_prncp'], bins=30)\n",
    "plt.show()"
   ]
  },
  {
   "cell_type": "markdown",
   "metadata": {},
   "source": [
    "#### total_pymnt"
   ]
  },
  {
   "cell_type": "code",
   "execution_count": 189,
   "metadata": {},
   "outputs": [
    {
     "data": {
      "text/plain": [
       "count    886877.000000\n",
       "mean       7559.143190\n",
       "std        7871.202065\n",
       "min           0.000000\n",
       "25%        1914.740000\n",
       "50%        4895.330000\n",
       "75%       10617.683402\n",
       "max       57777.579870\n",
       "Name: total_pymnt, dtype: float64"
      ]
     },
     "execution_count": 189,
     "metadata": {},
     "output_type": "execute_result"
    }
   ],
   "source": [
    "raw_data['total_pymnt'].describe()"
   ]
  },
  {
   "cell_type": "code",
   "execution_count": 190,
   "metadata": {},
   "outputs": [
    {
     "data": {
      "text/plain": [
       "0"
      ]
     },
     "execution_count": 190,
     "metadata": {},
     "output_type": "execute_result"
    }
   ],
   "source": [
    "raw_data['total_pymnt'].isnull().sum()"
   ]
  },
  {
   "cell_type": "code",
   "execution_count": 191,
   "metadata": {},
   "outputs": [
    {
     "data": {
      "image/png": "[encoded data removed]",
      "text/plain": [
       "<Figure size 432x288 with 1 Axes>"
      ]
     },
     "metadata": {},
     "output_type": "display_data"
    }
   ],
   "source": [
    "plt.hist(raw_data['total_pymnt'], bins=30)\n",
    "plt.show()"
   ]
  },
  {
   "cell_type": "code",
   "execution_count": 192,
   "metadata": {},
   "outputs": [],
   "source": [
    "raw_data['total_pymnt'] = np.log1p(raw_data['total_pymnt'])"
   ]
  },
  {
   "cell_type": "code",
   "execution_count": 193,
   "metadata": {},
   "outputs": [
    {
     "data": {
      "image/png": "[encoded data removed]",
      "text/plain": [
       "<Figure size 432x288 with 1 Axes>"
      ]
     },
     "metadata": {},
     "output_type": "display_data"
    }
   ],
   "source": [
    "plt.hist(raw_data['total_pymnt'], bins=30)\n",
    "plt.show()"
   ]
  },
  {
   "cell_type": "markdown",
   "metadata": {},
   "source": [
    "#### tot_coll_amt"
   ]
  },
  {
   "cell_type": "code",
   "execution_count": 194,
   "metadata": {},
   "outputs": [
    {
     "data": {
      "text/plain": [
       "count    8.167220e+05\n",
       "mean     2.257490e+02\n",
       "std      1.031374e+04\n",
       "min      0.000000e+00\n",
       "25%      0.000000e+00\n",
       "50%      0.000000e+00\n",
       "75%      0.000000e+00\n",
       "max      9.152545e+06\n",
       "Name: tot_coll_amt, dtype: float64"
      ]
     },
     "execution_count": 194,
     "metadata": {},
     "output_type": "execute_result"
    }
   ],
   "source": [
    "raw_data['tot_coll_amt'].describe()"
   ]
  },
  {
   "cell_type": "code",
   "execution_count": 195,
   "metadata": {},
   "outputs": [
    {
     "data": {
      "text/plain": [
       "70155"
      ]
     },
     "execution_count": 195,
     "metadata": {},
     "output_type": "execute_result"
    }
   ],
   "source": [
    "raw_data['tot_coll_amt'].isnull().sum()"
   ]
  },
  {
   "cell_type": "code",
   "execution_count": 196,
   "metadata": {},
   "outputs": [
    {
     "data": {
      "image/png": "[encoded data removed]",
      "text/plain": [
       "<Figure size 432x288 with 1 Axes>"
      ]
     },
     "metadata": {},
     "output_type": "display_data"
    }
   ],
   "source": [
    "plt.hist(np.log1p(raw_data['tot_coll_amt'][raw_data['tot_coll_amt'].notnull()]), bins=30)\n",
    "plt.show()"
   ]
  },
  {
   "cell_type": "code",
   "execution_count": 197,
   "metadata": {},
   "outputs": [],
   "source": [
    "raw_data.drop(columns=['tot_coll_amt'], axis=1, inplace=True)"
   ]
  },
  {
   "cell_type": "markdown",
   "metadata": {},
   "source": [
    "#### tot_cur_bal"
   ]
  },
  {
   "cell_type": "code",
   "execution_count": 198,
   "metadata": {},
   "outputs": [
    {
     "data": {
      "text/plain": [
       "70155"
      ]
     },
     "execution_count": 198,
     "metadata": {},
     "output_type": "execute_result"
    }
   ],
   "source": [
    "raw_data['tot_cur_bal'].isnull().sum()"
   ]
  },
  {
   "cell_type": "code",
   "execution_count": 199,
   "metadata": {},
   "outputs": [
    {
     "data": {
      "image/png": "[encoded data removed]",
      "text/plain": [
       "<Figure size 432x288 with 1 Axes>"
      ]
     },
     "metadata": {},
     "output_type": "display_data"
    }
   ],
   "source": [
    "plt.hist(np.log1p(raw_data['tot_cur_bal'][raw_data['tot_cur_bal'].notnull()]), bins=30)\n",
    "plt.show()"
   ]
  },
  {
   "cell_type": "code",
   "execution_count": 200,
   "metadata": {},
   "outputs": [],
   "source": [
    "m = raw_data['tot_cur_bal'].mean()"
   ]
  },
  {
   "cell_type": "code",
   "execution_count": 201,
   "metadata": {},
   "outputs": [
    {
     "data": {
      "text/plain": [
       "139429.44805331557"
      ]
     },
     "execution_count": 201,
     "metadata": {},
     "output_type": "execute_result"
    }
   ],
   "source": [
    "m"
   ]
  },
  {
   "cell_type": "code",
   "execution_count": 202,
   "metadata": {},
   "outputs": [],
   "source": [
    "raw_data['tot_cur_bal'] = raw_data['tot_cur_bal'].fillna(m)"
   ]
  },
  {
   "cell_type": "code",
   "execution_count": 203,
   "metadata": {},
   "outputs": [],
   "source": [
    "raw_data['tot_cur_bal'] = np.log1p(raw_data['tot_cur_bal'])"
   ]
  },
  {
   "cell_type": "markdown",
   "metadata": {},
   "source": [
    "#### total_rev_hi_lim "
   ]
  },
  {
   "cell_type": "code",
   "execution_count": 204,
   "metadata": {},
   "outputs": [
    {
     "data": {
      "text/plain": [
       "70155"
      ]
     },
     "execution_count": 204,
     "metadata": {},
     "output_type": "execute_result"
    }
   ],
   "source": [
    "raw_data['total_rev_hi_lim'].isnull().sum()"
   ]
  },
  {
   "cell_type": "code",
   "execution_count": 205,
   "metadata": {},
   "outputs": [
    {
     "data": {
      "image/png": "[encoded data removed]",
      "text/plain": [
       "<Figure size 432x288 with 1 Axes>"
      ]
     },
     "metadata": {},
     "output_type": "display_data"
    }
   ],
   "source": [
    "plt.hist(np.log1p(raw_data['total_rev_hi_lim'][raw_data['total_rev_hi_lim'].notnull()]), bins=30)\n",
    "plt.show()"
   ]
  },
  {
   "cell_type": "code",
   "execution_count": 206,
   "metadata": {},
   "outputs": [],
   "source": [
    "m = raw_data['total_rev_hi_lim'].mean()"
   ]
  },
  {
   "cell_type": "code",
   "execution_count": 207,
   "metadata": {},
   "outputs": [],
   "source": [
    "raw_data['total_rev_hi_lim'] = raw_data['total_rev_hi_lim'].fillna(m)"
   ]
  },
  {
   "cell_type": "code",
   "execution_count": 208,
   "metadata": {},
   "outputs": [],
   "source": [
    "raw_data['total_rev_hi_lim'] = np.log1p(raw_data['total_rev_hi_lim'])"
   ]
  },
  {
   "cell_type": "markdown",
   "metadata": {},
   "source": [
    "#### total_pymnt_inv"
   ]
  },
  {
   "cell_type": "code",
   "execution_count": 209,
   "metadata": {},
   "outputs": [
    {
     "data": {
      "text/plain": [
       "count    886877.000000\n",
       "mean       7521.656211\n",
       "std        7846.004300\n",
       "min           0.000000\n",
       "25%        1900.520000\n",
       "50%        4863.090000\n",
       "75%       10567.230000\n",
       "max       57777.580000\n",
       "Name: total_pymnt_inv, dtype: float64"
      ]
     },
     "execution_count": 209,
     "metadata": {},
     "output_type": "execute_result"
    }
   ],
   "source": [
    "raw_data['total_pymnt_inv'].describe()"
   ]
  },
  {
   "cell_type": "code",
   "execution_count": 210,
   "metadata": {},
   "outputs": [
    {
     "data": {
      "image/png": "[encoded data removed]",
      "text/plain": [
       "<Figure size 432x288 with 1 Axes>"
      ]
     },
     "metadata": {},
     "output_type": "display_data"
    }
   ],
   "source": [
    "plt.hist(raw_data['total_pymnt_inv'], bins=30)\n",
    "plt.show()"
   ]
  },
  {
   "cell_type": "code",
   "execution_count": 211,
   "metadata": {},
   "outputs": [],
   "source": [
    "raw_data['total_pymnt_inv'] = np.log1p(raw_data['total_pymnt_inv'])"
   ]
  },
  {
   "cell_type": "code",
   "execution_count": 212,
   "metadata": {},
   "outputs": [
    {
     "data": {
      "image/png": "[encoded data removed]",
      "text/plain": [
       "<Figure size 432x288 with 1 Axes>"
      ]
     },
     "metadata": {},
     "output_type": "display_data"
    }
   ],
   "source": [
    "plt.hist(raw_data['total_pymnt_inv'], bins=30)\n",
    "plt.show()"
   ]
  },
  {
   "cell_type": "markdown",
   "metadata": {},
   "source": [
    "#### total_rec_prncp"
   ]
  },
  {
   "cell_type": "code",
   "execution_count": 213,
   "metadata": {},
   "outputs": [
    {
     "data": {
      "text/plain": [
       "count    886877.000000\n",
       "mean       5757.946657\n",
       "std        6625.360396\n",
       "min           0.000000\n",
       "25%        1200.580000\n",
       "50%        3215.750000\n",
       "75%        8000.000000\n",
       "max       35000.030000\n",
       "Name: total_rec_prncp, dtype: float64"
      ]
     },
     "execution_count": 213,
     "metadata": {},
     "output_type": "execute_result"
    }
   ],
   "source": [
    "raw_data['total_rec_prncp'].describe()"
   ]
  },
  {
   "cell_type": "code",
   "execution_count": 214,
   "metadata": {},
   "outputs": [
    {
     "data": {
      "image/png": "[encoded data removed]",
      "text/plain": [
       "<Figure size 432x288 with 1 Axes>"
      ]
     },
     "metadata": {},
     "output_type": "display_data"
    }
   ],
   "source": [
    "plt.hist(raw_data['total_rec_prncp'], bins=30)\n",
    "plt.show()"
   ]
  },
  {
   "cell_type": "code",
   "execution_count": 215,
   "metadata": {},
   "outputs": [],
   "source": [
    "raw_data['total_rec_prncp']  = np.log1p(raw_data['total_rec_prncp'])"
   ]
  },
  {
   "cell_type": "code",
   "execution_count": 216,
   "metadata": {},
   "outputs": [
    {
     "data": {
      "image/png": "[encoded data removed]",
      "text/plain": [
       "<Figure size 432x288 with 1 Axes>"
      ]
     },
     "metadata": {},
     "output_type": "display_data"
    }
   ],
   "source": [
    "plt.hist(raw_data['total_rec_prncp'], bins=30)\n",
    "plt.show()"
   ]
  },
  {
   "cell_type": "markdown",
   "metadata": {},
   "source": [
    "We can see that total_rec_prncp, total_pymnt_inv and total_pymnt have nearly identical distributions. Thus, let's drop total_rec_prnc and total_pymnt_inv."
   ]
  },
  {
   "cell_type": "code",
   "execution_count": 217,
   "metadata": {},
   "outputs": [],
   "source": [
    "raw_data.drop(columns=['total_rec_prncp', 'total_pymnt_inv'], axis=1, inplace=True)"
   ]
  },
  {
   "cell_type": "markdown",
   "metadata": {},
   "source": [
    "#### total_rec_int"
   ]
  },
  {
   "cell_type": "code",
   "execution_count": 218,
   "metadata": {},
   "outputs": [
    {
     "data": {
      "text/plain": [
       "count    886877.000000\n",
       "mean       1754.895712\n",
       "std        2095.355202\n",
       "min           0.000000\n",
       "25%         441.530000\n",
       "50%        1073.480000\n",
       "75%        2238.440000\n",
       "max       24205.620000\n",
       "Name: total_rec_int, dtype: float64"
      ]
     },
     "execution_count": 218,
     "metadata": {},
     "output_type": "execute_result"
    }
   ],
   "source": [
    "raw_data['total_rec_int'].describe()"
   ]
  },
  {
   "cell_type": "code",
   "execution_count": 219,
   "metadata": {},
   "outputs": [
    {
     "data": {
      "image/png": "[encoded data removed]",
      "text/plain": [
       "<Figure size 432x288 with 1 Axes>"
      ]
     },
     "metadata": {},
     "output_type": "display_data"
    }
   ],
   "source": [
    "plt.hist(raw_data['total_rec_int'], bins=30)\n",
    "plt.show()"
   ]
  },
  {
   "cell_type": "code",
   "execution_count": 220,
   "metadata": {},
   "outputs": [],
   "source": [
    "raw_data['total_rec_int'] = np.log1p(raw_data['total_rec_int'])"
   ]
  },
  {
   "cell_type": "code",
   "execution_count": 221,
   "metadata": {},
   "outputs": [
    {
     "data": {
      "image/png": "[encoded data removed]",
      "text/plain": [
       "<Figure size 432x288 with 1 Axes>"
      ]
     },
     "metadata": {},
     "output_type": "display_data"
    }
   ],
   "source": [
    "plt.hist(raw_data['total_rec_int'], bins=30)\n",
    "plt.show()"
   ]
  },
  {
   "cell_type": "markdown",
   "metadata": {},
   "source": [
    "This distribution is again very similar, but slightly different. Let's leave it for now."
   ]
  },
  {
   "cell_type": "markdown",
   "metadata": {},
   "source": [
    "#### total_rec_late_fee"
   ]
  },
  {
   "cell_type": "code",
   "execution_count": 222,
   "metadata": {},
   "outputs": [
    {
     "data": {
      "text/plain": [
       "count    886877.000000\n",
       "mean          0.396032\n",
       "std           4.084798\n",
       "min           0.000000\n",
       "25%           0.000000\n",
       "50%           0.000000\n",
       "75%           0.000000\n",
       "max         358.680000\n",
       "Name: total_rec_late_fee, dtype: float64"
      ]
     },
     "execution_count": 222,
     "metadata": {},
     "output_type": "execute_result"
    }
   ],
   "source": [
    "raw_data['total_rec_late_fee'].describe()"
   ]
  },
  {
   "cell_type": "code",
   "execution_count": 223,
   "metadata": {},
   "outputs": [
    {
     "data": {
      "image/png": "[encoded data removed]",
      "text/plain": [
       "<Figure size 432x288 with 1 Axes>"
      ]
     },
     "metadata": {},
     "output_type": "display_data"
    }
   ],
   "source": [
    "plt.hist(raw_data['total_rec_late_fee'], bins=30)\n",
    "plt.show()"
   ]
  },
  {
   "cell_type": "code",
   "execution_count": 224,
   "metadata": {},
   "outputs": [],
   "source": [
    "raw_data['total_rec_late_fee'] = np.log1p(raw_data['total_rec_late_fee'])"
   ]
  },
  {
   "cell_type": "code",
   "execution_count": 225,
   "metadata": {},
   "outputs": [
    {
     "data": {
      "image/png": "[encoded data removed]",
      "text/plain": [
       "<Figure size 432x288 with 1 Axes>"
      ]
     },
     "metadata": {},
     "output_type": "display_data"
    }
   ],
   "source": [
    "\n",
    "plt.hist(raw_data['total_rec_late_fee'], bins=30)\n",
    "plt.show()"
   ]
  },
  {
   "cell_type": "code",
   "execution_count": 226,
   "metadata": {},
   "outputs": [
    {
     "data": {
      "text/plain": [
       "874394"
      ]
     },
     "execution_count": 226,
     "metadata": {},
     "output_type": "execute_result"
    }
   ],
   "source": [
    "(raw_data['total_rec_late_fee'] == 0).sum()"
   ]
  },
  {
   "cell_type": "markdown",
   "metadata": {},
   "source": [
    "This variable is almost constant, let's remove it."
   ]
  },
  {
   "cell_type": "code",
   "execution_count": 227,
   "metadata": {},
   "outputs": [],
   "source": [
    "raw_data.drop(columns=['total_rec_late_fee'], axis=1, inplace=True)"
   ]
  },
  {
   "cell_type": "markdown",
   "metadata": {},
   "source": [
    "#### recoveries"
   ]
  },
  {
   "cell_type": "code",
   "execution_count": 228,
   "metadata": {},
   "outputs": [
    {
     "data": {
      "text/plain": [
       "count    886877.000000\n",
       "mean         45.904791\n",
       "std         409.668626\n",
       "min           0.000000\n",
       "25%           0.000000\n",
       "50%           0.000000\n",
       "75%           0.000000\n",
       "max       33520.270000\n",
       "Name: recoveries, dtype: float64"
      ]
     },
     "execution_count": 228,
     "metadata": {},
     "output_type": "execute_result"
    }
   ],
   "source": [
    "raw_data['recoveries'].describe()"
   ]
  },
  {
   "cell_type": "code",
   "execution_count": 229,
   "metadata": {},
   "outputs": [
    {
     "data": {
      "text/plain": [
       "862238"
      ]
     },
     "execution_count": 229,
     "metadata": {},
     "output_type": "execute_result"
    }
   ],
   "source": [
    "(raw_data['recoveries'] == 0).sum()"
   ]
  },
  {
   "cell_type": "markdown",
   "metadata": {},
   "source": [
    "Again, almost constant, let's remove it."
   ]
  },
  {
   "cell_type": "code",
   "execution_count": 230,
   "metadata": {},
   "outputs": [],
   "source": [
    "raw_data.drop(columns=['recoveries'], axis=1, inplace=True)"
   ]
  },
  {
   "cell_type": "markdown",
   "metadata": {},
   "source": [
    "#### collection_recovery_fee"
   ]
  },
  {
   "cell_type": "code",
   "execution_count": 231,
   "metadata": {},
   "outputs": [
    {
     "data": {
      "text/plain": [
       "count    886877.000000\n",
       "mean          4.876863\n",
       "std          63.098215\n",
       "min           0.000000\n",
       "25%           0.000000\n",
       "50%           0.000000\n",
       "75%           0.000000\n",
       "max        7002.190000\n",
       "Name: collection_recovery_fee, dtype: float64"
      ]
     },
     "execution_count": 231,
     "metadata": {},
     "output_type": "execute_result"
    }
   ],
   "source": [
    "raw_data['collection_recovery_fee'].describe()"
   ]
  },
  {
   "cell_type": "code",
   "execution_count": 232,
   "metadata": {},
   "outputs": [
    {
     "data": {
      "text/plain": [
       "863408"
      ]
     },
     "execution_count": 232,
     "metadata": {},
     "output_type": "execute_result"
    }
   ],
   "source": [
    "(raw_data['collection_recovery_fee'] == 0).sum()"
   ]
  },
  {
   "cell_type": "markdown",
   "metadata": {},
   "source": [
    "As before."
   ]
  },
  {
   "cell_type": "code",
   "execution_count": 233,
   "metadata": {},
   "outputs": [],
   "source": [
    "raw_data.drop(columns=['collection_recovery_fee'], axis=1, inplace=True)"
   ]
  },
  {
   "cell_type": "markdown",
   "metadata": {},
   "source": [
    "#### last_pymnt_d"
   ]
  },
  {
   "cell_type": "code",
   "execution_count": 234,
   "metadata": {},
   "outputs": [
    {
     "data": {
      "text/plain": [
       "count       869232\n",
       "unique          98\n",
       "top       Jan-2016\n",
       "freq        469961\n",
       "Name: last_pymnt_d, dtype: object"
      ]
     },
     "execution_count": 234,
     "metadata": {},
     "output_type": "execute_result"
    }
   ],
   "source": [
    "raw_data['last_pymnt_d'].describe()"
   ]
  },
  {
   "cell_type": "code",
   "execution_count": 235,
   "metadata": {},
   "outputs": [
    {
     "data": {
      "text/plain": [
       "1.9895656331148512"
      ]
     },
     "execution_count": 235,
     "metadata": {},
     "output_type": "execute_result"
    }
   ],
   "source": [
    "raw_data['last_pymnt_d'].isnull().sum()/raw_data.shape[0]*100"
   ]
  },
  {
   "cell_type": "code",
   "execution_count": 236,
   "metadata": {},
   "outputs": [],
   "source": [
    "raw_data.drop(columns=['last_pymnt_d'], axis=1, inplace=True)"
   ]
  },
  {
   "cell_type": "markdown",
   "metadata": {},
   "source": [
    "#### last_pymnt_amnt"
   ]
  },
  {
   "cell_type": "code",
   "execution_count": 237,
   "metadata": {},
   "outputs": [
    {
     "data": {
      "text/plain": [
       "count    886877.000000\n",
       "mean       2164.126233\n",
       "std        4794.476650\n",
       "min           0.000000\n",
       "25%         280.170000\n",
       "50%         462.800000\n",
       "75%         831.130000\n",
       "max       36475.590000\n",
       "Name: last_pymnt_amnt, dtype: float64"
      ]
     },
     "execution_count": 237,
     "metadata": {},
     "output_type": "execute_result"
    }
   ],
   "source": [
    "raw_data['last_pymnt_amnt'].describe()"
   ]
  },
  {
   "cell_type": "code",
   "execution_count": 238,
   "metadata": {},
   "outputs": [
    {
     "data": {
      "image/png": "[encoded data removed]",
      "text/plain": [
       "<Figure size 432x288 with 1 Axes>"
      ]
     },
     "metadata": {},
     "output_type": "display_data"
    }
   ],
   "source": [
    "plt.hist(raw_data['last_pymnt_amnt'], bins=30)\n",
    "plt.show()"
   ]
  },
  {
   "cell_type": "code",
   "execution_count": 239,
   "metadata": {},
   "outputs": [],
   "source": [
    "raw_data['last_pymnt_amnt'] = np.log1p(raw_data['last_pymnt_amnt'])"
   ]
  },
  {
   "cell_type": "code",
   "execution_count": 240,
   "metadata": {},
   "outputs": [
    {
     "data": {
      "image/png": "[encoded data removed]",
      "text/plain": [
       "<Figure size 432x288 with 1 Axes>"
      ]
     },
     "metadata": {},
     "output_type": "display_data"
    }
   ],
   "source": [
    "plt.hist(raw_data['last_pymnt_amnt'], bins=30)\n",
    "plt.show()"
   ]
  },
  {
   "cell_type": "markdown",
   "metadata": {},
   "source": [
    "#### next_pymnt_d"
   ]
  },
  {
   "cell_type": "code",
   "execution_count": 241,
   "metadata": {},
   "outputs": [
    {
     "data": {
      "text/plain": [
       "0.2850135926402421"
      ]
     },
     "execution_count": 241,
     "metadata": {},
     "output_type": "execute_result"
    }
   ],
   "source": [
    "(raw_data['next_pymnt_d'].isnull().sum())/raw_data.shape[0]"
   ]
  },
  {
   "cell_type": "code",
   "execution_count": 242,
   "metadata": {},
   "outputs": [],
   "source": [
    "raw_data.drop(columns=['next_pymnt_d'], axis=1, inplace=True)"
   ]
  },
  {
   "cell_type": "markdown",
   "metadata": {},
   "source": [
    "#### last_credit_pull_d"
   ]
  },
  {
   "cell_type": "code",
   "execution_count": 243,
   "metadata": {},
   "outputs": [
    {
     "data": {
      "text/plain": [
       "count       886825\n",
       "unique         103\n",
       "top       Jan-2016\n",
       "freq        730265\n",
       "Name: last_credit_pull_d, dtype: object"
      ]
     },
     "execution_count": 243,
     "metadata": {},
     "output_type": "execute_result"
    }
   ],
   "source": [
    "raw_data['last_credit_pull_d'].describe()"
   ]
  },
  {
   "cell_type": "code",
   "execution_count": 244,
   "metadata": {},
   "outputs": [
    {
     "data": {
      "text/plain": [
       "52"
      ]
     },
     "execution_count": 244,
     "metadata": {},
     "output_type": "execute_result"
    }
   ],
   "source": [
    "raw_data['last_credit_pull_d'].isnull().sum()"
   ]
  },
  {
   "cell_type": "code",
   "execution_count": 245,
   "metadata": {},
   "outputs": [],
   "source": [
    "raw_data.drop(columns=['last_credit_pull_d'], axis=1, inplace=True)"
   ]
  },
  {
   "cell_type": "markdown",
   "metadata": {},
   "source": [
    "#### collections_12_mths_ex_med"
   ]
  },
  {
   "cell_type": "code",
   "execution_count": 246,
   "metadata": {},
   "outputs": [
    {
     "data": {
      "text/plain": [
       "113"
      ]
     },
     "execution_count": 246,
     "metadata": {},
     "output_type": "execute_result"
    }
   ],
   "source": [
    "raw_data['collections_12_mths_ex_med'].isnull().sum()"
   ]
  },
  {
   "cell_type": "code",
   "execution_count": 247,
   "metadata": {},
   "outputs": [
    {
     "data": {
      "text/plain": [
       "count    886764.000000\n",
       "mean          0.014384\n",
       "std           0.134214\n",
       "min           0.000000\n",
       "25%           0.000000\n",
       "50%           0.000000\n",
       "75%           0.000000\n",
       "max          20.000000\n",
       "Name: collections_12_mths_ex_med, dtype: float64"
      ]
     },
     "execution_count": 247,
     "metadata": {},
     "output_type": "execute_result"
    }
   ],
   "source": [
    "raw_data['collections_12_mths_ex_med'].describe()"
   ]
  },
  {
   "cell_type": "code",
   "execution_count": 248,
   "metadata": {},
   "outputs": [
    {
     "data": {
      "text/plain": [
       "875086"
      ]
     },
     "execution_count": 248,
     "metadata": {},
     "output_type": "execute_result"
    }
   ],
   "source": [
    "(raw_data['collections_12_mths_ex_med'] == 0).sum()"
   ]
  },
  {
   "cell_type": "markdown",
   "metadata": {},
   "source": [
    "Constant variable = remove it."
   ]
  },
  {
   "cell_type": "code",
   "execution_count": 249,
   "metadata": {},
   "outputs": [],
   "source": [
    "raw_data.drop(columns=['collections_12_mths_ex_med'], axis=1, inplace=True)"
   ]
  },
  {
   "cell_type": "markdown",
   "metadata": {},
   "source": [
    "#### policy_code"
   ]
  },
  {
   "cell_type": "code",
   "execution_count": 250,
   "metadata": {},
   "outputs": [
    {
     "data": {
      "text/plain": [
       "0"
      ]
     },
     "execution_count": 250,
     "metadata": {},
     "output_type": "execute_result"
    }
   ],
   "source": [
    "raw_data['policy_code'].isnull().sum()"
   ]
  },
  {
   "cell_type": "code",
   "execution_count": 251,
   "metadata": {},
   "outputs": [
    {
     "data": {
      "text/plain": [
       "count    886877.0\n",
       "mean          1.0\n",
       "std           0.0\n",
       "min           1.0\n",
       "25%           1.0\n",
       "50%           1.0\n",
       "75%           1.0\n",
       "max           1.0\n",
       "Name: policy_code, dtype: float64"
      ]
     },
     "execution_count": 251,
     "metadata": {},
     "output_type": "execute_result"
    }
   ],
   "source": [
    "raw_data['policy_code'].describe()"
   ]
  },
  {
   "cell_type": "code",
   "execution_count": 252,
   "metadata": {},
   "outputs": [
    {
     "data": {
      "text/plain": [
       "886877"
      ]
     },
     "execution_count": 252,
     "metadata": {},
     "output_type": "execute_result"
    }
   ],
   "source": [
    "(raw_data['policy_code'] == 1).sum()"
   ]
  },
  {
   "cell_type": "code",
   "execution_count": 253,
   "metadata": {},
   "outputs": [],
   "source": [
    "raw_data.drop(columns=['policy_code'], axis=1, inplace=True)"
   ]
  },
  {
   "cell_type": "markdown",
   "metadata": {},
   "source": [
    "#### application_type"
   ]
  },
  {
   "cell_type": "code",
   "execution_count": 254,
   "metadata": {},
   "outputs": [
    {
     "data": {
      "text/plain": [
       "0"
      ]
     },
     "execution_count": 254,
     "metadata": {},
     "output_type": "execute_result"
    }
   ],
   "source": [
    "raw_data['application_type'].isnull().sum()"
   ]
  },
  {
   "cell_type": "code",
   "execution_count": 255,
   "metadata": {},
   "outputs": [
    {
     "data": {
      "text/plain": [
       "count         886877\n",
       "unique             2\n",
       "top       INDIVIDUAL\n",
       "freq          886366\n",
       "Name: application_type, dtype: object"
      ]
     },
     "execution_count": 255,
     "metadata": {},
     "output_type": "execute_result"
    }
   ],
   "source": [
    "raw_data['application_type'].describe()"
   ]
  },
  {
   "cell_type": "code",
   "execution_count": 256,
   "metadata": {},
   "outputs": [],
   "source": [
    "raw_data.drop(columns=['application_type'], axis=1, inplace=True)"
   ]
  },
  {
   "cell_type": "markdown",
   "metadata": {},
   "source": [
    "#### initial_list_status"
   ]
  },
  {
   "cell_type": "code",
   "execution_count": 257,
   "metadata": {},
   "outputs": [
    {
     "data": {
      "text/plain": [
       "0"
      ]
     },
     "execution_count": 257,
     "metadata": {},
     "output_type": "execute_result"
    }
   ],
   "source": [
    "raw_data['initial_list_status'].isnull().sum()"
   ]
  },
  {
   "cell_type": "code",
   "execution_count": 258,
   "metadata": {},
   "outputs": [
    {
     "data": {
      "text/plain": [
       "count     886877\n",
       "unique         2\n",
       "top            f\n",
       "freq      456529\n",
       "Name: initial_list_status, dtype: object"
      ]
     },
     "execution_count": 258,
     "metadata": {},
     "output_type": "execute_result"
    }
   ],
   "source": [
    "raw_data['initial_list_status'].describe()"
   ]
  },
  {
   "cell_type": "code",
   "execution_count": 259,
   "metadata": {},
   "outputs": [
    {
     "data": {
      "text/plain": [
       "array(['f', 'w'], dtype=object)"
      ]
     },
     "execution_count": 259,
     "metadata": {},
     "output_type": "execute_result"
    }
   ],
   "source": [
    "raw_data['initial_list_status'].unique()"
   ]
  },
  {
   "cell_type": "markdown",
   "metadata": {},
   "source": [
    "Binarize it."
   ]
  },
  {
   "cell_type": "code",
   "execution_count": 260,
   "metadata": {},
   "outputs": [],
   "source": [
    "raw_data['initial_list_status'] = raw_data['initial_list_status'].apply(lambda x: 0 if x == 'f' else 1)"
   ]
  },
  {
   "cell_type": "markdown",
   "metadata": {},
   "source": [
    "#### acc_now_delinq"
   ]
  },
  {
   "cell_type": "code",
   "execution_count": 261,
   "metadata": {},
   "outputs": [
    {
     "data": {
      "text/plain": [
       "0"
      ]
     },
     "execution_count": 261,
     "metadata": {},
     "output_type": "execute_result"
    }
   ],
   "source": [
    "raw_data['acc_now_delinq'].isnull().sum()"
   ]
  },
  {
   "cell_type": "code",
   "execution_count": 262,
   "metadata": {},
   "outputs": [
    {
     "data": {
      "text/plain": [
       "count    886877.000000\n",
       "mean          0.004991\n",
       "std           0.077624\n",
       "min           0.000000\n",
       "25%           0.000000\n",
       "50%           0.000000\n",
       "75%           0.000000\n",
       "max          14.000000\n",
       "Name: acc_now_delinq, dtype: float64"
      ]
     },
     "execution_count": 262,
     "metadata": {},
     "output_type": "execute_result"
    }
   ],
   "source": [
    "raw_data['acc_now_delinq'].describe()"
   ]
  },
  {
   "cell_type": "code",
   "execution_count": 263,
   "metadata": {},
   "outputs": [
    {
     "data": {
      "text/plain": [
       "882766"
      ]
     },
     "execution_count": 263,
     "metadata": {},
     "output_type": "execute_result"
    }
   ],
   "source": [
    "(raw_data['acc_now_delinq'] == 0).sum()"
   ]
  },
  {
   "cell_type": "code",
   "execution_count": 264,
   "metadata": {},
   "outputs": [],
   "source": [
    "raw_data.drop(columns=['acc_now_delinq'], axis=1, inplace=True)"
   ]
  },
  {
   "cell_type": "markdown",
   "metadata": {},
   "source": [
    "Let's summarize our variables so far."
   ]
  },
  {
   "cell_type": "code",
   "execution_count": 265,
   "metadata": {},
   "outputs": [
    {
     "data": {
      "text/plain": [
       "101"
      ]
     },
     "execution_count": 265,
     "metadata": {},
     "output_type": "execute_result"
    }
   ],
   "source": [
    "len(raw_data.columns)"
   ]
  },
  {
   "cell_type": "code",
   "execution_count": 266,
   "metadata": {},
   "outputs": [
    {
     "data": {
      "text/plain": [
       "101"
      ]
     },
     "execution_count": 266,
     "metadata": {},
     "output_type": "execute_result"
    }
   ],
   "source": [
    "raw_data.shape[1]"
   ]
  },
  {
   "cell_type": "markdown",
   "metadata": {},
   "source": [
    "Finally, let's deal with the target variable."
   ]
  },
  {
   "cell_type": "code",
   "execution_count": 267,
   "metadata": {},
   "outputs": [
    {
     "data": {
      "text/plain": [
       "array(['Fully Paid', 'Charged Off', 'Current', 'Default',\n",
       "       'Late (31-120 days)', 'In Grace Period', 'Late (16-30 days)',\n",
       "       'Does not meet the credit policy. Status:Fully Paid',\n",
       "       'Does not meet the credit policy. Status:Charged Off', 'Issued'],\n",
       "      dtype=object)"
      ]
     },
     "execution_count": 267,
     "metadata": {},
     "output_type": "execute_result"
    }
   ],
   "source": [
    "raw_data['loan_status'].unique()"
   ]
  },
  {
   "cell_type": "code",
   "execution_count": 268,
   "metadata": {},
   "outputs": [],
   "source": [
    "def loan_status_binarizer(loan_status):\n",
    "    bad_statuses = ['Default', 'Charged off', 'Does not meet the credit policy. Status: Charged Off', 'Late (31-120 days)']\n",
    "    if loan_status in bad_statuses:\n",
    "        return 1\n",
    "    else:\n",
    "        return 0"
   ]
  },
  {
   "cell_type": "code",
   "execution_count": 269,
   "metadata": {},
   "outputs": [],
   "source": [
    "raw_data['loan_status'] = raw_data['loan_status'].apply(loan_status_binarizer)"
   ]
  },
  {
   "cell_type": "code",
   "execution_count": 270,
   "metadata": {},
   "outputs": [],
   "source": [
    "y = np.array(raw_data['loan_status'])"
   ]
  },
  {
   "cell_type": "code",
   "execution_count": 271,
   "metadata": {},
   "outputs": [],
   "source": [
    "raw_data.drop(columns=['loan_status'], axis=1, inplace=True)"
   ]
  },
  {
   "cell_type": "code",
   "execution_count": 272,
   "metadata": {},
   "outputs": [],
   "source": [
    "X = np.array(raw_data)"
   ]
  },
  {
   "cell_type": "markdown",
   "metadata": {},
   "source": [
    "#### BASIC STATS OF Y"
   ]
  },
  {
   "cell_type": "code",
   "execution_count": 273,
   "metadata": {},
   "outputs": [
    {
     "data": {
      "text/plain": [
       "1.443266653662233"
      ]
     },
     "execution_count": 273,
     "metadata": {},
     "output_type": "execute_result"
    }
   ],
   "source": [
    "y.mean()*100"
   ]
  },
  {
   "cell_type": "code",
   "execution_count": 274,
   "metadata": {},
   "outputs": [
    {
     "data": {
      "text/plain": [
       "0.1192659409607998"
      ]
     },
     "execution_count": 274,
     "metadata": {},
     "output_type": "execute_result"
    }
   ],
   "source": [
    "y.std()"
   ]
  },
  {
   "cell_type": "markdown",
   "metadata": {},
   "source": [
    "# CORRELATIONS"
   ]
  },
  {
   "cell_type": "code",
   "execution_count": 275,
   "metadata": {},
   "outputs": [],
   "source": [
    "import seaborn as sns"
   ]
  },
  {
   "cell_type": "code",
   "execution_count": 276,
   "metadata": {},
   "outputs": [],
   "source": [
    "correlations = raw_data.corr()"
   ]
  },
  {
   "cell_type": "code",
   "execution_count": 277,
   "metadata": {},
   "outputs": [
    {
     "data": {
      "text/html": [
       "<div>\n",
       "<style scoped>\n",
       "    .dataframe tbody tr th:only-of-type {\n",
       "        vertical-align: middle;\n",
       "    }\n",
       "\n",
       "    .dataframe tbody tr th {\n",
       "        vertical-align: top;\n",
       "    }\n",
       "\n",
       "    .dataframe thead th {\n",
       "        text-align: right;\n",
       "    }\n",
       "</style>\n",
       "<table border=\"1\" class=\"dataframe\">\n",
       "  <thead>\n",
       "    <tr style=\"text-align: right;\">\n",
       "      <th></th>\n",
       "      <th>loan_amnt</th>\n",
       "      <th>term</th>\n",
       "      <th>int_rate</th>\n",
       "      <th>installment</th>\n",
       "      <th>sub_grade</th>\n",
       "      <th>emp_length</th>\n",
       "      <th>annual_inc</th>\n",
       "      <th>dti</th>\n",
       "      <th>delinq_2yrs</th>\n",
       "      <th>inq_last_6mths</th>\n",
       "      <th>...</th>\n",
       "      <th>earliest_cr_line_year_2000</th>\n",
       "      <th>earliest_cr_line_year_2001</th>\n",
       "      <th>earliest_cr_line_year_2002</th>\n",
       "      <th>earliest_cr_line_year_2003</th>\n",
       "      <th>earliest_cr_line_year_2004</th>\n",
       "      <th>earliest_cr_line_year_2005</th>\n",
       "      <th>earliest_cr_line_year_2006</th>\n",
       "      <th>earliest_cr_line_year_2007</th>\n",
       "      <th>earliest_cr_line_year_2008</th>\n",
       "      <th>earliest_cr_line_year_Other</th>\n",
       "    </tr>\n",
       "  </thead>\n",
       "  <tbody>\n",
       "    <tr>\n",
       "      <th>loan_amnt</th>\n",
       "      <td>False</td>\n",
       "      <td>False</td>\n",
       "      <td>False</td>\n",
       "      <td>True</td>\n",
       "      <td>False</td>\n",
       "      <td>False</td>\n",
       "      <td>False</td>\n",
       "      <td>False</td>\n",
       "      <td>False</td>\n",
       "      <td>False</td>\n",
       "      <td>...</td>\n",
       "      <td>False</td>\n",
       "      <td>False</td>\n",
       "      <td>False</td>\n",
       "      <td>False</td>\n",
       "      <td>False</td>\n",
       "      <td>False</td>\n",
       "      <td>False</td>\n",
       "      <td>False</td>\n",
       "      <td>False</td>\n",
       "      <td>False</td>\n",
       "    </tr>\n",
       "    <tr>\n",
       "      <th>term</th>\n",
       "      <td>False</td>\n",
       "      <td>False</td>\n",
       "      <td>False</td>\n",
       "      <td>False</td>\n",
       "      <td>False</td>\n",
       "      <td>False</td>\n",
       "      <td>False</td>\n",
       "      <td>False</td>\n",
       "      <td>False</td>\n",
       "      <td>False</td>\n",
       "      <td>...</td>\n",
       "      <td>False</td>\n",
       "      <td>False</td>\n",
       "      <td>False</td>\n",
       "      <td>False</td>\n",
       "      <td>False</td>\n",
       "      <td>False</td>\n",
       "      <td>False</td>\n",
       "      <td>False</td>\n",
       "      <td>False</td>\n",
       "      <td>False</td>\n",
       "    </tr>\n",
       "    <tr>\n",
       "      <th>int_rate</th>\n",
       "      <td>False</td>\n",
       "      <td>False</td>\n",
       "      <td>False</td>\n",
       "      <td>False</td>\n",
       "      <td>True</td>\n",
       "      <td>False</td>\n",
       "      <td>False</td>\n",
       "      <td>False</td>\n",
       "      <td>False</td>\n",
       "      <td>False</td>\n",
       "      <td>...</td>\n",
       "      <td>False</td>\n",
       "      <td>False</td>\n",
       "      <td>False</td>\n",
       "      <td>False</td>\n",
       "      <td>False</td>\n",
       "      <td>False</td>\n",
       "      <td>False</td>\n",
       "      <td>False</td>\n",
       "      <td>False</td>\n",
       "      <td>False</td>\n",
       "    </tr>\n",
       "    <tr>\n",
       "      <th>installment</th>\n",
       "      <td>True</td>\n",
       "      <td>False</td>\n",
       "      <td>False</td>\n",
       "      <td>False</td>\n",
       "      <td>False</td>\n",
       "      <td>False</td>\n",
       "      <td>False</td>\n",
       "      <td>False</td>\n",
       "      <td>False</td>\n",
       "      <td>False</td>\n",
       "      <td>...</td>\n",
       "      <td>False</td>\n",
       "      <td>False</td>\n",
       "      <td>False</td>\n",
       "      <td>False</td>\n",
       "      <td>False</td>\n",
       "      <td>False</td>\n",
       "      <td>False</td>\n",
       "      <td>False</td>\n",
       "      <td>False</td>\n",
       "      <td>False</td>\n",
       "    </tr>\n",
       "    <tr>\n",
       "      <th>sub_grade</th>\n",
       "      <td>False</td>\n",
       "      <td>False</td>\n",
       "      <td>True</td>\n",
       "      <td>False</td>\n",
       "      <td>False</td>\n",
       "      <td>False</td>\n",
       "      <td>False</td>\n",
       "      <td>False</td>\n",
       "      <td>False</td>\n",
       "      <td>False</td>\n",
       "      <td>...</td>\n",
       "      <td>False</td>\n",
       "      <td>False</td>\n",
       "      <td>False</td>\n",
       "      <td>False</td>\n",
       "      <td>False</td>\n",
       "      <td>False</td>\n",
       "      <td>False</td>\n",
       "      <td>False</td>\n",
       "      <td>False</td>\n",
       "      <td>False</td>\n",
       "    </tr>\n",
       "    <tr>\n",
       "      <th>emp_length</th>\n",
       "      <td>False</td>\n",
       "      <td>False</td>\n",
       "      <td>False</td>\n",
       "      <td>False</td>\n",
       "      <td>False</td>\n",
       "      <td>False</td>\n",
       "      <td>False</td>\n",
       "      <td>False</td>\n",
       "      <td>False</td>\n",
       "      <td>False</td>\n",
       "      <td>...</td>\n",
       "      <td>False</td>\n",
       "      <td>False</td>\n",
       "      <td>False</td>\n",
       "      <td>False</td>\n",
       "      <td>False</td>\n",
       "      <td>False</td>\n",
       "      <td>False</td>\n",
       "      <td>False</td>\n",
       "      <td>False</td>\n",
       "      <td>False</td>\n",
       "    </tr>\n",
       "    <tr>\n",
       "      <th>annual_inc</th>\n",
       "      <td>False</td>\n",
       "      <td>False</td>\n",
       "      <td>False</td>\n",
       "      <td>False</td>\n",
       "      <td>False</td>\n",
       "      <td>False</td>\n",
       "      <td>False</td>\n",
       "      <td>False</td>\n",
       "      <td>False</td>\n",
       "      <td>False</td>\n",
       "      <td>...</td>\n",
       "      <td>False</td>\n",
       "      <td>False</td>\n",
       "      <td>False</td>\n",
       "      <td>False</td>\n",
       "      <td>False</td>\n",
       "      <td>False</td>\n",
       "      <td>False</td>\n",
       "      <td>False</td>\n",
       "      <td>False</td>\n",
       "      <td>False</td>\n",
       "    </tr>\n",
       "    <tr>\n",
       "      <th>dti</th>\n",
       "      <td>False</td>\n",
       "      <td>False</td>\n",
       "      <td>False</td>\n",
       "      <td>False</td>\n",
       "      <td>False</td>\n",
       "      <td>False</td>\n",
       "      <td>False</td>\n",
       "      <td>False</td>\n",
       "      <td>False</td>\n",
       "      <td>False</td>\n",
       "      <td>...</td>\n",
       "      <td>False</td>\n",
       "      <td>False</td>\n",
       "      <td>False</td>\n",
       "      <td>False</td>\n",
       "      <td>False</td>\n",
       "      <td>False</td>\n",
       "      <td>False</td>\n",
       "      <td>False</td>\n",
       "      <td>False</td>\n",
       "      <td>False</td>\n",
       "    </tr>\n",
       "    <tr>\n",
       "      <th>delinq_2yrs</th>\n",
       "      <td>False</td>\n",
       "      <td>False</td>\n",
       "      <td>False</td>\n",
       "      <td>False</td>\n",
       "      <td>False</td>\n",
       "      <td>False</td>\n",
       "      <td>False</td>\n",
       "      <td>False</td>\n",
       "      <td>False</td>\n",
       "      <td>False</td>\n",
       "      <td>...</td>\n",
       "      <td>False</td>\n",
       "      <td>False</td>\n",
       "      <td>False</td>\n",
       "      <td>False</td>\n",
       "      <td>False</td>\n",
       "      <td>False</td>\n",
       "      <td>False</td>\n",
       "      <td>False</td>\n",
       "      <td>False</td>\n",
       "      <td>False</td>\n",
       "    </tr>\n",
       "    <tr>\n",
       "      <th>inq_last_6mths</th>\n",
       "      <td>False</td>\n",
       "      <td>False</td>\n",
       "      <td>False</td>\n",
       "      <td>False</td>\n",
       "      <td>False</td>\n",
       "      <td>False</td>\n",
       "      <td>False</td>\n",
       "      <td>False</td>\n",
       "      <td>False</td>\n",
       "      <td>False</td>\n",
       "      <td>...</td>\n",
       "      <td>False</td>\n",
       "      <td>False</td>\n",
       "      <td>False</td>\n",
       "      <td>False</td>\n",
       "      <td>False</td>\n",
       "      <td>False</td>\n",
       "      <td>False</td>\n",
       "      <td>False</td>\n",
       "      <td>False</td>\n",
       "      <td>False</td>\n",
       "    </tr>\n",
       "    <tr>\n",
       "      <th>mths_since_last_delinq</th>\n",
       "      <td>False</td>\n",
       "      <td>False</td>\n",
       "      <td>False</td>\n",
       "      <td>False</td>\n",
       "      <td>False</td>\n",
       "      <td>False</td>\n",
       "      <td>False</td>\n",
       "      <td>False</td>\n",
       "      <td>False</td>\n",
       "      <td>False</td>\n",
       "      <td>...</td>\n",
       "      <td>False</td>\n",
       "      <td>False</td>\n",
       "      <td>False</td>\n",
       "      <td>False</td>\n",
       "      <td>False</td>\n",
       "      <td>False</td>\n",
       "      <td>False</td>\n",
       "      <td>False</td>\n",
       "      <td>False</td>\n",
       "      <td>False</td>\n",
       "    </tr>\n",
       "    <tr>\n",
       "      <th>open_acc</th>\n",
       "      <td>False</td>\n",
       "      <td>False</td>\n",
       "      <td>False</td>\n",
       "      <td>False</td>\n",
       "      <td>False</td>\n",
       "      <td>False</td>\n",
       "      <td>False</td>\n",
       "      <td>False</td>\n",
       "      <td>False</td>\n",
       "      <td>False</td>\n",
       "      <td>...</td>\n",
       "      <td>False</td>\n",
       "      <td>False</td>\n",
       "      <td>False</td>\n",
       "      <td>False</td>\n",
       "      <td>False</td>\n",
       "      <td>False</td>\n",
       "      <td>False</td>\n",
       "      <td>False</td>\n",
       "      <td>False</td>\n",
       "      <td>False</td>\n",
       "    </tr>\n",
       "    <tr>\n",
       "      <th>pub_rec</th>\n",
       "      <td>False</td>\n",
       "      <td>False</td>\n",
       "      <td>False</td>\n",
       "      <td>False</td>\n",
       "      <td>False</td>\n",
       "      <td>False</td>\n",
       "      <td>False</td>\n",
       "      <td>False</td>\n",
       "      <td>False</td>\n",
       "      <td>False</td>\n",
       "      <td>...</td>\n",
       "      <td>False</td>\n",
       "      <td>False</td>\n",
       "      <td>False</td>\n",
       "      <td>False</td>\n",
       "      <td>False</td>\n",
       "      <td>False</td>\n",
       "      <td>False</td>\n",
       "      <td>False</td>\n",
       "      <td>False</td>\n",
       "      <td>False</td>\n",
       "    </tr>\n",
       "    <tr>\n",
       "      <th>revol_bal</th>\n",
       "      <td>False</td>\n",
       "      <td>False</td>\n",
       "      <td>False</td>\n",
       "      <td>False</td>\n",
       "      <td>False</td>\n",
       "      <td>False</td>\n",
       "      <td>False</td>\n",
       "      <td>False</td>\n",
       "      <td>False</td>\n",
       "      <td>False</td>\n",
       "      <td>...</td>\n",
       "      <td>False</td>\n",
       "      <td>False</td>\n",
       "      <td>False</td>\n",
       "      <td>False</td>\n",
       "      <td>False</td>\n",
       "      <td>False</td>\n",
       "      <td>False</td>\n",
       "      <td>False</td>\n",
       "      <td>False</td>\n",
       "      <td>False</td>\n",
       "    </tr>\n",
       "    <tr>\n",
       "      <th>revol_util</th>\n",
       "      <td>False</td>\n",
       "      <td>False</td>\n",
       "      <td>False</td>\n",
       "      <td>False</td>\n",
       "      <td>False</td>\n",
       "      <td>False</td>\n",
       "      <td>False</td>\n",
       "      <td>False</td>\n",
       "      <td>False</td>\n",
       "      <td>False</td>\n",
       "      <td>...</td>\n",
       "      <td>False</td>\n",
       "      <td>False</td>\n",
       "      <td>False</td>\n",
       "      <td>False</td>\n",
       "      <td>False</td>\n",
       "      <td>False</td>\n",
       "      <td>False</td>\n",
       "      <td>False</td>\n",
       "      <td>False</td>\n",
       "      <td>False</td>\n",
       "    </tr>\n",
       "    <tr>\n",
       "      <th>total_acc</th>\n",
       "      <td>False</td>\n",
       "      <td>False</td>\n",
       "      <td>False</td>\n",
       "      <td>False</td>\n",
       "      <td>False</td>\n",
       "      <td>False</td>\n",
       "      <td>False</td>\n",
       "      <td>False</td>\n",
       "      <td>False</td>\n",
       "      <td>False</td>\n",
       "      <td>...</td>\n",
       "      <td>False</td>\n",
       "      <td>False</td>\n",
       "      <td>False</td>\n",
       "      <td>False</td>\n",
       "      <td>False</td>\n",
       "      <td>False</td>\n",
       "      <td>False</td>\n",
       "      <td>False</td>\n",
       "      <td>False</td>\n",
       "      <td>False</td>\n",
       "    </tr>\n",
       "    <tr>\n",
       "      <th>initial_list_status</th>\n",
       "      <td>False</td>\n",
       "      <td>False</td>\n",
       "      <td>False</td>\n",
       "      <td>False</td>\n",
       "      <td>False</td>\n",
       "      <td>False</td>\n",
       "      <td>False</td>\n",
       "      <td>False</td>\n",
       "      <td>False</td>\n",
       "      <td>False</td>\n",
       "      <td>...</td>\n",
       "      <td>False</td>\n",
       "      <td>False</td>\n",
       "      <td>False</td>\n",
       "      <td>False</td>\n",
       "      <td>False</td>\n",
       "      <td>False</td>\n",
       "      <td>False</td>\n",
       "      <td>False</td>\n",
       "      <td>False</td>\n",
       "      <td>False</td>\n",
       "    </tr>\n",
       "    <tr>\n",
       "      <th>out_prncp</th>\n",
       "      <td>False</td>\n",
       "      <td>False</td>\n",
       "      <td>False</td>\n",
       "      <td>False</td>\n",
       "      <td>False</td>\n",
       "      <td>False</td>\n",
       "      <td>False</td>\n",
       "      <td>False</td>\n",
       "      <td>False</td>\n",
       "      <td>False</td>\n",
       "      <td>...</td>\n",
       "      <td>False</td>\n",
       "      <td>False</td>\n",
       "      <td>False</td>\n",
       "      <td>False</td>\n",
       "      <td>False</td>\n",
       "      <td>False</td>\n",
       "      <td>False</td>\n",
       "      <td>False</td>\n",
       "      <td>False</td>\n",
       "      <td>False</td>\n",
       "    </tr>\n",
       "    <tr>\n",
       "      <th>out_prncp_inv</th>\n",
       "      <td>False</td>\n",
       "      <td>False</td>\n",
       "      <td>False</td>\n",
       "      <td>False</td>\n",
       "      <td>False</td>\n",
       "      <td>False</td>\n",
       "      <td>False</td>\n",
       "      <td>False</td>\n",
       "      <td>False</td>\n",
       "      <td>False</td>\n",
       "      <td>...</td>\n",
       "      <td>False</td>\n",
       "      <td>False</td>\n",
       "      <td>False</td>\n",
       "      <td>False</td>\n",
       "      <td>False</td>\n",
       "      <td>False</td>\n",
       "      <td>False</td>\n",
       "      <td>False</td>\n",
       "      <td>False</td>\n",
       "      <td>False</td>\n",
       "    </tr>\n",
       "    <tr>\n",
       "      <th>total_pymnt</th>\n",
       "      <td>False</td>\n",
       "      <td>False</td>\n",
       "      <td>False</td>\n",
       "      <td>False</td>\n",
       "      <td>False</td>\n",
       "      <td>False</td>\n",
       "      <td>False</td>\n",
       "      <td>False</td>\n",
       "      <td>False</td>\n",
       "      <td>False</td>\n",
       "      <td>...</td>\n",
       "      <td>False</td>\n",
       "      <td>False</td>\n",
       "      <td>False</td>\n",
       "      <td>False</td>\n",
       "      <td>False</td>\n",
       "      <td>False</td>\n",
       "      <td>False</td>\n",
       "      <td>False</td>\n",
       "      <td>False</td>\n",
       "      <td>False</td>\n",
       "    </tr>\n",
       "    <tr>\n",
       "      <th>total_rec_int</th>\n",
       "      <td>False</td>\n",
       "      <td>False</td>\n",
       "      <td>False</td>\n",
       "      <td>False</td>\n",
       "      <td>False</td>\n",
       "      <td>False</td>\n",
       "      <td>False</td>\n",
       "      <td>False</td>\n",
       "      <td>False</td>\n",
       "      <td>False</td>\n",
       "      <td>...</td>\n",
       "      <td>False</td>\n",
       "      <td>False</td>\n",
       "      <td>False</td>\n",
       "      <td>False</td>\n",
       "      <td>False</td>\n",
       "      <td>False</td>\n",
       "      <td>False</td>\n",
       "      <td>False</td>\n",
       "      <td>False</td>\n",
       "      <td>False</td>\n",
       "    </tr>\n",
       "    <tr>\n",
       "      <th>last_pymnt_amnt</th>\n",
       "      <td>False</td>\n",
       "      <td>False</td>\n",
       "      <td>False</td>\n",
       "      <td>False</td>\n",
       "      <td>False</td>\n",
       "      <td>False</td>\n",
       "      <td>False</td>\n",
       "      <td>False</td>\n",
       "      <td>False</td>\n",
       "      <td>False</td>\n",
       "      <td>...</td>\n",
       "      <td>False</td>\n",
       "      <td>False</td>\n",
       "      <td>False</td>\n",
       "      <td>False</td>\n",
       "      <td>False</td>\n",
       "      <td>False</td>\n",
       "      <td>False</td>\n",
       "      <td>False</td>\n",
       "      <td>False</td>\n",
       "      <td>False</td>\n",
       "    </tr>\n",
       "    <tr>\n",
       "      <th>tot_cur_bal</th>\n",
       "      <td>False</td>\n",
       "      <td>False</td>\n",
       "      <td>False</td>\n",
       "      <td>False</td>\n",
       "      <td>False</td>\n",
       "      <td>False</td>\n",
       "      <td>False</td>\n",
       "      <td>False</td>\n",
       "      <td>False</td>\n",
       "      <td>False</td>\n",
       "      <td>...</td>\n",
       "      <td>False</td>\n",
       "      <td>False</td>\n",
       "      <td>False</td>\n",
       "      <td>False</td>\n",
       "      <td>False</td>\n",
       "      <td>False</td>\n",
       "      <td>False</td>\n",
       "      <td>False</td>\n",
       "      <td>False</td>\n",
       "      <td>False</td>\n",
       "    </tr>\n",
       "    <tr>\n",
       "      <th>total_rev_hi_lim</th>\n",
       "      <td>False</td>\n",
       "      <td>False</td>\n",
       "      <td>False</td>\n",
       "      <td>False</td>\n",
       "      <td>False</td>\n",
       "      <td>False</td>\n",
       "      <td>False</td>\n",
       "      <td>False</td>\n",
       "      <td>False</td>\n",
       "      <td>False</td>\n",
       "      <td>...</td>\n",
       "      <td>False</td>\n",
       "      <td>False</td>\n",
       "      <td>False</td>\n",
       "      <td>False</td>\n",
       "      <td>False</td>\n",
       "      <td>False</td>\n",
       "      <td>False</td>\n",
       "      <td>False</td>\n",
       "      <td>False</td>\n",
       "      <td>False</td>\n",
       "    </tr>\n",
       "    <tr>\n",
       "      <th>home_ownership_MORTGAGE</th>\n",
       "      <td>False</td>\n",
       "      <td>False</td>\n",
       "      <td>False</td>\n",
       "      <td>False</td>\n",
       "      <td>False</td>\n",
       "      <td>False</td>\n",
       "      <td>False</td>\n",
       "      <td>False</td>\n",
       "      <td>False</td>\n",
       "      <td>False</td>\n",
       "      <td>...</td>\n",
       "      <td>False</td>\n",
       "      <td>False</td>\n",
       "      <td>False</td>\n",
       "      <td>False</td>\n",
       "      <td>False</td>\n",
       "      <td>False</td>\n",
       "      <td>False</td>\n",
       "      <td>False</td>\n",
       "      <td>False</td>\n",
       "      <td>False</td>\n",
       "    </tr>\n",
       "    <tr>\n",
       "      <th>home_ownership_OTHER</th>\n",
       "      <td>False</td>\n",
       "      <td>False</td>\n",
       "      <td>False</td>\n",
       "      <td>False</td>\n",
       "      <td>False</td>\n",
       "      <td>False</td>\n",
       "      <td>False</td>\n",
       "      <td>False</td>\n",
       "      <td>False</td>\n",
       "      <td>False</td>\n",
       "      <td>...</td>\n",
       "      <td>False</td>\n",
       "      <td>False</td>\n",
       "      <td>False</td>\n",
       "      <td>False</td>\n",
       "      <td>False</td>\n",
       "      <td>False</td>\n",
       "      <td>False</td>\n",
       "      <td>False</td>\n",
       "      <td>False</td>\n",
       "      <td>False</td>\n",
       "    </tr>\n",
       "    <tr>\n",
       "      <th>home_ownership_OWN</th>\n",
       "      <td>False</td>\n",
       "      <td>False</td>\n",
       "      <td>False</td>\n",
       "      <td>False</td>\n",
       "      <td>False</td>\n",
       "      <td>False</td>\n",
       "      <td>False</td>\n",
       "      <td>False</td>\n",
       "      <td>False</td>\n",
       "      <td>False</td>\n",
       "      <td>...</td>\n",
       "      <td>False</td>\n",
       "      <td>False</td>\n",
       "      <td>False</td>\n",
       "      <td>False</td>\n",
       "      <td>False</td>\n",
       "      <td>False</td>\n",
       "      <td>False</td>\n",
       "      <td>False</td>\n",
       "      <td>False</td>\n",
       "      <td>False</td>\n",
       "    </tr>\n",
       "    <tr>\n",
       "      <th>home_ownership_RENT</th>\n",
       "      <td>False</td>\n",
       "      <td>False</td>\n",
       "      <td>False</td>\n",
       "      <td>False</td>\n",
       "      <td>False</td>\n",
       "      <td>False</td>\n",
       "      <td>False</td>\n",
       "      <td>False</td>\n",
       "      <td>False</td>\n",
       "      <td>False</td>\n",
       "      <td>...</td>\n",
       "      <td>False</td>\n",
       "      <td>False</td>\n",
       "      <td>False</td>\n",
       "      <td>False</td>\n",
       "      <td>False</td>\n",
       "      <td>False</td>\n",
       "      <td>False</td>\n",
       "      <td>False</td>\n",
       "      <td>False</td>\n",
       "      <td>False</td>\n",
       "    </tr>\n",
       "    <tr>\n",
       "      <th>verification_status_Not Verified</th>\n",
       "      <td>False</td>\n",
       "      <td>False</td>\n",
       "      <td>False</td>\n",
       "      <td>False</td>\n",
       "      <td>False</td>\n",
       "      <td>False</td>\n",
       "      <td>False</td>\n",
       "      <td>False</td>\n",
       "      <td>False</td>\n",
       "      <td>False</td>\n",
       "      <td>...</td>\n",
       "      <td>False</td>\n",
       "      <td>False</td>\n",
       "      <td>False</td>\n",
       "      <td>False</td>\n",
       "      <td>False</td>\n",
       "      <td>False</td>\n",
       "      <td>False</td>\n",
       "      <td>False</td>\n",
       "      <td>False</td>\n",
       "      <td>False</td>\n",
       "    </tr>\n",
       "    <tr>\n",
       "      <th>verification_status_Source Verified</th>\n",
       "      <td>False</td>\n",
       "      <td>False</td>\n",
       "      <td>False</td>\n",
       "      <td>False</td>\n",
       "      <td>False</td>\n",
       "      <td>False</td>\n",
       "      <td>False</td>\n",
       "      <td>False</td>\n",
       "      <td>False</td>\n",
       "      <td>False</td>\n",
       "      <td>...</td>\n",
       "      <td>False</td>\n",
       "      <td>False</td>\n",
       "      <td>False</td>\n",
       "      <td>False</td>\n",
       "      <td>False</td>\n",
       "      <td>False</td>\n",
       "      <td>False</td>\n",
       "      <td>False</td>\n",
       "      <td>False</td>\n",
       "      <td>False</td>\n",
       "    </tr>\n",
       "    <tr>\n",
       "      <th>...</th>\n",
       "      <td>...</td>\n",
       "      <td>...</td>\n",
       "      <td>...</td>\n",
       "      <td>...</td>\n",
       "      <td>...</td>\n",
       "      <td>...</td>\n",
       "      <td>...</td>\n",
       "      <td>...</td>\n",
       "      <td>...</td>\n",
       "      <td>...</td>\n",
       "      <td>...</td>\n",
       "      <td>...</td>\n",
       "      <td>...</td>\n",
       "      <td>...</td>\n",
       "      <td>...</td>\n",
       "      <td>...</td>\n",
       "      <td>...</td>\n",
       "      <td>...</td>\n",
       "      <td>...</td>\n",
       "      <td>...</td>\n",
       "      <td>...</td>\n",
       "    </tr>\n",
       "    <tr>\n",
       "      <th>addr_state_SC</th>\n",
       "      <td>False</td>\n",
       "      <td>False</td>\n",
       "      <td>False</td>\n",
       "      <td>False</td>\n",
       "      <td>False</td>\n",
       "      <td>False</td>\n",
       "      <td>False</td>\n",
       "      <td>False</td>\n",
       "      <td>False</td>\n",
       "      <td>False</td>\n",
       "      <td>...</td>\n",
       "      <td>False</td>\n",
       "      <td>False</td>\n",
       "      <td>False</td>\n",
       "      <td>False</td>\n",
       "      <td>False</td>\n",
       "      <td>False</td>\n",
       "      <td>False</td>\n",
       "      <td>False</td>\n",
       "      <td>False</td>\n",
       "      <td>False</td>\n",
       "    </tr>\n",
       "    <tr>\n",
       "      <th>addr_state_TN</th>\n",
       "      <td>False</td>\n",
       "      <td>False</td>\n",
       "      <td>False</td>\n",
       "      <td>False</td>\n",
       "      <td>False</td>\n",
       "      <td>False</td>\n",
       "      <td>False</td>\n",
       "      <td>False</td>\n",
       "      <td>False</td>\n",
       "      <td>False</td>\n",
       "      <td>...</td>\n",
       "      <td>False</td>\n",
       "      <td>False</td>\n",
       "      <td>False</td>\n",
       "      <td>False</td>\n",
       "      <td>False</td>\n",
       "      <td>False</td>\n",
       "      <td>False</td>\n",
       "      <td>False</td>\n",
       "      <td>False</td>\n",
       "      <td>False</td>\n",
       "    </tr>\n",
       "    <tr>\n",
       "      <th>addr_state_TX</th>\n",
       "      <td>False</td>\n",
       "      <td>False</td>\n",
       "      <td>False</td>\n",
       "      <td>False</td>\n",
       "      <td>False</td>\n",
       "      <td>False</td>\n",
       "      <td>False</td>\n",
       "      <td>False</td>\n",
       "      <td>False</td>\n",
       "      <td>False</td>\n",
       "      <td>...</td>\n",
       "      <td>False</td>\n",
       "      <td>False</td>\n",
       "      <td>False</td>\n",
       "      <td>False</td>\n",
       "      <td>False</td>\n",
       "      <td>False</td>\n",
       "      <td>False</td>\n",
       "      <td>False</td>\n",
       "      <td>False</td>\n",
       "      <td>False</td>\n",
       "    </tr>\n",
       "    <tr>\n",
       "      <th>addr_state_VA</th>\n",
       "      <td>False</td>\n",
       "      <td>False</td>\n",
       "      <td>False</td>\n",
       "      <td>False</td>\n",
       "      <td>False</td>\n",
       "      <td>False</td>\n",
       "      <td>False</td>\n",
       "      <td>False</td>\n",
       "      <td>False</td>\n",
       "      <td>False</td>\n",
       "      <td>...</td>\n",
       "      <td>False</td>\n",
       "      <td>False</td>\n",
       "      <td>False</td>\n",
       "      <td>False</td>\n",
       "      <td>False</td>\n",
       "      <td>False</td>\n",
       "      <td>False</td>\n",
       "      <td>False</td>\n",
       "      <td>False</td>\n",
       "      <td>False</td>\n",
       "    </tr>\n",
       "    <tr>\n",
       "      <th>addr_state_WA</th>\n",
       "      <td>False</td>\n",
       "      <td>False</td>\n",
       "      <td>False</td>\n",
       "      <td>False</td>\n",
       "      <td>False</td>\n",
       "      <td>False</td>\n",
       "      <td>False</td>\n",
       "      <td>False</td>\n",
       "      <td>False</td>\n",
       "      <td>False</td>\n",
       "      <td>...</td>\n",
       "      <td>False</td>\n",
       "      <td>False</td>\n",
       "      <td>False</td>\n",
       "      <td>False</td>\n",
       "      <td>False</td>\n",
       "      <td>False</td>\n",
       "      <td>False</td>\n",
       "      <td>False</td>\n",
       "      <td>False</td>\n",
       "      <td>False</td>\n",
       "    </tr>\n",
       "    <tr>\n",
       "      <th>addr_state_WI</th>\n",
       "      <td>False</td>\n",
       "      <td>False</td>\n",
       "      <td>False</td>\n",
       "      <td>False</td>\n",
       "      <td>False</td>\n",
       "      <td>False</td>\n",
       "      <td>False</td>\n",
       "      <td>False</td>\n",
       "      <td>False</td>\n",
       "      <td>False</td>\n",
       "      <td>...</td>\n",
       "      <td>False</td>\n",
       "      <td>False</td>\n",
       "      <td>False</td>\n",
       "      <td>False</td>\n",
       "      <td>False</td>\n",
       "      <td>False</td>\n",
       "      <td>False</td>\n",
       "      <td>False</td>\n",
       "      <td>False</td>\n",
       "      <td>False</td>\n",
       "    </tr>\n",
       "    <tr>\n",
       "      <th>earliest_cr_line_year_1986</th>\n",
       "      <td>False</td>\n",
       "      <td>False</td>\n",
       "      <td>False</td>\n",
       "      <td>False</td>\n",
       "      <td>False</td>\n",
       "      <td>False</td>\n",
       "      <td>False</td>\n",
       "      <td>False</td>\n",
       "      <td>False</td>\n",
       "      <td>False</td>\n",
       "      <td>...</td>\n",
       "      <td>False</td>\n",
       "      <td>False</td>\n",
       "      <td>False</td>\n",
       "      <td>False</td>\n",
       "      <td>False</td>\n",
       "      <td>False</td>\n",
       "      <td>False</td>\n",
       "      <td>False</td>\n",
       "      <td>False</td>\n",
       "      <td>False</td>\n",
       "    </tr>\n",
       "    <tr>\n",
       "      <th>earliest_cr_line_year_1987</th>\n",
       "      <td>False</td>\n",
       "      <td>False</td>\n",
       "      <td>False</td>\n",
       "      <td>False</td>\n",
       "      <td>False</td>\n",
       "      <td>False</td>\n",
       "      <td>False</td>\n",
       "      <td>False</td>\n",
       "      <td>False</td>\n",
       "      <td>False</td>\n",
       "      <td>...</td>\n",
       "      <td>False</td>\n",
       "      <td>False</td>\n",
       "      <td>False</td>\n",
       "      <td>False</td>\n",
       "      <td>False</td>\n",
       "      <td>False</td>\n",
       "      <td>False</td>\n",
       "      <td>False</td>\n",
       "      <td>False</td>\n",
       "      <td>False</td>\n",
       "    </tr>\n",
       "    <tr>\n",
       "      <th>earliest_cr_line_year_1988</th>\n",
       "      <td>False</td>\n",
       "      <td>False</td>\n",
       "      <td>False</td>\n",
       "      <td>False</td>\n",
       "      <td>False</td>\n",
       "      <td>False</td>\n",
       "      <td>False</td>\n",
       "      <td>False</td>\n",
       "      <td>False</td>\n",
       "      <td>False</td>\n",
       "      <td>...</td>\n",
       "      <td>False</td>\n",
       "      <td>False</td>\n",
       "      <td>False</td>\n",
       "      <td>False</td>\n",
       "      <td>False</td>\n",
       "      <td>False</td>\n",
       "      <td>False</td>\n",
       "      <td>False</td>\n",
       "      <td>False</td>\n",
       "      <td>False</td>\n",
       "    </tr>\n",
       "    <tr>\n",
       "      <th>earliest_cr_line_year_1989</th>\n",
       "      <td>False</td>\n",
       "      <td>False</td>\n",
       "      <td>False</td>\n",
       "      <td>False</td>\n",
       "      <td>False</td>\n",
       "      <td>False</td>\n",
       "      <td>False</td>\n",
       "      <td>False</td>\n",
       "      <td>False</td>\n",
       "      <td>False</td>\n",
       "      <td>...</td>\n",
       "      <td>False</td>\n",
       "      <td>False</td>\n",
       "      <td>False</td>\n",
       "      <td>False</td>\n",
       "      <td>False</td>\n",
       "      <td>False</td>\n",
       "      <td>False</td>\n",
       "      <td>False</td>\n",
       "      <td>False</td>\n",
       "      <td>False</td>\n",
       "    </tr>\n",
       "    <tr>\n",
       "      <th>earliest_cr_line_year_1990</th>\n",
       "      <td>False</td>\n",
       "      <td>False</td>\n",
       "      <td>False</td>\n",
       "      <td>False</td>\n",
       "      <td>False</td>\n",
       "      <td>False</td>\n",
       "      <td>False</td>\n",
       "      <td>False</td>\n",
       "      <td>False</td>\n",
       "      <td>False</td>\n",
       "      <td>...</td>\n",
       "      <td>False</td>\n",
       "      <td>False</td>\n",
       "      <td>False</td>\n",
       "      <td>False</td>\n",
       "      <td>False</td>\n",
       "      <td>False</td>\n",
       "      <td>False</td>\n",
       "      <td>False</td>\n",
       "      <td>False</td>\n",
       "      <td>False</td>\n",
       "    </tr>\n",
       "    <tr>\n",
       "      <th>earliest_cr_line_year_1991</th>\n",
       "      <td>False</td>\n",
       "      <td>False</td>\n",
       "      <td>False</td>\n",
       "      <td>False</td>\n",
       "      <td>False</td>\n",
       "      <td>False</td>\n",
       "      <td>False</td>\n",
       "      <td>False</td>\n",
       "      <td>False</td>\n",
       "      <td>False</td>\n",
       "      <td>...</td>\n",
       "      <td>False</td>\n",
       "      <td>False</td>\n",
       "      <td>False</td>\n",
       "      <td>False</td>\n",
       "      <td>False</td>\n",
       "      <td>False</td>\n",
       "      <td>False</td>\n",
       "      <td>False</td>\n",
       "      <td>False</td>\n",
       "      <td>False</td>\n",
       "    </tr>\n",
       "    <tr>\n",
       "      <th>earliest_cr_line_year_1992</th>\n",
       "      <td>False</td>\n",
       "      <td>False</td>\n",
       "      <td>False</td>\n",
       "      <td>False</td>\n",
       "      <td>False</td>\n",
       "      <td>False</td>\n",
       "      <td>False</td>\n",
       "      <td>False</td>\n",
       "      <td>False</td>\n",
       "      <td>False</td>\n",
       "      <td>...</td>\n",
       "      <td>False</td>\n",
       "      <td>False</td>\n",
       "      <td>False</td>\n",
       "      <td>False</td>\n",
       "      <td>False</td>\n",
       "      <td>False</td>\n",
       "      <td>False</td>\n",
       "      <td>False</td>\n",
       "      <td>False</td>\n",
       "      <td>False</td>\n",
       "    </tr>\n",
       "    <tr>\n",
       "      <th>earliest_cr_line_year_1993</th>\n",
       "      <td>False</td>\n",
       "      <td>False</td>\n",
       "      <td>False</td>\n",
       "      <td>False</td>\n",
       "      <td>False</td>\n",
       "      <td>False</td>\n",
       "      <td>False</td>\n",
       "      <td>False</td>\n",
       "      <td>False</td>\n",
       "      <td>False</td>\n",
       "      <td>...</td>\n",
       "      <td>False</td>\n",
       "      <td>False</td>\n",
       "      <td>False</td>\n",
       "      <td>False</td>\n",
       "      <td>False</td>\n",
       "      <td>False</td>\n",
       "      <td>False</td>\n",
       "      <td>False</td>\n",
       "      <td>False</td>\n",
       "      <td>False</td>\n",
       "    </tr>\n",
       "    <tr>\n",
       "      <th>earliest_cr_line_year_1994</th>\n",
       "      <td>False</td>\n",
       "      <td>False</td>\n",
       "      <td>False</td>\n",
       "      <td>False</td>\n",
       "      <td>False</td>\n",
       "      <td>False</td>\n",
       "      <td>False</td>\n",
       "      <td>False</td>\n",
       "      <td>False</td>\n",
       "      <td>False</td>\n",
       "      <td>...</td>\n",
       "      <td>False</td>\n",
       "      <td>False</td>\n",
       "      <td>False</td>\n",
       "      <td>False</td>\n",
       "      <td>False</td>\n",
       "      <td>False</td>\n",
       "      <td>False</td>\n",
       "      <td>False</td>\n",
       "      <td>False</td>\n",
       "      <td>False</td>\n",
       "    </tr>\n",
       "    <tr>\n",
       "      <th>earliest_cr_line_year_1995</th>\n",
       "      <td>False</td>\n",
       "      <td>False</td>\n",
       "      <td>False</td>\n",
       "      <td>False</td>\n",
       "      <td>False</td>\n",
       "      <td>False</td>\n",
       "      <td>False</td>\n",
       "      <td>False</td>\n",
       "      <td>False</td>\n",
       "      <td>False</td>\n",
       "      <td>...</td>\n",
       "      <td>False</td>\n",
       "      <td>False</td>\n",
       "      <td>False</td>\n",
       "      <td>False</td>\n",
       "      <td>False</td>\n",
       "      <td>False</td>\n",
       "      <td>False</td>\n",
       "      <td>False</td>\n",
       "      <td>False</td>\n",
       "      <td>False</td>\n",
       "    </tr>\n",
       "    <tr>\n",
       "      <th>earliest_cr_line_year_1996</th>\n",
       "      <td>False</td>\n",
       "      <td>False</td>\n",
       "      <td>False</td>\n",
       "      <td>False</td>\n",
       "      <td>False</td>\n",
       "      <td>False</td>\n",
       "      <td>False</td>\n",
       "      <td>False</td>\n",
       "      <td>False</td>\n",
       "      <td>False</td>\n",
       "      <td>...</td>\n",
       "      <td>False</td>\n",
       "      <td>False</td>\n",
       "      <td>False</td>\n",
       "      <td>False</td>\n",
       "      <td>False</td>\n",
       "      <td>False</td>\n",
       "      <td>False</td>\n",
       "      <td>False</td>\n",
       "      <td>False</td>\n",
       "      <td>False</td>\n",
       "    </tr>\n",
       "    <tr>\n",
       "      <th>earliest_cr_line_year_1997</th>\n",
       "      <td>False</td>\n",
       "      <td>False</td>\n",
       "      <td>False</td>\n",
       "      <td>False</td>\n",
       "      <td>False</td>\n",
       "      <td>False</td>\n",
       "      <td>False</td>\n",
       "      <td>False</td>\n",
       "      <td>False</td>\n",
       "      <td>False</td>\n",
       "      <td>...</td>\n",
       "      <td>False</td>\n",
       "      <td>False</td>\n",
       "      <td>False</td>\n",
       "      <td>False</td>\n",
       "      <td>False</td>\n",
       "      <td>False</td>\n",
       "      <td>False</td>\n",
       "      <td>False</td>\n",
       "      <td>False</td>\n",
       "      <td>False</td>\n",
       "    </tr>\n",
       "    <tr>\n",
       "      <th>earliest_cr_line_year_1998</th>\n",
       "      <td>False</td>\n",
       "      <td>False</td>\n",
       "      <td>False</td>\n",
       "      <td>False</td>\n",
       "      <td>False</td>\n",
       "      <td>False</td>\n",
       "      <td>False</td>\n",
       "      <td>False</td>\n",
       "      <td>False</td>\n",
       "      <td>False</td>\n",
       "      <td>...</td>\n",
       "      <td>False</td>\n",
       "      <td>False</td>\n",
       "      <td>False</td>\n",
       "      <td>False</td>\n",
       "      <td>False</td>\n",
       "      <td>False</td>\n",
       "      <td>False</td>\n",
       "      <td>False</td>\n",
       "      <td>False</td>\n",
       "      <td>False</td>\n",
       "    </tr>\n",
       "    <tr>\n",
       "      <th>earliest_cr_line_year_1999</th>\n",
       "      <td>False</td>\n",
       "      <td>False</td>\n",
       "      <td>False</td>\n",
       "      <td>False</td>\n",
       "      <td>False</td>\n",
       "      <td>False</td>\n",
       "      <td>False</td>\n",
       "      <td>False</td>\n",
       "      <td>False</td>\n",
       "      <td>False</td>\n",
       "      <td>...</td>\n",
       "      <td>False</td>\n",
       "      <td>False</td>\n",
       "      <td>False</td>\n",
       "      <td>False</td>\n",
       "      <td>False</td>\n",
       "      <td>False</td>\n",
       "      <td>False</td>\n",
       "      <td>False</td>\n",
       "      <td>False</td>\n",
       "      <td>False</td>\n",
       "    </tr>\n",
       "    <tr>\n",
       "      <th>earliest_cr_line_year_2000</th>\n",
       "      <td>False</td>\n",
       "      <td>False</td>\n",
       "      <td>False</td>\n",
       "      <td>False</td>\n",
       "      <td>False</td>\n",
       "      <td>False</td>\n",
       "      <td>False</td>\n",
       "      <td>False</td>\n",
       "      <td>False</td>\n",
       "      <td>False</td>\n",
       "      <td>...</td>\n",
       "      <td>False</td>\n",
       "      <td>False</td>\n",
       "      <td>False</td>\n",
       "      <td>False</td>\n",
       "      <td>False</td>\n",
       "      <td>False</td>\n",
       "      <td>False</td>\n",
       "      <td>False</td>\n",
       "      <td>False</td>\n",
       "      <td>False</td>\n",
       "    </tr>\n",
       "    <tr>\n",
       "      <th>earliest_cr_line_year_2001</th>\n",
       "      <td>False</td>\n",
       "      <td>False</td>\n",
       "      <td>False</td>\n",
       "      <td>False</td>\n",
       "      <td>False</td>\n",
       "      <td>False</td>\n",
       "      <td>False</td>\n",
       "      <td>False</td>\n",
       "      <td>False</td>\n",
       "      <td>False</td>\n",
       "      <td>...</td>\n",
       "      <td>False</td>\n",
       "      <td>False</td>\n",
       "      <td>False</td>\n",
       "      <td>False</td>\n",
       "      <td>False</td>\n",
       "      <td>False</td>\n",
       "      <td>False</td>\n",
       "      <td>False</td>\n",
       "      <td>False</td>\n",
       "      <td>False</td>\n",
       "    </tr>\n",
       "    <tr>\n",
       "      <th>earliest_cr_line_year_2002</th>\n",
       "      <td>False</td>\n",
       "      <td>False</td>\n",
       "      <td>False</td>\n",
       "      <td>False</td>\n",
       "      <td>False</td>\n",
       "      <td>False</td>\n",
       "      <td>False</td>\n",
       "      <td>False</td>\n",
       "      <td>False</td>\n",
       "      <td>False</td>\n",
       "      <td>...</td>\n",
       "      <td>False</td>\n",
       "      <td>False</td>\n",
       "      <td>False</td>\n",
       "      <td>False</td>\n",
       "      <td>False</td>\n",
       "      <td>False</td>\n",
       "      <td>False</td>\n",
       "      <td>False</td>\n",
       "      <td>False</td>\n",
       "      <td>False</td>\n",
       "    </tr>\n",
       "    <tr>\n",
       "      <th>earliest_cr_line_year_2003</th>\n",
       "      <td>False</td>\n",
       "      <td>False</td>\n",
       "      <td>False</td>\n",
       "      <td>False</td>\n",
       "      <td>False</td>\n",
       "      <td>False</td>\n",
       "      <td>False</td>\n",
       "      <td>False</td>\n",
       "      <td>False</td>\n",
       "      <td>False</td>\n",
       "      <td>...</td>\n",
       "      <td>False</td>\n",
       "      <td>False</td>\n",
       "      <td>False</td>\n",
       "      <td>False</td>\n",
       "      <td>False</td>\n",
       "      <td>False</td>\n",
       "      <td>False</td>\n",
       "      <td>False</td>\n",
       "      <td>False</td>\n",
       "      <td>False</td>\n",
       "    </tr>\n",
       "    <tr>\n",
       "      <th>earliest_cr_line_year_2004</th>\n",
       "      <td>False</td>\n",
       "      <td>False</td>\n",
       "      <td>False</td>\n",
       "      <td>False</td>\n",
       "      <td>False</td>\n",
       "      <td>False</td>\n",
       "      <td>False</td>\n",
       "      <td>False</td>\n",
       "      <td>False</td>\n",
       "      <td>False</td>\n",
       "      <td>...</td>\n",
       "      <td>False</td>\n",
       "      <td>False</td>\n",
       "      <td>False</td>\n",
       "      <td>False</td>\n",
       "      <td>False</td>\n",
       "      <td>False</td>\n",
       "      <td>False</td>\n",
       "      <td>False</td>\n",
       "      <td>False</td>\n",
       "      <td>False</td>\n",
       "    </tr>\n",
       "    <tr>\n",
       "      <th>earliest_cr_line_year_2005</th>\n",
       "      <td>False</td>\n",
       "      <td>False</td>\n",
       "      <td>False</td>\n",
       "      <td>False</td>\n",
       "      <td>False</td>\n",
       "      <td>False</td>\n",
       "      <td>False</td>\n",
       "      <td>False</td>\n",
       "      <td>False</td>\n",
       "      <td>False</td>\n",
       "      <td>...</td>\n",
       "      <td>False</td>\n",
       "      <td>False</td>\n",
       "      <td>False</td>\n",
       "      <td>False</td>\n",
       "      <td>False</td>\n",
       "      <td>False</td>\n",
       "      <td>False</td>\n",
       "      <td>False</td>\n",
       "      <td>False</td>\n",
       "      <td>False</td>\n",
       "    </tr>\n",
       "    <tr>\n",
       "      <th>earliest_cr_line_year_2006</th>\n",
       "      <td>False</td>\n",
       "      <td>False</td>\n",
       "      <td>False</td>\n",
       "      <td>False</td>\n",
       "      <td>False</td>\n",
       "      <td>False</td>\n",
       "      <td>False</td>\n",
       "      <td>False</td>\n",
       "      <td>False</td>\n",
       "      <td>False</td>\n",
       "      <td>...</td>\n",
       "      <td>False</td>\n",
       "      <td>False</td>\n",
       "      <td>False</td>\n",
       "      <td>False</td>\n",
       "      <td>False</td>\n",
       "      <td>False</td>\n",
       "      <td>False</td>\n",
       "      <td>False</td>\n",
       "      <td>False</td>\n",
       "      <td>False</td>\n",
       "    </tr>\n",
       "    <tr>\n",
       "      <th>earliest_cr_line_year_2007</th>\n",
       "      <td>False</td>\n",
       "      <td>False</td>\n",
       "      <td>False</td>\n",
       "      <td>False</td>\n",
       "      <td>False</td>\n",
       "      <td>False</td>\n",
       "      <td>False</td>\n",
       "      <td>False</td>\n",
       "      <td>False</td>\n",
       "      <td>False</td>\n",
       "      <td>...</td>\n",
       "      <td>False</td>\n",
       "      <td>False</td>\n",
       "      <td>False</td>\n",
       "      <td>False</td>\n",
       "      <td>False</td>\n",
       "      <td>False</td>\n",
       "      <td>False</td>\n",
       "      <td>False</td>\n",
       "      <td>False</td>\n",
       "      <td>False</td>\n",
       "    </tr>\n",
       "    <tr>\n",
       "      <th>earliest_cr_line_year_2008</th>\n",
       "      <td>False</td>\n",
       "      <td>False</td>\n",
       "      <td>False</td>\n",
       "      <td>False</td>\n",
       "      <td>False</td>\n",
       "      <td>False</td>\n",
       "      <td>False</td>\n",
       "      <td>False</td>\n",
       "      <td>False</td>\n",
       "      <td>False</td>\n",
       "      <td>...</td>\n",
       "      <td>False</td>\n",
       "      <td>False</td>\n",
       "      <td>False</td>\n",
       "      <td>False</td>\n",
       "      <td>False</td>\n",
       "      <td>False</td>\n",
       "      <td>False</td>\n",
       "      <td>False</td>\n",
       "      <td>False</td>\n",
       "      <td>False</td>\n",
       "    </tr>\n",
       "    <tr>\n",
       "      <th>earliest_cr_line_year_Other</th>\n",
       "      <td>False</td>\n",
       "      <td>False</td>\n",
       "      <td>False</td>\n",
       "      <td>False</td>\n",
       "      <td>False</td>\n",
       "      <td>False</td>\n",
       "      <td>False</td>\n",
       "      <td>False</td>\n",
       "      <td>False</td>\n",
       "      <td>False</td>\n",
       "      <td>...</td>\n",
       "      <td>False</td>\n",
       "      <td>False</td>\n",
       "      <td>False</td>\n",
       "      <td>False</td>\n",
       "      <td>False</td>\n",
       "      <td>False</td>\n",
       "      <td>False</td>\n",
       "      <td>False</td>\n",
       "      <td>False</td>\n",
       "      <td>False</td>\n",
       "    </tr>\n",
       "  </tbody>\n",
       "</table>\n",
       "<p>100 rows × 100 columns</p>\n",
       "</div>"
      ],
      "text/plain": [
       "                                     loan_amnt   term  int_rate  installment  \\\n",
       "loan_amnt                                False  False     False         True   \n",
       "term                                     False  False     False        False   \n",
       "int_rate                                 False  False     False        False   \n",
       "installment                               True  False     False        False   \n",
       "sub_grade                                False  False      True        False   \n",
       "emp_length                               False  False     False        False   \n",
       "annual_inc                               False  False     False        False   \n",
       "dti                                      False  False     False        False   \n",
       "delinq_2yrs                              False  False     False        False   \n",
       "inq_last_6mths                           False  False     False        False   \n",
       "mths_since_last_delinq                   False  False     False        False   \n",
       "open_acc                                 False  False     False        False   \n",
       "pub_rec                                  False  False     False        False   \n",
       "revol_bal                                False  False     False        False   \n",
       "revol_util                               False  False     False        False   \n",
       "total_acc                                False  False     False        False   \n",
       "initial_list_status                      False  False     False        False   \n",
       "out_prncp                                False  False     False        False   \n",
       "out_prncp_inv                            False  False     False        False   \n",
       "total_pymnt                              False  False     False        False   \n",
       "total_rec_int                            False  False     False        False   \n",
       "last_pymnt_amnt                          False  False     False        False   \n",
       "tot_cur_bal                              False  False     False        False   \n",
       "total_rev_hi_lim                         False  False     False        False   \n",
       "home_ownership_MORTGAGE                  False  False     False        False   \n",
       "home_ownership_OTHER                     False  False     False        False   \n",
       "home_ownership_OWN                       False  False     False        False   \n",
       "home_ownership_RENT                      False  False     False        False   \n",
       "verification_status_Not Verified         False  False     False        False   \n",
       "verification_status_Source Verified      False  False     False        False   \n",
       "...                                        ...    ...       ...          ...   \n",
       "addr_state_SC                            False  False     False        False   \n",
       "addr_state_TN                            False  False     False        False   \n",
       "addr_state_TX                            False  False     False        False   \n",
       "addr_state_VA                            False  False     False        False   \n",
       "addr_state_WA                            False  False     False        False   \n",
       "addr_state_WI                            False  False     False        False   \n",
       "earliest_cr_line_year_1986               False  False     False        False   \n",
       "earliest_cr_line_year_1987               False  False     False        False   \n",
       "earliest_cr_line_year_1988               False  False     False        False   \n",
       "earliest_cr_line_year_1989               False  False     False        False   \n",
       "earliest_cr_line_year_1990               False  False     False        False   \n",
       "earliest_cr_line_year_1991               False  False     False        False   \n",
       "earliest_cr_line_year_1992               False  False     False        False   \n",
       "earliest_cr_line_year_1993               False  False     False        False   \n",
       "earliest_cr_line_year_1994               False  False     False        False   \n",
       "earliest_cr_line_year_1995               False  False     False        False   \n",
       "earliest_cr_line_year_1996               False  False     False        False   \n",
       "earliest_cr_line_year_1997               False  False     False        False   \n",
       "earliest_cr_line_year_1998               False  False     False        False   \n",
       "earliest_cr_line_year_1999               False  False     False        False   \n",
       "earliest_cr_line_year_2000               False  False     False        False   \n",
       "earliest_cr_line_year_2001               False  False     False        False   \n",
       "earliest_cr_line_year_2002               False  False     False        False   \n",
       "earliest_cr_line_year_2003               False  False     False        False   \n",
       "earliest_cr_line_year_2004               False  False     False        False   \n",
       "earliest_cr_line_year_2005               False  False     False        False   \n",
       "earliest_cr_line_year_2006               False  False     False        False   \n",
       "earliest_cr_line_year_2007               False  False     False        False   \n",
       "earliest_cr_line_year_2008               False  False     False        False   \n",
       "earliest_cr_line_year_Other              False  False     False        False   \n",
       "\n",
       "                                     sub_grade  emp_length  annual_inc    dti  \\\n",
       "loan_amnt                                False       False       False  False   \n",
       "term                                     False       False       False  False   \n",
       "int_rate                                  True       False       False  False   \n",
       "installment                              False       False       False  False   \n",
       "sub_grade                                False       False       False  False   \n",
       "emp_length                               False       False       False  False   \n",
       "annual_inc                               False       False       False  False   \n",
       "dti                                      False       False       False  False   \n",
       "delinq_2yrs                              False       False       False  False   \n",
       "inq_last_6mths                           False       False       False  False   \n",
       "mths_since_last_delinq                   False       False       False  False   \n",
       "open_acc                                 False       False       False  False   \n",
       "pub_rec                                  False       False       False  False   \n",
       "revol_bal                                False       False       False  False   \n",
       "revol_util                               False       False       False  False   \n",
       "total_acc                                False       False       False  False   \n",
       "initial_list_status                      False       False       False  False   \n",
       "out_prncp                                False       False       False  False   \n",
       "out_prncp_inv                            False       False       False  False   \n",
       "total_pymnt                              False       False       False  False   \n",
       "total_rec_int                            False       False       False  False   \n",
       "last_pymnt_amnt                          False       False       False  False   \n",
       "tot_cur_bal                              False       False       False  False   \n",
       "total_rev_hi_lim                         False       False       False  False   \n",
       "home_ownership_MORTGAGE                  False       False       False  False   \n",
       "home_ownership_OTHER                     False       False       False  False   \n",
       "home_ownership_OWN                       False       False       False  False   \n",
       "home_ownership_RENT                      False       False       False  False   \n",
       "verification_status_Not Verified         False       False       False  False   \n",
       "verification_status_Source Verified      False       False       False  False   \n",
       "...                                        ...         ...         ...    ...   \n",
       "addr_state_SC                            False       False       False  False   \n",
       "addr_state_TN                            False       False       False  False   \n",
       "addr_state_TX                            False       False       False  False   \n",
       "addr_state_VA                            False       False       False  False   \n",
       "addr_state_WA                            False       False       False  False   \n",
       "addr_state_WI                            False       False       False  False   \n",
       "earliest_cr_line_year_1986               False       False       False  False   \n",
       "earliest_cr_line_year_1987               False       False       False  False   \n",
       "earliest_cr_line_year_1988               False       False       False  False   \n",
       "earliest_cr_line_year_1989               False       False       False  False   \n",
       "earliest_cr_line_year_1990               False       False       False  False   \n",
       "earliest_cr_line_year_1991               False       False       False  False   \n",
       "earliest_cr_line_year_1992               False       False       False  False   \n",
       "earliest_cr_line_year_1993               False       False       False  False   \n",
       "earliest_cr_line_year_1994               False       False       False  False   \n",
       "earliest_cr_line_year_1995               False       False       False  False   \n",
       "earliest_cr_line_year_1996               False       False       False  False   \n",
       "earliest_cr_line_year_1997               False       False       False  False   \n",
       "earliest_cr_line_year_1998               False       False       False  False   \n",
       "earliest_cr_line_year_1999               False       False       False  False   \n",
       "earliest_cr_line_year_2000               False       False       False  False   \n",
       "earliest_cr_line_year_2001               False       False       False  False   \n",
       "earliest_cr_line_year_2002               False       False       False  False   \n",
       "earliest_cr_line_year_2003               False       False       False  False   \n",
       "earliest_cr_line_year_2004               False       False       False  False   \n",
       "earliest_cr_line_year_2005               False       False       False  False   \n",
       "earliest_cr_line_year_2006               False       False       False  False   \n",
       "earliest_cr_line_year_2007               False       False       False  False   \n",
       "earliest_cr_line_year_2008               False       False       False  False   \n",
       "earliest_cr_line_year_Other              False       False       False  False   \n",
       "\n",
       "                                     delinq_2yrs  inq_last_6mths  \\\n",
       "loan_amnt                                  False           False   \n",
       "term                                       False           False   \n",
       "int_rate                                   False           False   \n",
       "installment                                False           False   \n",
       "sub_grade                                  False           False   \n",
       "emp_length                                 False           False   \n",
       "annual_inc                                 False           False   \n",
       "dti                                        False           False   \n",
       "delinq_2yrs                                False           False   \n",
       "inq_last_6mths                             False           False   \n",
       "mths_since_last_delinq                     False           False   \n",
       "open_acc                                   False           False   \n",
       "pub_rec                                    False           False   \n",
       "revol_bal                                  False           False   \n",
       "revol_util                                 False           False   \n",
       "total_acc                                  False           False   \n",
       "initial_list_status                        False           False   \n",
       "out_prncp                                  False           False   \n",
       "out_prncp_inv                              False           False   \n",
       "total_pymnt                                False           False   \n",
       "total_rec_int                              False           False   \n",
       "last_pymnt_amnt                            False           False   \n",
       "tot_cur_bal                                False           False   \n",
       "total_rev_hi_lim                           False           False   \n",
       "home_ownership_MORTGAGE                    False           False   \n",
       "home_ownership_OTHER                       False           False   \n",
       "home_ownership_OWN                         False           False   \n",
       "home_ownership_RENT                        False           False   \n",
       "verification_status_Not Verified           False           False   \n",
       "verification_status_Source Verified        False           False   \n",
       "...                                          ...             ...   \n",
       "addr_state_SC                              False           False   \n",
       "addr_state_TN                              False           False   \n",
       "addr_state_TX                              False           False   \n",
       "addr_state_VA                              False           False   \n",
       "addr_state_WA                              False           False   \n",
       "addr_state_WI                              False           False   \n",
       "earliest_cr_line_year_1986                 False           False   \n",
       "earliest_cr_line_year_1987                 False           False   \n",
       "earliest_cr_line_year_1988                 False           False   \n",
       "earliest_cr_line_year_1989                 False           False   \n",
       "earliest_cr_line_year_1990                 False           False   \n",
       "earliest_cr_line_year_1991                 False           False   \n",
       "earliest_cr_line_year_1992                 False           False   \n",
       "earliest_cr_line_year_1993                 False           False   \n",
       "earliest_cr_line_year_1994                 False           False   \n",
       "earliest_cr_line_year_1995                 False           False   \n",
       "earliest_cr_line_year_1996                 False           False   \n",
       "earliest_cr_line_year_1997                 False           False   \n",
       "earliest_cr_line_year_1998                 False           False   \n",
       "earliest_cr_line_year_1999                 False           False   \n",
       "earliest_cr_line_year_2000                 False           False   \n",
       "earliest_cr_line_year_2001                 False           False   \n",
       "earliest_cr_line_year_2002                 False           False   \n",
       "earliest_cr_line_year_2003                 False           False   \n",
       "earliest_cr_line_year_2004                 False           False   \n",
       "earliest_cr_line_year_2005                 False           False   \n",
       "earliest_cr_line_year_2006                 False           False   \n",
       "earliest_cr_line_year_2007                 False           False   \n",
       "earliest_cr_line_year_2008                 False           False   \n",
       "earliest_cr_line_year_Other                False           False   \n",
       "\n",
       "                                                ...               \\\n",
       "loan_amnt                                       ...                \n",
       "term                                            ...                \n",
       "int_rate                                        ...                \n",
       "installment                                     ...                \n",
       "sub_grade                                       ...                \n",
       "emp_length                                      ...                \n",
       "annual_inc                                      ...                \n",
       "dti                                             ...                \n",
       "delinq_2yrs                                     ...                \n",
       "inq_last_6mths                                  ...                \n",
       "mths_since_last_delinq                          ...                \n",
       "open_acc                                        ...                \n",
       "pub_rec                                         ...                \n",
       "revol_bal                                       ...                \n",
       "revol_util                                      ...                \n",
       "total_acc                                       ...                \n",
       "initial_list_status                             ...                \n",
       "out_prncp                                       ...                \n",
       "out_prncp_inv                                   ...                \n",
       "total_pymnt                                     ...                \n",
       "total_rec_int                                   ...                \n",
       "last_pymnt_amnt                                 ...                \n",
       "tot_cur_bal                                     ...                \n",
       "total_rev_hi_lim                                ...                \n",
       "home_ownership_MORTGAGE                         ...                \n",
       "home_ownership_OTHER                            ...                \n",
       "home_ownership_OWN                              ...                \n",
       "home_ownership_RENT                             ...                \n",
       "verification_status_Not Verified                ...                \n",
       "verification_status_Source Verified             ...                \n",
       "...                                             ...                \n",
       "addr_state_SC                                   ...                \n",
       "addr_state_TN                                   ...                \n",
       "addr_state_TX                                   ...                \n",
       "addr_state_VA                                   ...                \n",
       "addr_state_WA                                   ...                \n",
       "addr_state_WI                                   ...                \n",
       "earliest_cr_line_year_1986                      ...                \n",
       "earliest_cr_line_year_1987                      ...                \n",
       "earliest_cr_line_year_1988                      ...                \n",
       "earliest_cr_line_year_1989                      ...                \n",
       "earliest_cr_line_year_1990                      ...                \n",
       "earliest_cr_line_year_1991                      ...                \n",
       "earliest_cr_line_year_1992                      ...                \n",
       "earliest_cr_line_year_1993                      ...                \n",
       "earliest_cr_line_year_1994                      ...                \n",
       "earliest_cr_line_year_1995                      ...                \n",
       "earliest_cr_line_year_1996                      ...                \n",
       "earliest_cr_line_year_1997                      ...                \n",
       "earliest_cr_line_year_1998                      ...                \n",
       "earliest_cr_line_year_1999                      ...                \n",
       "earliest_cr_line_year_2000                      ...                \n",
       "earliest_cr_line_year_2001                      ...                \n",
       "earliest_cr_line_year_2002                      ...                \n",
       "earliest_cr_line_year_2003                      ...                \n",
       "earliest_cr_line_year_2004                      ...                \n",
       "earliest_cr_line_year_2005                      ...                \n",
       "earliest_cr_line_year_2006                      ...                \n",
       "earliest_cr_line_year_2007                      ...                \n",
       "earliest_cr_line_year_2008                      ...                \n",
       "earliest_cr_line_year_Other                     ...                \n",
       "\n",
       "                                     earliest_cr_line_year_2000  \\\n",
       "loan_amnt                                                 False   \n",
       "term                                                      False   \n",
       "int_rate                                                  False   \n",
       "installment                                               False   \n",
       "sub_grade                                                 False   \n",
       "emp_length                                                False   \n",
       "annual_inc                                                False   \n",
       "dti                                                       False   \n",
       "delinq_2yrs                                               False   \n",
       "inq_last_6mths                                            False   \n",
       "mths_since_last_delinq                                    False   \n",
       "open_acc                                                  False   \n",
       "pub_rec                                                   False   \n",
       "revol_bal                                                 False   \n",
       "revol_util                                                False   \n",
       "total_acc                                                 False   \n",
       "initial_list_status                                       False   \n",
       "out_prncp                                                 False   \n",
       "out_prncp_inv                                             False   \n",
       "total_pymnt                                               False   \n",
       "total_rec_int                                             False   \n",
       "last_pymnt_amnt                                           False   \n",
       "tot_cur_bal                                               False   \n",
       "total_rev_hi_lim                                          False   \n",
       "home_ownership_MORTGAGE                                   False   \n",
       "home_ownership_OTHER                                      False   \n",
       "home_ownership_OWN                                        False   \n",
       "home_ownership_RENT                                       False   \n",
       "verification_status_Not Verified                          False   \n",
       "verification_status_Source Verified                       False   \n",
       "...                                                         ...   \n",
       "addr_state_SC                                             False   \n",
       "addr_state_TN                                             False   \n",
       "addr_state_TX                                             False   \n",
       "addr_state_VA                                             False   \n",
       "addr_state_WA                                             False   \n",
       "addr_state_WI                                             False   \n",
       "earliest_cr_line_year_1986                                False   \n",
       "earliest_cr_line_year_1987                                False   \n",
       "earliest_cr_line_year_1988                                False   \n",
       "earliest_cr_line_year_1989                                False   \n",
       "earliest_cr_line_year_1990                                False   \n",
       "earliest_cr_line_year_1991                                False   \n",
       "earliest_cr_line_year_1992                                False   \n",
       "earliest_cr_line_year_1993                                False   \n",
       "earliest_cr_line_year_1994                                False   \n",
       "earliest_cr_line_year_1995                                False   \n",
       "earliest_cr_line_year_1996                                False   \n",
       "earliest_cr_line_year_1997                                False   \n",
       "earliest_cr_line_year_1998                                False   \n",
       "earliest_cr_line_year_1999                                False   \n",
       "earliest_cr_line_year_2000                                False   \n",
       "earliest_cr_line_year_2001                                False   \n",
       "earliest_cr_line_year_2002                                False   \n",
       "earliest_cr_line_year_2003                                False   \n",
       "earliest_cr_line_year_2004                                False   \n",
       "earliest_cr_line_year_2005                                False   \n",
       "earliest_cr_line_year_2006                                False   \n",
       "earliest_cr_line_year_2007                                False   \n",
       "earliest_cr_line_year_2008                                False   \n",
       "earliest_cr_line_year_Other                               False   \n",
       "\n",
       "                                     earliest_cr_line_year_2001  \\\n",
       "loan_amnt                                                 False   \n",
       "term                                                      False   \n",
       "int_rate                                                  False   \n",
       "installment                                               False   \n",
       "sub_grade                                                 False   \n",
       "emp_length                                                False   \n",
       "annual_inc                                                False   \n",
       "dti                                                       False   \n",
       "delinq_2yrs                                               False   \n",
       "inq_last_6mths                                            False   \n",
       "mths_since_last_delinq                                    False   \n",
       "open_acc                                                  False   \n",
       "pub_rec                                                   False   \n",
       "revol_bal                                                 False   \n",
       "revol_util                                                False   \n",
       "total_acc                                                 False   \n",
       "initial_list_status                                       False   \n",
       "out_prncp                                                 False   \n",
       "out_prncp_inv                                             False   \n",
       "total_pymnt                                               False   \n",
       "total_rec_int                                             False   \n",
       "last_pymnt_amnt                                           False   \n",
       "tot_cur_bal                                               False   \n",
       "total_rev_hi_lim                                          False   \n",
       "home_ownership_MORTGAGE                                   False   \n",
       "home_ownership_OTHER                                      False   \n",
       "home_ownership_OWN                                        False   \n",
       "home_ownership_RENT                                       False   \n",
       "verification_status_Not Verified                          False   \n",
       "verification_status_Source Verified                       False   \n",
       "...                                                         ...   \n",
       "addr_state_SC                                             False   \n",
       "addr_state_TN                                             False   \n",
       "addr_state_TX                                             False   \n",
       "addr_state_VA                                             False   \n",
       "addr_state_WA                                             False   \n",
       "addr_state_WI                                             False   \n",
       "earliest_cr_line_year_1986                                False   \n",
       "earliest_cr_line_year_1987                                False   \n",
       "earliest_cr_line_year_1988                                False   \n",
       "earliest_cr_line_year_1989                                False   \n",
       "earliest_cr_line_year_1990                                False   \n",
       "earliest_cr_line_year_1991                                False   \n",
       "earliest_cr_line_year_1992                                False   \n",
       "earliest_cr_line_year_1993                                False   \n",
       "earliest_cr_line_year_1994                                False   \n",
       "earliest_cr_line_year_1995                                False   \n",
       "earliest_cr_line_year_1996                                False   \n",
       "earliest_cr_line_year_1997                                False   \n",
       "earliest_cr_line_year_1998                                False   \n",
       "earliest_cr_line_year_1999                                False   \n",
       "earliest_cr_line_year_2000                                False   \n",
       "earliest_cr_line_year_2001                                False   \n",
       "earliest_cr_line_year_2002                                False   \n",
       "earliest_cr_line_year_2003                                False   \n",
       "earliest_cr_line_year_2004                                False   \n",
       "earliest_cr_line_year_2005                                False   \n",
       "earliest_cr_line_year_2006                                False   \n",
       "earliest_cr_line_year_2007                                False   \n",
       "earliest_cr_line_year_2008                                False   \n",
       "earliest_cr_line_year_Other                               False   \n",
       "\n",
       "                                     earliest_cr_line_year_2002  \\\n",
       "loan_amnt                                                 False   \n",
       "term                                                      False   \n",
       "int_rate                                                  False   \n",
       "installment                                               False   \n",
       "sub_grade                                                 False   \n",
       "emp_length                                                False   \n",
       "annual_inc                                                False   \n",
       "dti                                                       False   \n",
       "delinq_2yrs                                               False   \n",
       "inq_last_6mths                                            False   \n",
       "mths_since_last_delinq                                    False   \n",
       "open_acc                                                  False   \n",
       "pub_rec                                                   False   \n",
       "revol_bal                                                 False   \n",
       "revol_util                                                False   \n",
       "total_acc                                                 False   \n",
       "initial_list_status                                       False   \n",
       "out_prncp                                                 False   \n",
       "out_prncp_inv                                             False   \n",
       "total_pymnt                                               False   \n",
       "total_rec_int                                             False   \n",
       "last_pymnt_amnt                                           False   \n",
       "tot_cur_bal                                               False   \n",
       "total_rev_hi_lim                                          False   \n",
       "home_ownership_MORTGAGE                                   False   \n",
       "home_ownership_OTHER                                      False   \n",
       "home_ownership_OWN                                        False   \n",
       "home_ownership_RENT                                       False   \n",
       "verification_status_Not Verified                          False   \n",
       "verification_status_Source Verified                       False   \n",
       "...                                                         ...   \n",
       "addr_state_SC                                             False   \n",
       "addr_state_TN                                             False   \n",
       "addr_state_TX                                             False   \n",
       "addr_state_VA                                             False   \n",
       "addr_state_WA                                             False   \n",
       "addr_state_WI                                             False   \n",
       "earliest_cr_line_year_1986                                False   \n",
       "earliest_cr_line_year_1987                                False   \n",
       "earliest_cr_line_year_1988                                False   \n",
       "earliest_cr_line_year_1989                                False   \n",
       "earliest_cr_line_year_1990                                False   \n",
       "earliest_cr_line_year_1991                                False   \n",
       "earliest_cr_line_year_1992                                False   \n",
       "earliest_cr_line_year_1993                                False   \n",
       "earliest_cr_line_year_1994                                False   \n",
       "earliest_cr_line_year_1995                                False   \n",
       "earliest_cr_line_year_1996                                False   \n",
       "earliest_cr_line_year_1997                                False   \n",
       "earliest_cr_line_year_1998                                False   \n",
       "earliest_cr_line_year_1999                                False   \n",
       "earliest_cr_line_year_2000                                False   \n",
       "earliest_cr_line_year_2001                                False   \n",
       "earliest_cr_line_year_2002                                False   \n",
       "earliest_cr_line_year_2003                                False   \n",
       "earliest_cr_line_year_2004                                False   \n",
       "earliest_cr_line_year_2005                                False   \n",
       "earliest_cr_line_year_2006                                False   \n",
       "earliest_cr_line_year_2007                                False   \n",
       "earliest_cr_line_year_2008                                False   \n",
       "earliest_cr_line_year_Other                               False   \n",
       "\n",
       "                                     earliest_cr_line_year_2003  \\\n",
       "loan_amnt                                                 False   \n",
       "term                                                      False   \n",
       "int_rate                                                  False   \n",
       "installment                                               False   \n",
       "sub_grade                                                 False   \n",
       "emp_length                                                False   \n",
       "annual_inc                                                False   \n",
       "dti                                                       False   \n",
       "delinq_2yrs                                               False   \n",
       "inq_last_6mths                                            False   \n",
       "mths_since_last_delinq                                    False   \n",
       "open_acc                                                  False   \n",
       "pub_rec                                                   False   \n",
       "revol_bal                                                 False   \n",
       "revol_util                                                False   \n",
       "total_acc                                                 False   \n",
       "initial_list_status                                       False   \n",
       "out_prncp                                                 False   \n",
       "out_prncp_inv                                             False   \n",
       "total_pymnt                                               False   \n",
       "total_rec_int                                             False   \n",
       "last_pymnt_amnt                                           False   \n",
       "tot_cur_bal                                               False   \n",
       "total_rev_hi_lim                                          False   \n",
       "home_ownership_MORTGAGE                                   False   \n",
       "home_ownership_OTHER                                      False   \n",
       "home_ownership_OWN                                        False   \n",
       "home_ownership_RENT                                       False   \n",
       "verification_status_Not Verified                          False   \n",
       "verification_status_Source Verified                       False   \n",
       "...                                                         ...   \n",
       "addr_state_SC                                             False   \n",
       "addr_state_TN                                             False   \n",
       "addr_state_TX                                             False   \n",
       "addr_state_VA                                             False   \n",
       "addr_state_WA                                             False   \n",
       "addr_state_WI                                             False   \n",
       "earliest_cr_line_year_1986                                False   \n",
       "earliest_cr_line_year_1987                                False   \n",
       "earliest_cr_line_year_1988                                False   \n",
       "earliest_cr_line_year_1989                                False   \n",
       "earliest_cr_line_year_1990                                False   \n",
       "earliest_cr_line_year_1991                                False   \n",
       "earliest_cr_line_year_1992                                False   \n",
       "earliest_cr_line_year_1993                                False   \n",
       "earliest_cr_line_year_1994                                False   \n",
       "earliest_cr_line_year_1995                                False   \n",
       "earliest_cr_line_year_1996                                False   \n",
       "earliest_cr_line_year_1997                                False   \n",
       "earliest_cr_line_year_1998                                False   \n",
       "earliest_cr_line_year_1999                                False   \n",
       "earliest_cr_line_year_2000                                False   \n",
       "earliest_cr_line_year_2001                                False   \n",
       "earliest_cr_line_year_2002                                False   \n",
       "earliest_cr_line_year_2003                                False   \n",
       "earliest_cr_line_year_2004                                False   \n",
       "earliest_cr_line_year_2005                                False   \n",
       "earliest_cr_line_year_2006                                False   \n",
       "earliest_cr_line_year_2007                                False   \n",
       "earliest_cr_line_year_2008                                False   \n",
       "earliest_cr_line_year_Other                               False   \n",
       "\n",
       "                                     earliest_cr_line_year_2004  \\\n",
       "loan_amnt                                                 False   \n",
       "term                                                      False   \n",
       "int_rate                                                  False   \n",
       "installment                                               False   \n",
       "sub_grade                                                 False   \n",
       "emp_length                                                False   \n",
       "annual_inc                                                False   \n",
       "dti                                                       False   \n",
       "delinq_2yrs                                               False   \n",
       "inq_last_6mths                                            False   \n",
       "mths_since_last_delinq                                    False   \n",
       "open_acc                                                  False   \n",
       "pub_rec                                                   False   \n",
       "revol_bal                                                 False   \n",
       "revol_util                                                False   \n",
       "total_acc                                                 False   \n",
       "initial_list_status                                       False   \n",
       "out_prncp                                                 False   \n",
       "out_prncp_inv                                             False   \n",
       "total_pymnt                                               False   \n",
       "total_rec_int                                             False   \n",
       "last_pymnt_amnt                                           False   \n",
       "tot_cur_bal                                               False   \n",
       "total_rev_hi_lim                                          False   \n",
       "home_ownership_MORTGAGE                                   False   \n",
       "home_ownership_OTHER                                      False   \n",
       "home_ownership_OWN                                        False   \n",
       "home_ownership_RENT                                       False   \n",
       "verification_status_Not Verified                          False   \n",
       "verification_status_Source Verified                       False   \n",
       "...                                                         ...   \n",
       "addr_state_SC                                             False   \n",
       "addr_state_TN                                             False   \n",
       "addr_state_TX                                             False   \n",
       "addr_state_VA                                             False   \n",
       "addr_state_WA                                             False   \n",
       "addr_state_WI                                             False   \n",
       "earliest_cr_line_year_1986                                False   \n",
       "earliest_cr_line_year_1987                                False   \n",
       "earliest_cr_line_year_1988                                False   \n",
       "earliest_cr_line_year_1989                                False   \n",
       "earliest_cr_line_year_1990                                False   \n",
       "earliest_cr_line_year_1991                                False   \n",
       "earliest_cr_line_year_1992                                False   \n",
       "earliest_cr_line_year_1993                                False   \n",
       "earliest_cr_line_year_1994                                False   \n",
       "earliest_cr_line_year_1995                                False   \n",
       "earliest_cr_line_year_1996                                False   \n",
       "earliest_cr_line_year_1997                                False   \n",
       "earliest_cr_line_year_1998                                False   \n",
       "earliest_cr_line_year_1999                                False   \n",
       "earliest_cr_line_year_2000                                False   \n",
       "earliest_cr_line_year_2001                                False   \n",
       "earliest_cr_line_year_2002                                False   \n",
       "earliest_cr_line_year_2003                                False   \n",
       "earliest_cr_line_year_2004                                False   \n",
       "earliest_cr_line_year_2005                                False   \n",
       "earliest_cr_line_year_2006                                False   \n",
       "earliest_cr_line_year_2007                                False   \n",
       "earliest_cr_line_year_2008                                False   \n",
       "earliest_cr_line_year_Other                               False   \n",
       "\n",
       "                                     earliest_cr_line_year_2005  \\\n",
       "loan_amnt                                                 False   \n",
       "term                                                      False   \n",
       "int_rate                                                  False   \n",
       "installment                                               False   \n",
       "sub_grade                                                 False   \n",
       "emp_length                                                False   \n",
       "annual_inc                                                False   \n",
       "dti                                                       False   \n",
       "delinq_2yrs                                               False   \n",
       "inq_last_6mths                                            False   \n",
       "mths_since_last_delinq                                    False   \n",
       "open_acc                                                  False   \n",
       "pub_rec                                                   False   \n",
       "revol_bal                                                 False   \n",
       "revol_util                                                False   \n",
       "total_acc                                                 False   \n",
       "initial_list_status                                       False   \n",
       "out_prncp                                                 False   \n",
       "out_prncp_inv                                             False   \n",
       "total_pymnt                                               False   \n",
       "total_rec_int                                             False   \n",
       "last_pymnt_amnt                                           False   \n",
       "tot_cur_bal                                               False   \n",
       "total_rev_hi_lim                                          False   \n",
       "home_ownership_MORTGAGE                                   False   \n",
       "home_ownership_OTHER                                      False   \n",
       "home_ownership_OWN                                        False   \n",
       "home_ownership_RENT                                       False   \n",
       "verification_status_Not Verified                          False   \n",
       "verification_status_Source Verified                       False   \n",
       "...                                                         ...   \n",
       "addr_state_SC                                             False   \n",
       "addr_state_TN                                             False   \n",
       "addr_state_TX                                             False   \n",
       "addr_state_VA                                             False   \n",
       "addr_state_WA                                             False   \n",
       "addr_state_WI                                             False   \n",
       "earliest_cr_line_year_1986                                False   \n",
       "earliest_cr_line_year_1987                                False   \n",
       "earliest_cr_line_year_1988                                False   \n",
       "earliest_cr_line_year_1989                                False   \n",
       "earliest_cr_line_year_1990                                False   \n",
       "earliest_cr_line_year_1991                                False   \n",
       "earliest_cr_line_year_1992                                False   \n",
       "earliest_cr_line_year_1993                                False   \n",
       "earliest_cr_line_year_1994                                False   \n",
       "earliest_cr_line_year_1995                                False   \n",
       "earliest_cr_line_year_1996                                False   \n",
       "earliest_cr_line_year_1997                                False   \n",
       "earliest_cr_line_year_1998                                False   \n",
       "earliest_cr_line_year_1999                                False   \n",
       "earliest_cr_line_year_2000                                False   \n",
       "earliest_cr_line_year_2001                                False   \n",
       "earliest_cr_line_year_2002                                False   \n",
       "earliest_cr_line_year_2003                                False   \n",
       "earliest_cr_line_year_2004                                False   \n",
       "earliest_cr_line_year_2005                                False   \n",
       "earliest_cr_line_year_2006                                False   \n",
       "earliest_cr_line_year_2007                                False   \n",
       "earliest_cr_line_year_2008                                False   \n",
       "earliest_cr_line_year_Other                               False   \n",
       "\n",
       "                                     earliest_cr_line_year_2006  \\\n",
       "loan_amnt                                                 False   \n",
       "term                                                      False   \n",
       "int_rate                                                  False   \n",
       "installment                                               False   \n",
       "sub_grade                                                 False   \n",
       "emp_length                                                False   \n",
       "annual_inc                                                False   \n",
       "dti                                                       False   \n",
       "delinq_2yrs                                               False   \n",
       "inq_last_6mths                                            False   \n",
       "mths_since_last_delinq                                    False   \n",
       "open_acc                                                  False   \n",
       "pub_rec                                                   False   \n",
       "revol_bal                                                 False   \n",
       "revol_util                                                False   \n",
       "total_acc                                                 False   \n",
       "initial_list_status                                       False   \n",
       "out_prncp                                                 False   \n",
       "out_prncp_inv                                             False   \n",
       "total_pymnt                                               False   \n",
       "total_rec_int                                             False   \n",
       "last_pymnt_amnt                                           False   \n",
       "tot_cur_bal                                               False   \n",
       "total_rev_hi_lim                                          False   \n",
       "home_ownership_MORTGAGE                                   False   \n",
       "home_ownership_OTHER                                      False   \n",
       "home_ownership_OWN                                        False   \n",
       "home_ownership_RENT                                       False   \n",
       "verification_status_Not Verified                          False   \n",
       "verification_status_Source Verified                       False   \n",
       "...                                                         ...   \n",
       "addr_state_SC                                             False   \n",
       "addr_state_TN                                             False   \n",
       "addr_state_TX                                             False   \n",
       "addr_state_VA                                             False   \n",
       "addr_state_WA                                             False   \n",
       "addr_state_WI                                             False   \n",
       "earliest_cr_line_year_1986                                False   \n",
       "earliest_cr_line_year_1987                                False   \n",
       "earliest_cr_line_year_1988                                False   \n",
       "earliest_cr_line_year_1989                                False   \n",
       "earliest_cr_line_year_1990                                False   \n",
       "earliest_cr_line_year_1991                                False   \n",
       "earliest_cr_line_year_1992                                False   \n",
       "earliest_cr_line_year_1993                                False   \n",
       "earliest_cr_line_year_1994                                False   \n",
       "earliest_cr_line_year_1995                                False   \n",
       "earliest_cr_line_year_1996                                False   \n",
       "earliest_cr_line_year_1997                                False   \n",
       "earliest_cr_line_year_1998                                False   \n",
       "earliest_cr_line_year_1999                                False   \n",
       "earliest_cr_line_year_2000                                False   \n",
       "earliest_cr_line_year_2001                                False   \n",
       "earliest_cr_line_year_2002                                False   \n",
       "earliest_cr_line_year_2003                                False   \n",
       "earliest_cr_line_year_2004                                False   \n",
       "earliest_cr_line_year_2005                                False   \n",
       "earliest_cr_line_year_2006                                False   \n",
       "earliest_cr_line_year_2007                                False   \n",
       "earliest_cr_line_year_2008                                False   \n",
       "earliest_cr_line_year_Other                               False   \n",
       "\n",
       "                                     earliest_cr_line_year_2007  \\\n",
       "loan_amnt                                                 False   \n",
       "term                                                      False   \n",
       "int_rate                                                  False   \n",
       "installment                                               False   \n",
       "sub_grade                                                 False   \n",
       "emp_length                                                False   \n",
       "annual_inc                                                False   \n",
       "dti                                                       False   \n",
       "delinq_2yrs                                               False   \n",
       "inq_last_6mths                                            False   \n",
       "mths_since_last_delinq                                    False   \n",
       "open_acc                                                  False   \n",
       "pub_rec                                                   False   \n",
       "revol_bal                                                 False   \n",
       "revol_util                                                False   \n",
       "total_acc                                                 False   \n",
       "initial_list_status                                       False   \n",
       "out_prncp                                                 False   \n",
       "out_prncp_inv                                             False   \n",
       "total_pymnt                                               False   \n",
       "total_rec_int                                             False   \n",
       "last_pymnt_amnt                                           False   \n",
       "tot_cur_bal                                               False   \n",
       "total_rev_hi_lim                                          False   \n",
       "home_ownership_MORTGAGE                                   False   \n",
       "home_ownership_OTHER                                      False   \n",
       "home_ownership_OWN                                        False   \n",
       "home_ownership_RENT                                       False   \n",
       "verification_status_Not Verified                          False   \n",
       "verification_status_Source Verified                       False   \n",
       "...                                                         ...   \n",
       "addr_state_SC                                             False   \n",
       "addr_state_TN                                             False   \n",
       "addr_state_TX                                             False   \n",
       "addr_state_VA                                             False   \n",
       "addr_state_WA                                             False   \n",
       "addr_state_WI                                             False   \n",
       "earliest_cr_line_year_1986                                False   \n",
       "earliest_cr_line_year_1987                                False   \n",
       "earliest_cr_line_year_1988                                False   \n",
       "earliest_cr_line_year_1989                                False   \n",
       "earliest_cr_line_year_1990                                False   \n",
       "earliest_cr_line_year_1991                                False   \n",
       "earliest_cr_line_year_1992                                False   \n",
       "earliest_cr_line_year_1993                                False   \n",
       "earliest_cr_line_year_1994                                False   \n",
       "earliest_cr_line_year_1995                                False   \n",
       "earliest_cr_line_year_1996                                False   \n",
       "earliest_cr_line_year_1997                                False   \n",
       "earliest_cr_line_year_1998                                False   \n",
       "earliest_cr_line_year_1999                                False   \n",
       "earliest_cr_line_year_2000                                False   \n",
       "earliest_cr_line_year_2001                                False   \n",
       "earliest_cr_line_year_2002                                False   \n",
       "earliest_cr_line_year_2003                                False   \n",
       "earliest_cr_line_year_2004                                False   \n",
       "earliest_cr_line_year_2005                                False   \n",
       "earliest_cr_line_year_2006                                False   \n",
       "earliest_cr_line_year_2007                                False   \n",
       "earliest_cr_line_year_2008                                False   \n",
       "earliest_cr_line_year_Other                               False   \n",
       "\n",
       "                                     earliest_cr_line_year_2008  \\\n",
       "loan_amnt                                                 False   \n",
       "term                                                      False   \n",
       "int_rate                                                  False   \n",
       "installment                                               False   \n",
       "sub_grade                                                 False   \n",
       "emp_length                                                False   \n",
       "annual_inc                                                False   \n",
       "dti                                                       False   \n",
       "delinq_2yrs                                               False   \n",
       "inq_last_6mths                                            False   \n",
       "mths_since_last_delinq                                    False   \n",
       "open_acc                                                  False   \n",
       "pub_rec                                                   False   \n",
       "revol_bal                                                 False   \n",
       "revol_util                                                False   \n",
       "total_acc                                                 False   \n",
       "initial_list_status                                       False   \n",
       "out_prncp                                                 False   \n",
       "out_prncp_inv                                             False   \n",
       "total_pymnt                                               False   \n",
       "total_rec_int                                             False   \n",
       "last_pymnt_amnt                                           False   \n",
       "tot_cur_bal                                               False   \n",
       "total_rev_hi_lim                                          False   \n",
       "home_ownership_MORTGAGE                                   False   \n",
       "home_ownership_OTHER                                      False   \n",
       "home_ownership_OWN                                        False   \n",
       "home_ownership_RENT                                       False   \n",
       "verification_status_Not Verified                          False   \n",
       "verification_status_Source Verified                       False   \n",
       "...                                                         ...   \n",
       "addr_state_SC                                             False   \n",
       "addr_state_TN                                             False   \n",
       "addr_state_TX                                             False   \n",
       "addr_state_VA                                             False   \n",
       "addr_state_WA                                             False   \n",
       "addr_state_WI                                             False   \n",
       "earliest_cr_line_year_1986                                False   \n",
       "earliest_cr_line_year_1987                                False   \n",
       "earliest_cr_line_year_1988                                False   \n",
       "earliest_cr_line_year_1989                                False   \n",
       "earliest_cr_line_year_1990                                False   \n",
       "earliest_cr_line_year_1991                                False   \n",
       "earliest_cr_line_year_1992                                False   \n",
       "earliest_cr_line_year_1993                                False   \n",
       "earliest_cr_line_year_1994                                False   \n",
       "earliest_cr_line_year_1995                                False   \n",
       "earliest_cr_line_year_1996                                False   \n",
       "earliest_cr_line_year_1997                                False   \n",
       "earliest_cr_line_year_1998                                False   \n",
       "earliest_cr_line_year_1999                                False   \n",
       "earliest_cr_line_year_2000                                False   \n",
       "earliest_cr_line_year_2001                                False   \n",
       "earliest_cr_line_year_2002                                False   \n",
       "earliest_cr_line_year_2003                                False   \n",
       "earliest_cr_line_year_2004                                False   \n",
       "earliest_cr_line_year_2005                                False   \n",
       "earliest_cr_line_year_2006                                False   \n",
       "earliest_cr_line_year_2007                                False   \n",
       "earliest_cr_line_year_2008                                False   \n",
       "earliest_cr_line_year_Other                               False   \n",
       "\n",
       "                                     earliest_cr_line_year_Other  \n",
       "loan_amnt                                                  False  \n",
       "term                                                       False  \n",
       "int_rate                                                   False  \n",
       "installment                                                False  \n",
       "sub_grade                                                  False  \n",
       "emp_length                                                 False  \n",
       "annual_inc                                                 False  \n",
       "dti                                                        False  \n",
       "delinq_2yrs                                                False  \n",
       "inq_last_6mths                                             False  \n",
       "mths_since_last_delinq                                     False  \n",
       "open_acc                                                   False  \n",
       "pub_rec                                                    False  \n",
       "revol_bal                                                  False  \n",
       "revol_util                                                 False  \n",
       "total_acc                                                  False  \n",
       "initial_list_status                                        False  \n",
       "out_prncp                                                  False  \n",
       "out_prncp_inv                                              False  \n",
       "total_pymnt                                                False  \n",
       "total_rec_int                                              False  \n",
       "last_pymnt_amnt                                            False  \n",
       "tot_cur_bal                                                False  \n",
       "total_rev_hi_lim                                           False  \n",
       "home_ownership_MORTGAGE                                    False  \n",
       "home_ownership_OTHER                                       False  \n",
       "home_ownership_OWN                                         False  \n",
       "home_ownership_RENT                                        False  \n",
       "verification_status_Not Verified                           False  \n",
       "verification_status_Source Verified                        False  \n",
       "...                                                          ...  \n",
       "addr_state_SC                                              False  \n",
       "addr_state_TN                                              False  \n",
       "addr_state_TX                                              False  \n",
       "addr_state_VA                                              False  \n",
       "addr_state_WA                                              False  \n",
       "addr_state_WI                                              False  \n",
       "earliest_cr_line_year_1986                                 False  \n",
       "earliest_cr_line_year_1987                                 False  \n",
       "earliest_cr_line_year_1988                                 False  \n",
       "earliest_cr_line_year_1989                                 False  \n",
       "earliest_cr_line_year_1990                                 False  \n",
       "earliest_cr_line_year_1991                                 False  \n",
       "earliest_cr_line_year_1992                                 False  \n",
       "earliest_cr_line_year_1993                                 False  \n",
       "earliest_cr_line_year_1994                                 False  \n",
       "earliest_cr_line_year_1995                                 False  \n",
       "earliest_cr_line_year_1996                                 False  \n",
       "earliest_cr_line_year_1997                                 False  \n",
       "earliest_cr_line_year_1998                                 False  \n",
       "earliest_cr_line_year_1999                                 False  \n",
       "earliest_cr_line_year_2000                                 False  \n",
       "earliest_cr_line_year_2001                                 False  \n",
       "earliest_cr_line_year_2002                                 False  \n",
       "earliest_cr_line_year_2003                                 False  \n",
       "earliest_cr_line_year_2004                                 False  \n",
       "earliest_cr_line_year_2005                                 False  \n",
       "earliest_cr_line_year_2006                                 False  \n",
       "earliest_cr_line_year_2007                                 False  \n",
       "earliest_cr_line_year_2008                                 False  \n",
       "earliest_cr_line_year_Other                                False  \n",
       "\n",
       "[100 rows x 100 columns]"
      ]
     },
     "execution_count": 277,
     "metadata": {},
     "output_type": "execute_result"
    }
   ],
   "source": [
    "((correlations != 1) & (correlations != -1)) & ((correlations > 0.7) | (correlations < -0.7))"
   ]
  },
  {
   "cell_type": "code",
   "execution_count": 278,
   "metadata": {},
   "outputs": [
    {
     "data": {
      "image/png": "[encoded data removed]",
      "text/plain": [
       "<Figure size 432x288 with 2 Axes>"
      ]
     },
     "metadata": {},
     "output_type": "display_data"
    }
   ],
   "source": [
    "sns.heatmap(correlations)\n",
    "plt.show()"
   ]
  },
  {
   "cell_type": "markdown",
   "metadata": {},
   "source": [
    "Although there are correlations between the variables, we will first fit baseline model including correlated variables and if the peformance is not satisfactory, then we will use PCA for dimensionality reduction, which also decorellates variables."
   ]
  },
  {
   "cell_type": "markdown",
   "metadata": {},
   "source": [
    "# TRAIN-VAL-TEST SPLIT"
   ]
  },
  {
   "cell_type": "code",
   "execution_count": 279,
   "metadata": {},
   "outputs": [],
   "source": [
    "from sklearn.model_selection import train_test_split"
   ]
  },
  {
   "cell_type": "code",
   "execution_count": 280,
   "metadata": {},
   "outputs": [],
   "source": [
    "X_train, X_temp, y_train, y_temp = train_test_split(X, y, test_size=0.33, random_state=42)"
   ]
  },
  {
   "cell_type": "code",
   "execution_count": 281,
   "metadata": {},
   "outputs": [],
   "source": [
    "X_val, X_test, y_val, y_test = train_test_split(X_temp, y_temp, test_size=0.5, random_state=42)"
   ]
  },
  {
   "cell_type": "code",
   "execution_count": 282,
   "metadata": {},
   "outputs": [
    {
     "name": "stdout",
     "output_type": "stream",
     "text": [
      "X_train shape:(594207, 100)\n",
      "X_val shape:(146335, 100)\n",
      "X_test shape:(146335, 100)\n"
     ]
    }
   ],
   "source": [
    "print(f'X_train shape:{X_train.shape}')\n",
    "print(f'X_val shape:{X_val.shape}')\n",
    "print(f'X_test shape:{X_test.shape}')"
   ]
  },
  {
   "cell_type": "code",
   "execution_count": 283,
   "metadata": {},
   "outputs": [
    {
     "name": "stdout",
     "output_type": "stream",
     "text": [
      "y_train shape:(594207,)\n",
      "y_val shape:(146335,)\n",
      "y_test shape:(146335,)\n"
     ]
    }
   ],
   "source": [
    "print(f'y_train shape:{y_train.shape}')\n",
    "print(f'y_val shape:{y_val.shape}')\n",
    "print(f'y_test shape:{y_test.shape}')"
   ]
  },
  {
   "cell_type": "markdown",
   "metadata": {},
   "source": [
    "# FIT ML MODELS"
   ]
  },
  {
   "cell_type": "markdown",
   "metadata": {},
   "source": [
    "Let's prepare functions for graphing relevant metrics. Since the classes are highly imbalanced, we will use not only ROC AUC, but also average precision, which is a better metric for binary classification in terms of highly imbalanced datasets."
   ]
  },
  {
   "cell_type": "code",
   "execution_count": 284,
   "metadata": {},
   "outputs": [],
   "source": [
    "from sklearn import metrics"
   ]
  },
  {
   "cell_type": "code",
   "execution_count": 285,
   "metadata": {},
   "outputs": [],
   "source": [
    "def plot_roc_curve(y_true, y_pred):\n",
    "    fpr, tpr, thresholds = metrics.roc_curve(y_true, y_pred[:,1])\n",
    "    plt.plot(fpr, tpr)\n",
    "    plt.plot([0,1], [0,1])\n",
    "    plt.title(f'AUC: {metrics.roc_auc_score(y_true, y_pred[:,1])}')\n",
    "    plt.show()"
   ]
  },
  {
   "cell_type": "code",
   "execution_count": 286,
   "metadata": {},
   "outputs": [],
   "source": [
    "def plot_precision_recall_curve(y_true, y_pred):\n",
    "    precision, recall, thresholds = metrics.precision_recall_curve(y_true, y_pred[:,1])\n",
    "    plt.plot(recall, precision)\n",
    "    plt.title(f'AUC: {metrics.average_precision_score(y_true, y_pred[:,1])}')\n",
    "    plt.show()"
   ]
  },
  {
   "cell_type": "markdown",
   "metadata": {},
   "source": [
    "#### LOGISTIC REGRESSION"
   ]
  },
  {
   "cell_type": "code",
   "execution_count": 287,
   "metadata": {},
   "outputs": [],
   "source": [
    "from sklearn.linear_model import LogisticRegression"
   ]
  },
  {
   "cell_type": "code",
   "execution_count": 288,
   "metadata": {},
   "outputs": [
    {
     "name": "stderr",
     "output_type": "stream",
     "text": [
      "/Users/testuser/anaconda3/lib/python3.6/site-packages/sklearn/linear_model/logistic.py:432: FutureWarning: Default solver will be changed to 'lbfgs' in 0.22. Specify a solver to silence this warning.\n",
      "  FutureWarning)\n"
     ]
    },
    {
     "data": {
      "text/plain": [
       "LogisticRegression(C=1.0, class_weight=None, dual=False, fit_intercept=True,\n",
       "          intercept_scaling=1, max_iter=100, multi_class='warn',\n",
       "          n_jobs=None, penalty='l2', random_state=None, solver='warn',\n",
       "          tol=0.0001, verbose=0, warm_start=False)"
      ]
     },
     "execution_count": 288,
     "metadata": {},
     "output_type": "execute_result"
    }
   ],
   "source": [
    "# baseline\n",
    "logit = LogisticRegression()\n",
    "logit.fit(X_train, y_train)"
   ]
  },
  {
   "cell_type": "code",
   "execution_count": 289,
   "metadata": {},
   "outputs": [],
   "source": [
    "y_score = logit.predict_proba(X_val)"
   ]
  },
  {
   "cell_type": "code",
   "execution_count": 290,
   "metadata": {},
   "outputs": [
    {
     "data": {
      "image/png": "[encoded data removed]",
      "text/plain": [
       "<Figure size 432x288 with 1 Axes>"
      ]
     },
     "metadata": {},
     "output_type": "display_data"
    }
   ],
   "source": [
    "plot_roc_curve(y_val, y_score)"
   ]
  },
  {
   "cell_type": "code",
   "execution_count": 291,
   "metadata": {},
   "outputs": [
    {
     "data": {
      "image/png": "[encoded data removed]",
      "text/plain": [
       "<Figure size 432x288 with 1 Axes>"
      ]
     },
     "metadata": {},
     "output_type": "display_data"
    }
   ],
   "source": [
    "plot_precision_recall_curve(y_val, y_score)"
   ]
  },
  {
   "cell_type": "markdown",
   "metadata": {},
   "source": [
    "## Random Forest"
   ]
  },
  {
   "cell_type": "code",
   "execution_count": 292,
   "metadata": {},
   "outputs": [],
   "source": [
    "from sklearn.ensemble import RandomForestClassifier"
   ]
  },
  {
   "cell_type": "code",
   "execution_count": 293,
   "metadata": {},
   "outputs": [
    {
     "name": "stderr",
     "output_type": "stream",
     "text": [
      "/Users/testuser/anaconda3/lib/python3.6/site-packages/sklearn/ensemble/forest.py:248: FutureWarning: The default value of n_estimators will change from 10 in version 0.20 to 100 in 0.22.\n",
      "  \"10 in version 0.20 to 100 in 0.22.\", FutureWarning)\n"
     ]
    },
    {
     "data": {
      "text/plain": [
       "RandomForestClassifier(bootstrap=True, class_weight=None, criterion='gini',\n",
       "            max_depth=None, max_features='auto', max_leaf_nodes=None,\n",
       "            min_impurity_decrease=0.0, min_impurity_split=None,\n",
       "            min_samples_leaf=1, min_samples_split=2,\n",
       "            min_weight_fraction_leaf=0.0, n_estimators=10, n_jobs=None,\n",
       "            oob_score=False, random_state=None, verbose=0,\n",
       "            warm_start=False)"
      ]
     },
     "execution_count": 293,
     "metadata": {},
     "output_type": "execute_result"
    }
   ],
   "source": [
    "forest = RandomForestClassifier()\n",
    "forest.fit(X_train,y_train)"
   ]
  },
  {
   "cell_type": "code",
   "execution_count": 294,
   "metadata": {},
   "outputs": [],
   "source": [
    "y_score = forest.predict_proba(X_val)"
   ]
  },
  {
   "cell_type": "code",
   "execution_count": 295,
   "metadata": {},
   "outputs": [
    {
     "data": {
      "image/png": "[encoded data removed]",
      "text/plain": [
       "<Figure size 432x288 with 1 Axes>"
      ]
     },
     "metadata": {},
     "output_type": "display_data"
    }
   ],
   "source": [
    "plot_roc_curve(y_val, y_score)"
   ]
  },
  {
   "cell_type": "code",
   "execution_count": 296,
   "metadata": {},
   "outputs": [
    {
     "data": {
      "image/png": "[encoded data removed]",
      "text/plain": [
       "<Figure size 432x288 with 1 Axes>"
      ]
     },
     "metadata": {},
     "output_type": "display_data"
    }
   ],
   "source": [
    "plot_precision_recall_curve(y_val, y_score)"
   ]
  },
  {
   "cell_type": "markdown",
   "metadata": {},
   "source": [
    "## XGBOOST"
   ]
  },
  {
   "cell_type": "code",
   "execution_count": 297,
   "metadata": {},
   "outputs": [],
   "source": [
    "from xgboost.sklearn import XGBClassifier"
   ]
  },
  {
   "cell_type": "code",
   "execution_count": 298,
   "metadata": {},
   "outputs": [],
   "source": [
    "xgb = XGBClassifier().fit(X_train, y_train)"
   ]
  },
  {
   "cell_type": "code",
   "execution_count": 299,
   "metadata": {},
   "outputs": [],
   "source": [
    "y_score = xgb.predict_proba(X_val)"
   ]
  },
  {
   "cell_type": "code",
   "execution_count": 300,
   "metadata": {},
   "outputs": [
    {
     "data": {
      "image/png": "[encoded data removed]",
      "text/plain": [
       "<Figure size 432x288 with 1 Axes>"
      ]
     },
     "metadata": {},
     "output_type": "display_data"
    }
   ],
   "source": [
    "plot_roc_curve(y_val, y_score)"
   ]
  },
  {
   "cell_type": "code",
   "execution_count": 301,
   "metadata": {},
   "outputs": [
    {
     "data": {
      "image/png": "[encoded data removed]",
      "text/plain": [
       "<Figure size 432x288 with 1 Axes>"
      ]
     },
     "metadata": {},
     "output_type": "display_data"
    }
   ],
   "source": [
    "plot_precision_recall_curve(y_val, y_score)"
   ]
  },
  {
   "cell_type": "markdown",
   "metadata": {},
   "source": [
    "So far, plain xgboost is by far the best algorithm, both in terms of ROC AUC and, more importantly, average precision. Since there are only about 1.5% of 1s in the dataset, baseline for average precision is 1.5%. Thus average precision of 27% is a very good result for an untuned xgboost!"
   ]
  },
  {
   "cell_type": "markdown",
   "metadata": {},
   "source": [
    "We also tried runing SVM with linear kernel, but the computations took way too long."
   ]
  },
  {
   "cell_type": "markdown",
   "metadata": {},
   "source": [
    "## DIMENSIONALITY REDUCTION"
   ]
  },
  {
   "cell_type": "markdown",
   "metadata": {},
   "source": [
    "We will check adding PCA as a step prior to fitting ML models in order to remove correlations from variables and focuse only on most important variables. Let's see if this improves the results. We will use PCA with 99% of variance retained."
   ]
  },
  {
   "cell_type": "code",
   "execution_count": 302,
   "metadata": {},
   "outputs": [],
   "source": [
    "from sklearn.pipeline import Pipeline\n",
    "from sklearn.decomposition import PCA\n",
    "from sklearn.linear_model import LogisticRegression"
   ]
  },
  {
   "cell_type": "code",
   "execution_count": 303,
   "metadata": {},
   "outputs": [],
   "source": [
    "logit_pca = Pipeline([\n",
    "    ('pca', PCA(0.99)),\n",
    "    ('logit', LogisticRegression())])"
   ]
  },
  {
   "cell_type": "code",
   "execution_count": 304,
   "metadata": {},
   "outputs": [
    {
     "name": "stderr",
     "output_type": "stream",
     "text": [
      "/Users/testuser/anaconda3/lib/python3.6/site-packages/sklearn/linear_model/logistic.py:432: FutureWarning: Default solver will be changed to 'lbfgs' in 0.22. Specify a solver to silence this warning.\n",
      "  FutureWarning)\n"
     ]
    },
    {
     "data": {
      "text/plain": [
       "Pipeline(memory=None,\n",
       "     steps=[('pca', PCA(copy=True, iterated_power='auto', n_components=0.99, random_state=None,\n",
       "  svd_solver='auto', tol=0.0, whiten=False)), ('logit', LogisticRegression(C=1.0, class_weight=None, dual=False, fit_intercept=True,\n",
       "          intercept_scaling=1, max_iter=100, multi_class='warn',\n",
       "          n_jobs=None, penalty='l2', random_state=None, solver='warn',\n",
       "          tol=0.0001, verbose=0, warm_start=False))])"
      ]
     },
     "execution_count": 304,
     "metadata": {},
     "output_type": "execute_result"
    }
   ],
   "source": [
    "logit_pca.fit(X_train, y_train)"
   ]
  },
  {
   "cell_type": "code",
   "execution_count": 305,
   "metadata": {},
   "outputs": [],
   "source": [
    "y_score = logit_pca.predict_proba(X_val)"
   ]
  },
  {
   "cell_type": "code",
   "execution_count": 306,
   "metadata": {},
   "outputs": [
    {
     "data": {
      "image/png": "[encoded data removed]",
      "text/plain": [
       "<Figure size 432x288 with 1 Axes>"
      ]
     },
     "metadata": {},
     "output_type": "display_data"
    }
   ],
   "source": [
    "plot_roc_curve(y_val, y_score)"
   ]
  },
  {
   "cell_type": "code",
   "execution_count": 307,
   "metadata": {},
   "outputs": [
    {
     "data": {
      "image/png": "[encoded data removed]",
      "text/plain": [
       "<Figure size 432x288 with 1 Axes>"
      ]
     },
     "metadata": {},
     "output_type": "display_data"
    }
   ],
   "source": [
    "plot_precision_recall_curve(y_val, y_score)"
   ]
  },
  {
   "cell_type": "code",
   "execution_count": 308,
   "metadata": {},
   "outputs": [],
   "source": [
    "xgboost_pca = Pipeline([\n",
    "    ('pca', PCA(0.99)),\n",
    "    ('xgboost', XGBClassifier())])"
   ]
  },
  {
   "cell_type": "code",
   "execution_count": 309,
   "metadata": {},
   "outputs": [
    {
     "data": {
      "text/plain": [
       "Pipeline(memory=None,\n",
       "     steps=[('pca', PCA(copy=True, iterated_power='auto', n_components=0.99, random_state=None,\n",
       "  svd_solver='auto', tol=0.0, whiten=False)), ('xgboost', XGBClassifier(base_score=0.5, booster='gbtree', colsample_bylevel=1,\n",
       "       colsample_bytree=1, gamma=0, learning_rate=0.1, max_delta_step=0,\n",
       "       ma...\n",
       "       reg_alpha=0, reg_lambda=1, scale_pos_weight=1, seed=None,\n",
       "       silent=True, subsample=1))])"
      ]
     },
     "execution_count": 309,
     "metadata": {},
     "output_type": "execute_result"
    }
   ],
   "source": [
    "xgboost_pca.fit(X_train, y_train)"
   ]
  },
  {
   "cell_type": "code",
   "execution_count": 310,
   "metadata": {},
   "outputs": [],
   "source": [
    "y_score = xgboost_pca.predict_proba(X_val)"
   ]
  },
  {
   "cell_type": "code",
   "execution_count": 311,
   "metadata": {},
   "outputs": [
    {
     "data": {
      "image/png": "[encoded data removed]",
      "text/plain": [
       "<Figure size 432x288 with 1 Axes>"
      ]
     },
     "metadata": {},
     "output_type": "display_data"
    }
   ],
   "source": [
    "plot_roc_curve(y_val, y_score)"
   ]
  },
  {
   "cell_type": "code",
   "execution_count": 312,
   "metadata": {},
   "outputs": [
    {
     "data": {
      "image/png": "[encoded data removed]",
      "text/plain": [
       "<Figure size 432x288 with 1 Axes>"
      ]
     },
     "metadata": {},
     "output_type": "display_data"
    }
   ],
   "source": [
    "plot_precision_recall_curve(y_val, y_score)"
   ]
  },
  {
   "cell_type": "markdown",
   "metadata": {},
   "source": [
    "We see that PCA not only did not help, but actually worsened the results."
   ]
  },
  {
   "cell_type": "markdown",
   "metadata": {},
   "source": [
    "Finally, we will run a small grid search to attempt to tune the params of the logit model (without PCA). Tuning the hyperparams of the xgboost is too time consuming for our current resources."
   ]
  },
  {
   "cell_type": "code",
   "execution_count": 313,
   "metadata": {},
   "outputs": [],
   "source": [
    "param_grid = {'C': [0.001, 0.01, 0.1, 1, 10]}"
   ]
  },
  {
   "cell_type": "code",
   "execution_count": 314,
   "metadata": {},
   "outputs": [],
   "source": [
    "from sklearn.decomposition import PCA\n",
    "from sklearn.model_selection import GridSearchCV\n",
    "from sklearn.pipeline import Pipeline\n",
    "from sklearn.preprocessing import StandardScaler\n",
    "from sklearn.linear_model import LinearRegression\n",
    "import numpy as np\n",
    "from sklearn.model_selection import cross_val_score\n",
    "import scipy"
   ]
  },
  {
   "cell_type": "markdown",
   "metadata": {},
   "source": [
    "We perform 3-fold cross validation."
   ]
  },
  {
   "cell_type": "code",
   "execution_count": 315,
   "metadata": {},
   "outputs": [],
   "source": [
    "logit_grid_search = GridSearchCV(LogisticRegression(), param_grid, scoring = 'average_precision', n_jobs=-1)"
   ]
  },
  {
   "cell_type": "code",
   "execution_count": 316,
   "metadata": {},
   "outputs": [
    {
     "name": "stderr",
     "output_type": "stream",
     "text": [
      "/Users/testuser/anaconda3/lib/python3.6/site-packages/sklearn/model_selection/_split.py:1943: FutureWarning: You should specify a value for 'cv' instead of relying on the default value. The default value will change from 3 to 5 in version 0.22.\n",
      "  warnings.warn(CV_WARNING, FutureWarning)\n",
      "/Users/testuser/anaconda3/lib/python3.6/site-packages/sklearn/linear_model/logistic.py:432: FutureWarning: Default solver will be changed to 'lbfgs' in 0.22. Specify a solver to silence this warning.\n",
      "  FutureWarning)\n"
     ]
    },
    {
     "data": {
      "text/plain": [
       "GridSearchCV(cv='warn', error_score='raise-deprecating',\n",
       "       estimator=LogisticRegression(C=1.0, class_weight=None, dual=False, fit_intercept=True,\n",
       "          intercept_scaling=1, max_iter=100, multi_class='warn',\n",
       "          n_jobs=None, penalty='l2', random_state=None, solver='warn',\n",
       "          tol=0.0001, verbose=0, warm_start=False),\n",
       "       fit_params=None, iid='warn', n_jobs=-1,\n",
       "       param_grid={'C': [0.001, 0.01, 0.1, 1, 10]},\n",
       "       pre_dispatch='2*n_jobs', refit=True, return_train_score='warn',\n",
       "       scoring='average_precision', verbose=0)"
      ]
     },
     "execution_count": 316,
     "metadata": {},
     "output_type": "execute_result"
    }
   ],
   "source": [
    "logit_grid_search.fit(X_train, y_train)"
   ]
  },
  {
   "cell_type": "code",
   "execution_count": 317,
   "metadata": {},
   "outputs": [
    {
     "data": {
      "text/plain": [
       "{'C': 0.1}"
      ]
     },
     "execution_count": 317,
     "metadata": {},
     "output_type": "execute_result"
    }
   ],
   "source": [
    "logit_grid_search.best_params_"
   ]
  },
  {
   "cell_type": "code",
   "execution_count": 318,
   "metadata": {},
   "outputs": [
    {
     "data": {
      "text/plain": [
       "0.054119447873338035"
      ]
     },
     "execution_count": 318,
     "metadata": {},
     "output_type": "execute_result"
    }
   ],
   "source": [
    "logit_grid_search.best_score_"
   ]
  },
  {
   "cell_type": "code",
   "execution_count": 319,
   "metadata": {},
   "outputs": [],
   "source": [
    "logit_with_regularization = LogisticRegression(C=0.1)"
   ]
  },
  {
   "cell_type": "code",
   "execution_count": 320,
   "metadata": {},
   "outputs": [
    {
     "name": "stderr",
     "output_type": "stream",
     "text": [
      "/Users/testuser/anaconda3/lib/python3.6/site-packages/sklearn/linear_model/logistic.py:432: FutureWarning: Default solver will be changed to 'lbfgs' in 0.22. Specify a solver to silence this warning.\n",
      "  FutureWarning)\n"
     ]
    },
    {
     "data": {
      "text/plain": [
       "LogisticRegression(C=0.1, class_weight=None, dual=False, fit_intercept=True,\n",
       "          intercept_scaling=1, max_iter=100, multi_class='warn',\n",
       "          n_jobs=None, penalty='l2', random_state=None, solver='warn',\n",
       "          tol=0.0001, verbose=0, warm_start=False)"
      ]
     },
     "execution_count": 320,
     "metadata": {},
     "output_type": "execute_result"
    }
   ],
   "source": [
    "logit_with_regularization.fit(X_train, y_train)"
   ]
  },
  {
   "cell_type": "code",
   "execution_count": 321,
   "metadata": {},
   "outputs": [],
   "source": [
    "y_score = logit_with_regularization.predict_proba(X_val)"
   ]
  },
  {
   "cell_type": "code",
   "execution_count": 322,
   "metadata": {},
   "outputs": [
    {
     "data": {
      "image/png": "[encoded data removed]",
      "text/plain": [
       "<Figure size 432x288 with 1 Axes>"
      ]
     },
     "metadata": {},
     "output_type": "display_data"
    }
   ],
   "source": [
    "plot_roc_curve(y_val, y_score)"
   ]
  },
  {
   "cell_type": "code",
   "execution_count": 323,
   "metadata": {},
   "outputs": [
    {
     "data": {
      "image/png": "[encoded data removed]",
      "text/plain": [
       "<Figure size 432x288 with 1 Axes>"
      ]
     },
     "metadata": {},
     "output_type": "display_data"
    }
   ],
   "source": [
    "plot_precision_recall_curve(y_val, y_score)"
   ]
  },
  {
   "cell_type": "markdown",
   "metadata": {},
   "source": [
    "# CONCLUSION"
   ]
  },
  {
   "cell_type": "markdown",
   "metadata": {},
   "source": [
    "By far the best model was xgboost, both in terms of ROC AUC and average precision. Given more computing resources, it's performance could be further tuned by hypeparameter search (either grid or randomized search). "
   ]
  },
  {
   "cell_type": "markdown",
   "metadata": {},
   "source": [
    "To estimate final performance of the model, we will retrain it on both training and validatoin sets combined and report the final score on the test set. "
   ]
  },
  {
   "cell_type": "code",
   "execution_count": 324,
   "metadata": {},
   "outputs": [],
   "source": [
    "X = np.concatenate([X_train, X_val])"
   ]
  },
  {
   "cell_type": "code",
   "execution_count": 325,
   "metadata": {},
   "outputs": [],
   "source": [
    "y = np.concatenate([y_train, y_val])"
   ]
  },
  {
   "cell_type": "code",
   "execution_count": 326,
   "metadata": {},
   "outputs": [],
   "source": [
    "final_model = XGBClassifier()"
   ]
  },
  {
   "cell_type": "code",
   "execution_count": 327,
   "metadata": {},
   "outputs": [
    {
     "data": {
      "text/plain": [
       "XGBClassifier(base_score=0.5, booster='gbtree', colsample_bylevel=1,\n",
       "       colsample_bytree=1, gamma=0, learning_rate=0.1, max_delta_step=0,\n",
       "       max_depth=3, min_child_weight=1, missing=None, n_estimators=100,\n",
       "       n_jobs=1, nthread=None, objective='binary:logistic', random_state=0,\n",
       "       reg_alpha=0, reg_lambda=1, scale_pos_weight=1, seed=None,\n",
       "       silent=True, subsample=1)"
      ]
     },
     "execution_count": 327,
     "metadata": {},
     "output_type": "execute_result"
    }
   ],
   "source": [
    "final_model.fit(X,y)"
   ]
  },
  {
   "cell_type": "code",
   "execution_count": 328,
   "metadata": {},
   "outputs": [],
   "source": [
    "y_score = final_model.predict_proba(X_test)"
   ]
  },
  {
   "cell_type": "code",
   "execution_count": 329,
   "metadata": {},
   "outputs": [
    {
     "data": {
      "image/png": "[encoded data removed]",
      "text/plain": [
       "<Figure size 432x288 with 1 Axes>"
      ]
     },
     "metadata": {},
     "output_type": "display_data"
    }
   ],
   "source": [
    "plot_roc_curve(y_test, y_score)"
   ]
  },
  {
   "cell_type": "code",
   "execution_count": 330,
   "metadata": {},
   "outputs": [
    {
     "data": {
      "image/png": "[encoded data removed]",
      "text/plain": [
       "<Figure size 432x288 with 1 Axes>"
      ]
     },
     "metadata": {},
     "output_type": "display_data"
    }
   ],
   "source": [
    "plot_precision_recall_curve(y_test, y_score)"
   ]
  },
  {
   "cell_type": "markdown",
   "metadata": {},
   "source": [
    "Thus, final average precision on test set is 0.24, and final ROC AUC is 0.893"
   ]
  },
  {
   "cell_type": "code",
   "execution_count": null,
   "metadata": {},
   "outputs": [],
   "source": []
  }
 ],
 "metadata": {
  "kernelspec": {
   "display_name": "Python 3",
   "language": "python",
   "name": "python3"
  },
  "language_info": {
   "codemirror_mode": {
    "name": "ipython",
    "version": 3
   },
   "file_extension": ".py",
   "mimetype": "text/x-python",
   "name": "python",
   "nbconvert_exporter": "python",
   "pygments_lexer": "ipython3",
   "version": "3.6.5"
  }
 },
 "nbformat": 4,
 "nbformat_minor": 2
}
